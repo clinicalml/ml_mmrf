{
 "cells": [
  {
   "cell_type": "code",
   "execution_count": 1,
   "metadata": {},
   "outputs": [],
   "source": [
    "import pickle, os, sys\n",
    "import numpy as np\n",
    "import pandas as pd\n",
    "%matplotlib inline\n",
    "import matplotlib.pylab as plt\n",
    "import seaborn as sns\n",
    "plt.rc('font', family='serif')\n",
    "plt.rc('xtick', labelsize='x-large')\n",
    "plt.rc('ytick', labelsize='x-large')\n",
    "plt.rc('axes', labelsize='x-large')\n",
    "plt.rc('font', size=12)"
   ]
  },
  {
   "cell_type": "code",
   "execution_count": 2,
   "metadata": {},
   "outputs": [
    {
     "name": "stdout",
     "output_type": "stream",
     "text": [
      "dict_keys(['treatment', 'labs', 'baseline', 'outcomes', 'trt_outcomes'])\n",
      "dict_keys(['pids', 'data', 'obs', 'names'])\n",
      "dict_keys(['treatment', 'labs', 'baseline', 'outcomes', 'trt_outcomes'])\n",
      "dict_keys(['pids', 'data', 'obs', 'names'])\n"
     ]
    }
   ],
   "source": [
    "with open('1_mmrf_dataset_type.pkl','rb') as f:\n",
    "    dataset = pickle.load(f)\n",
    "with open('1_mmrf_dataset_2mos_type.pkl','rb') as f:\n",
    "    dataset_2mos = pickle.load(f)\n",
    "print (dataset.keys())\n",
    "print(dataset['baseline'].keys())\n",
    "print (dataset_2mos.keys())\n",
    "print(dataset_2mos['baseline'].keys())"
   ]
  },
  {
   "cell_type": "code",
   "execution_count": 3,
   "metadata": {},
   "outputs": [],
   "source": [
    "from process_tensors import clean_baseline, clean_labs, get_splits"
   ]
  },
  {
   "cell_type": "markdown",
   "metadata": {},
   "source": [
    "### Step 1: Restrict all data to share a global ordering over patient ids (from outcomes)\n",
    "* Plot distribution over outcomes"
   ]
  },
  {
   "cell_type": "code",
   "execution_count": 4,
   "metadata": {},
   "outputs": [],
   "source": [
    "new_dset = {}\n",
    "outcomes_type = 'trt_resp' # or 'mortality'\n",
    "\n",
    "if outcomes_type == 'mortality': \n",
    "    new_dset['patient_ids'] = dataset['outcomes']['pids']\n",
    "    new_dset['y_data']   = dataset['outcomes']['data']\n",
    "    new_dset['event_obs']= dataset['outcomes']['obs']\n",
    "elif outcomes_type == 'trt_resp':\n",
    "    new_dset['patient_ids'] = dataset['trt_outcomes']['pids']\n",
    "    new_dset['y_data']      = dataset['trt_outcomes']['data']\n",
    "    new_dset['event_obs']   = dataset['trt_outcomes']['obs']\n",
    "    new_dset['tr_names']    = dataset['trt_outcomes']['names']\n",
    "    \n",
    "pts = new_dset['patient_ids'].tolist()\n",
    "for k in ['treatment','labs','baseline']:\n",
    "    pts_src = dataset[k]['pids'].tolist()\n",
    "    idx_map = np.array([pts_src.index(v) for v in pts])\n",
    "    new_dset[k+'_data'] = dataset[k]['data'][idx_map]\n",
    "    new_dset[k+'_m']    = dataset[k]['obs'][idx_map]\n",
    "    new_dset[k+'_names']= dataset[k]['names']\n",
    "    \n",
    "new_dset_2mos = {}\n",
    "\n",
    "if outcomes_type == 'mortality':     \n",
    "    new_dset_2mos['patient_ids'] = dataset_2mos['outcomes']['pids']\n",
    "    new_dset_2mos['y_data']      = dataset_2mos['outcomes']['data']\n",
    "    new_dset_2mos['event_obs']   = dataset_2mos['outcomes']['obs']\n",
    "elif outcomes_type == 'trt_resp': \n",
    "    new_dset_2mos['patient_ids'] = dataset_2mos['trt_outcomes']['pids']\n",
    "    new_dset_2mos['y_data']      = dataset_2mos['trt_outcomes']['data']\n",
    "    new_dset_2mos['event_obs']   = dataset_2mos['trt_outcomes']['obs']\n",
    "    new_dset_2mos['tr_names']    = dataset_2mos['trt_outcomes']['names']\n",
    "    new_dset_2mos['ym_data']     = dataset_2mos['outcomes']['data']\n",
    "#     new_dset_2mos['ce']     = dataset_2mos['outcomes']['obs']\n",
    "\n",
    "pts = new_dset_2mos['patient_ids'].tolist()\n",
    "for k in ['treatment','labs','baseline']:\n",
    "    pts_src = dataset_2mos[k]['pids'].tolist()\n",
    "    idx_map = np.array([pts_src.index(v) for v in pts])\n",
    "    new_dset_2mos[k+'_data'] = dataset_2mos[k]['data'][idx_map]\n",
    "    new_dset_2mos[k+'_m']    = dataset_2mos[k]['obs'][idx_map]\n",
    "    new_dset_2mos[k+'_names']= dataset_2mos[k]['names']"
   ]
  },
  {
   "cell_type": "code",
   "execution_count": 5,
   "metadata": {},
   "outputs": [
    {
     "name": "stdout",
     "output_type": "stream",
     "text": [
      "shape of treatment data: (379, 36, 6)\n",
      "shape of lab data: (379, 36, 7)\n",
      "shape of baseline data: (379, 16)\n",
      "['serum_kappa' 'serum_m_protein' 'serum_iga' 'serum_igg' 'serum_igm'\n",
      " 'serum_lambda' 'urine_24hr_m_protein']\n"
     ]
    }
   ],
   "source": [
    "print(f'shape of treatment data: {new_dset_2mos[\"treatment_data\"].shape}')\n",
    "print(f'shape of lab data: {new_dset_2mos[\"labs_data\"].shape}')\n",
    "print(f'shape of baseline data: {new_dset_2mos[\"baseline_data\"].shape}')\n",
    "print(new_dset_2mos[\"labs_names\"])"
   ]
  },
  {
   "cell_type": "markdown",
   "metadata": {},
   "source": [
    "### Step 2: Visualize outcome values after scaling"
   ]
  },
  {
   "cell_type": "code",
   "execution_count": 6,
   "metadata": {},
   "outputs": [
    {
     "name": "stderr",
     "output_type": "stream",
     "text": [
      "/data/ml2/software/anaconda3/envs/disease_prog/lib/python3.7/site-packages/seaborn/distributions.py:2551: FutureWarning: `distplot` is a deprecated function and will be removed in a future version. Please adapt your code to use either `displot` (a figure-level function with similar flexibility) or `histplot` (an axes-level function for histograms).\n",
      "  warnings.warn(msg, FutureWarning)\n"
     ]
    },
    {
     "name": "stdout",
     "output_type": "stream",
     "text": [
      "179\n"
     ]
    },
    {
     "data": {
      "image/png": "[encoded data removed]",
      "text/plain": [
       "<Figure size 432x288 with 1 Axes>"
      ]
     },
     "metadata": {
      "needs_background": "light"
     },
     "output_type": "display_data"
    }
   ],
   "source": [
    "if outcomes_type == 'mortality':\n",
    "    fig, axlist = plt.subplots(1,1)\n",
    "    sns.distplot(new_dset['y_data'][new_dset['event_obs']==1],label='observed', ax = axlist, kde=False)\n",
    "    sns.distplot(new_dset['y_data'][new_dset['event_obs']==0],label='censored', ax = axlist, kde=False)\n",
    "    axlist.legend(fontsize=18)\n",
    "    axlist.set_xlim([0,70])\n",
    "elif outcomes_type == 'trt_resp': \n",
    "    fig, axlist = plt.subplots(1,1)\n",
    "    sns.distplot(new_dset['y_data'], ax = axlist, kde=False)\n",
    "    print(len(np.where(new_dset['y_data']==1.)[0]))"
   ]
  },
  {
   "cell_type": "code",
   "execution_count": 11,
   "metadata": {},
   "outputs": [
    {
     "name": "stdout",
     "output_type": "stream",
     "text": [
      "179\n"
     ]
    },
    {
     "data": {
      "image/png": "[encoded data removed]",
      "text/plain": [
       "<Figure size 432x288 with 1 Axes>"
      ]
     },
     "metadata": {
      "needs_background": "light"
     },
     "output_type": "display_data"
    }
   ],
   "source": [
    "if outcomes_type == 'mortality':\n",
    "    fig, axlist = plt.subplots(1,1)\n",
    "    sns.distplot(new_dset_2mos['y_data'][new_dset_2mos['event_obs']==1],label='observed', ax = axlist, kde=False)\n",
    "    sns.distplot(new_dset_2mos['y_data'][new_dset_2mos['event_obs']==0],label='censored', ax = axlist, kde=False)\n",
    "    axlist.legend(fontsize=18)\n",
    "    axlist.set_xlim([0,70])\n",
    "elif outcomes_type == 'trt_resp': \n",
    "    fig, axlist = plt.subplots(1,1)\n",
    "#     sns.distplot(new_dset_2mos['y_data'], ax = axlist, kde=False)\n",
    "    sns.distplot(new_dset_2mos['y_data'][new_dset_2mos['event_obs']==1],label='observed', ax = axlist, kde=False)\n",
    "    sns.distplot(new_dset_2mos['y_data'][new_dset_2mos['event_obs']==0],label='censored', ax = axlist, kde=False)\n",
    "    print(len(np.where(new_dset['y_data']==1.)[0]))\n",
    "    axlist.set_xlim([0,1])"
   ]
  },
  {
   "cell_type": "markdown",
   "metadata": {},
   "source": [
    "### Step 2: Clean baseline values (to be in a range -7 to 7ish where 0 corresponds to reference [max])"
   ]
  },
  {
   "cell_type": "code",
   "execution_count": 12,
   "metadata": {},
   "outputs": [],
   "source": [
    "# Reference values for lab measurements\n",
    "# min/max/scale (calculated by attempting to ensure that max labs lie b/w 5-8)\n",
    "healthy_mins_max = {\n",
    "    'cbc_abs_neut':(2., 7.5,1/3.), # abs neutrophil count (3.67, 1.), (2.83, 4.51)\n",
    "    'chem_albumin':(34, 50,1/8.), # chemical albumin (43.62, 2.77), (41.30, 45.94)\n",
    "    'chem_bun':(2.5, 7.1,1/5.), #BUN # reference range, (4.8, 1.15)\n",
    "    'chem_calcium':(2.2, 2.7,2.), #Calcium, (2.45, 0.125)\n",
    "    'chem_creatinine':(66, 112,1/36.), # creatinine, (83., 24.85), (62.22, 103.77)\n",
    "    'chem_glucose':(3.9, 6.9,1/5.), # glucose, (4.91, 0.40), (4.58, 5.24)\n",
    "    'cbc_hemoglobin':(13., 17.,1), # hemoglobin (12.90, 15.64), (8.86, 1.02)\n",
    "    'chem_ldh':(2.33, 4.67,1/3.), #LDH, (3.5, 0.585)\n",
    "    'serum_m_protein':(0.1, 1.1, 1), # M protein (<3 g/dL is MGUS, any presence of protein is pathological); am just using the data mean/std for this, (0.85, 1.89)\n",
    "    'urine_24hr_m_protein':(0.0, 0.1, 1), # Urine M protein \n",
    "    'cbc_platelet':(150, 400,1/60.), # platelet count (206.42, 334.57), (270.5, 76.63)\n",
    "    'chem_totprot':(6, 8,1/6.), # total protein, (7, 0.5)\n",
    "    'urine_24hr_total_protein':(0, 0.23, 1), # \n",
    "    'cbc_wbc':(3, 10,1/4.), # WBC  (5.71, 8.44), (7.07, 1.63)\n",
    "    'serum_iga':(0.85, 4.99, 1.), # IgA, (2.92, 1.035)\n",
    "    'serum_igg':(6.10, 16.16,1/10.), # IgG, (11.13, 2.515)\n",
    "    'serum_igm':(0.35, 2.42,1), #IgM, (1.385, 0.518)\n",
    "    'serum_lambda':(0.57, 2.63, 1/2.), #serum lambda, (1.6, 0.515)\n",
    "    'serum_kappa':(.33, 1.94,1/8.), #serum kappa , (1.135, 0.403)\n",
    "    'serum_beta2_microglobulin':(0.7, 1.80, 1/3.), #serum_beta2_microglobulin,\n",
    "    'serum_c_reactive_protein':(0.0, 1., 1.), #serum_c_reactive_protein,\n",
    "    'kl_ratio': (.26, 1.65, 1/60.), \n",
    "    'SERUMMCOMPONE': (0.,0.,1.), # don't scale the binary features \n",
    "    'URINEMCOMPONE': (0.,0.,1.),\n",
    "    'ONLYINPATIENT': (0.,0.,1.), \n",
    "    'ONLYINPATIENT2': (0.,0.,1.),\n",
    "    'DEVELOPMENTOF': (0.,0.,1.)\n",
    "}"
   ]
  },
  {
   "cell_type": "code",
   "execution_count": 13,
   "metadata": {},
   "outputs": [
    {
     "name": "stdout",
     "output_type": "stream",
     "text": [
      "A] Before cleaning\n",
      "idx, featurename, min, mean, max\n",
      "0 iss 1.0 1.9091239340751802 3.0\n",
      "1 age 27.0 64.35620052770449 93.0\n",
      "2 gender 1.0 1.395778364116095 2.0\n",
      "3 ecog 0.0 0.9256899548575069 4.0\n",
      "4 serum_beta2_microglobulin 0.21899999999999997 5.243271392245184 22.400000000000002\n",
      "5 PC1 -30.61327343 -2.0401884311043097 140.0614706\n",
      "6 PC2 -33.3253597 4.2040281726060185 115.7871011\n",
      "7 PC3 -52.15364387 -1.3184685734053119 51.23220332\n",
      "8 PC4 -35.67956674 -1.6774510286267308 44.84930211\n",
      "9 PC5 -37.58013775 -0.3282706951739725 50.21645239\n",
      "10 heavy_chain False 0.8443271767810027 True\n",
      "11 igg_type False 0.6174142480211082 True\n",
      "12 iga_type False 0.18469656992084432 True\n",
      "13 igm_type False 0.05804749340369393 True\n",
      "14 kappa_type False 0.6147757255936676 True\n",
      "15 lambda_type False 0.36939313984168864 True\n",
      "------\n",
      "------\n",
      "C] After cleaning\n",
      "0 iss 1.0 1.909124 3.0 False\n",
      "1 age -3.59588 -5.1583967e-08 2.7572308 False\n",
      "2 gender -1.0 -0.20844327 1.0 False\n",
      "3 ecog -0.06536664 -1.9501256e-08 0.21708915 False\n",
      "4 serum_beta2_microglobulin -0.35478365 -3.1453638e-08 1.2115042 False\n",
      "5 PC1 -2.0176582 -5.032582e-08 10.03436 False\n",
      "6 PC2 -2.6500983 -5.5358402e-08 7.8793206 False\n",
      "7 PC3 -3.5896723 6.2907275e-09 3.7108104 False\n",
      "8 PC4 -2.4010234 3.0195494e-08 3.2854376 False\n",
      "9 PC5 -2.6305015 -1.1323309e-08 3.5691624 False\n",
      "10 heavy_chain 0.0 0.84432715 1.0 False\n",
      "11 igg_type 0.0 0.61741424 1.0 False\n",
      "12 iga_type 0.0 0.18469657 1.0 False\n",
      "13 igm_type 0.0 0.058047492 1.0 False\n",
      "14 kappa_type 0.0 0.6147757 1.0 False\n",
      "15 lambda_type 0.0 0.36939314 1.0 False\n"
     ]
    }
   ],
   "source": [
    "clean_baseline(new_dset, healthy_mins_max)"
   ]
  },
  {
   "cell_type": "code",
   "execution_count": 14,
   "metadata": {},
   "outputs": [
    {
     "name": "stdout",
     "output_type": "stream",
     "text": [
      "A] Before cleaning\n",
      "idx, featurename, min, mean, max\n",
      "0 iss 1.0 1.9091239340751802 3.0\n",
      "1 age 27.0 64.35620052770449 93.0\n",
      "2 gender 1.0 1.395778364116095 2.0\n",
      "3 ecog 0.0 0.9256899548575069 4.0\n",
      "4 serum_beta2_microglobulin 0.21899999999999997 5.243271392245184 22.400000000000002\n",
      "5 PC1 -30.61327343 -2.0401884311043097 140.0614706\n",
      "6 PC2 -33.3253597 4.2040281726060185 115.7871011\n",
      "7 PC3 -52.15364387 -1.3184685734053119 51.23220332\n",
      "8 PC4 -35.67956674 -1.6774510286267308 44.84930211\n",
      "9 PC5 -37.58013775 -0.3282706951739725 50.21645239\n",
      "10 heavy_chain False 0.8443271767810027 True\n",
      "11 igg_type False 0.6174142480211082 True\n",
      "12 iga_type False 0.18469656992084432 True\n",
      "13 igm_type False 0.05804749340369393 True\n",
      "14 kappa_type False 0.6147757255936676 True\n",
      "15 lambda_type False 0.36939313984168864 True\n",
      "------\n",
      "------\n",
      "C] After cleaning\n",
      "0 iss 1.0 1.909124 3.0 False\n",
      "1 age -3.59588 -5.1583967e-08 2.7572308 False\n",
      "2 gender -1.0 -0.20844327 1.0 False\n",
      "3 ecog -0.06536664 -1.9501256e-08 0.21708915 False\n",
      "4 serum_beta2_microglobulin -0.35478365 -3.1453638e-08 1.2115042 False\n",
      "5 PC1 -2.0176582 -5.032582e-08 10.03436 False\n",
      "6 PC2 -2.6500983 -5.5358402e-08 7.8793206 False\n",
      "7 PC3 -3.5896723 6.2907275e-09 3.7108104 False\n",
      "8 PC4 -2.4010234 3.0195494e-08 3.2854376 False\n",
      "9 PC5 -2.6305015 -1.1323309e-08 3.5691624 False\n",
      "10 heavy_chain 0.0 0.84432715 1.0 False\n",
      "11 igg_type 0.0 0.61741424 1.0 False\n",
      "12 iga_type 0.0 0.18469657 1.0 False\n",
      "13 igm_type 0.0 0.058047492 1.0 False\n",
      "14 kappa_type 0.0 0.6147757 1.0 False\n",
      "15 lambda_type 0.0 0.36939314 1.0 False\n"
     ]
    }
   ],
   "source": [
    "clean_baseline(new_dset_2mos, healthy_mins_max)"
   ]
  },
  {
   "cell_type": "markdown",
   "metadata": {},
   "source": [
    "### Step 3: Clean time-series lab values"
   ]
  },
  {
   "cell_type": "code",
   "execution_count": 15,
   "metadata": {},
   "outputs": [
    {
     "name": "stdout",
     "output_type": "stream",
     "text": [
      "A] Before cleaning\n",
      "idx, featurename, min, mean, max\n",
      "0 serum_kappa 0.0 0.9662740148079817 14.649999999999999\n",
      "1 serum_m_protein 0.0 0.16180461175945673 5.5\n",
      "2 serum_iga 0.0 0.2489211279182549 9.15\n",
      "3 serum_igg 0.0 2.34343887916572 48.9\n",
      "4 serum_igm 0.0 0.06703812426913838 6.387499999999999\n",
      "5 serum_lambda 0.0 0.5574118385974366 11.45\n",
      "6 urine_24hr_m_protein 0.0 0.023097033913343338 5.0\n",
      "------\n",
      "B] Subtracting healthy max  1.94  from serum_kappa  and scaling:  0.125\n",
      "B] Subtracting healthy max  1.1  from serum_m_protein  and scaling:  1\n",
      "B] Subtracting healthy max  4.99  from serum_iga  and scaling:  1.0\n",
      "B] Subtracting healthy max  16.16  from serum_igg  and scaling:  0.1\n",
      "B] Subtracting healthy max  2.42  from serum_igm  and scaling:  1\n",
      "B] Subtracting healthy max  2.63  from serum_lambda  and scaling:  0.5\n",
      "B] Subtracting healthy max  0.1  from urine_24hr_m_protein  and scaling:  1\n",
      "------\n",
      "C] After cleaning\n",
      "0 serum_kappa -0.2425 -0.121715784 1.5887499\n",
      "1 serum_m_protein -1.1 -0.93819547 4.4\n",
      "2 serum_iga -4.99 -4.741078 4.16\n",
      "3 serum_igg -1.616 -1.3816559 3.2740002\n",
      "4 serum_igm -2.42 -2.3529618 3.9674997\n",
      "5 serum_lambda -1.315 -1.0362943 4.41\n",
      "6 urine_24hr_m_protein -0.1 -0.07690298 4.9\n",
      "A] Before cleaning\n",
      "idx, featurename, min, mean, max\n",
      "0 serum_kappa 0.0 1.762574993140344 14.649999999999999\n",
      "1 serum_m_protein 0.0 0.2941828319078753 5.5\n",
      "2 serum_iga 0.0 0.4524135219691607 9.15\n",
      "3 serum_igg 0.0 4.2588952010738295 48.9\n",
      "4 serum_igm 0.0 0.12219720320054438 6.387499999999999\n",
      "5 serum_lambda 0.0 1.0134025748077014 11.45\n",
      "6 urine_24hr_m_protein 0.0 0.04251531122166302 5.0\n",
      "------\n",
      "B] Subtracting healthy max  1.94  from serum_kappa  and scaling:  0.125\n",
      "B] Subtracting healthy max  1.1  from serum_m_protein  and scaling:  1\n",
      "B] Subtracting healthy max  4.99  from serum_iga  and scaling:  1.0\n",
      "B] Subtracting healthy max  16.16  from serum_igg  and scaling:  0.1\n",
      "B] Subtracting healthy max  2.42  from serum_igm  and scaling:  1\n",
      "B] Subtracting healthy max  2.63  from serum_lambda  and scaling:  0.5\n",
      "B] Subtracting healthy max  0.1  from urine_24hr_m_protein  and scaling:  1\n",
      "------\n",
      "C] After cleaning\n",
      "0 serum_kappa -0.2425 -0.022178149 1.5887499\n",
      "1 serum_m_protein -1.1 -0.80581725 4.4\n",
      "2 serum_iga -4.99 -4.5375857 4.16\n",
      "3 serum_igg -1.616 -1.1901104 3.2740002\n",
      "4 serum_igm -2.42 -2.2978027 3.9674997\n",
      "5 serum_lambda -1.315 -0.8082989 4.41\n",
      "6 urine_24hr_m_protein -0.1 -0.057484698 4.9\n"
     ]
    }
   ],
   "source": [
    "clean_labs(new_dset, healthy_mins_max)\n",
    "clean_labs(new_dset_2mos, healthy_mins_max)"
   ]
  },
  {
   "cell_type": "markdown",
   "metadata": {},
   "source": [
    "### Step 4: Get censorship balanced train/test splits"
   ]
  },
  {
   "cell_type": "code",
   "execution_count": 41,
   "metadata": {},
   "outputs": [
    {
     "name": "stdout",
     "output_type": "stream",
     "text": [
      "Total:  379\n",
      "Total:  283\n",
      "Fold:  0 212 71\n",
      "Event obs:  185 62\n",
      "Total:  283\n",
      "Fold:  1 212 71\n",
      "Event obs:  185 62\n",
      "Total:  283\n",
      "Fold:  2 212 71\n",
      "Event obs:  185 62\n",
      "Total:  283\n",
      "Fold:  3 212 71\n",
      "Event obs:  185 62\n",
      "Total:  283\n",
      "Fold:  4 212 71\n",
      "Event obs:  185 62\n",
      "[212  52 207 278 190 174  67 311 359  34  13 370 338 213 208 130 322 197\n",
      "  21 365 368 205  36  90 296  11 318  97  41 218  68  47  57 240 340 339\n",
      " 353 139 254  72 324 147 211  25  49   0 227 361 110 201 293 105 223 107\n",
      " 374 191  79  55 236 320 260 167 160 203 148 144  54 300 229  94 137 367\n",
      " 113 102  92 305 134 333  66 294  35  48 119 313 376  43  61 369 145 332\n",
      "  31 206 184 170 281 228]\n",
      "(98,)\n",
      "(114,)\n",
      "\n",
      "(30,)\n",
      "(41,)\n",
      "\n",
      "(51,)\n",
      "(45,)\n"
     ]
    }
   ],
   "source": [
    "# train_valid_folds, testidx = get_splits(new_dset['y_data'], nfolds=5)\n",
    "# print()\n",
    "train_valid_folds, testidx = get_splits(new_dset['event_obs'], nfolds=5)\n",
    "print(testidx)\n",
    "train0, valid0 = train_valid_folds[0]\n",
    "t0 = new_dset['y_data'][train0]\n",
    "v0 = new_dset['y_data'][valid0]\n",
    "print(np.where(t0 == 1.)[0].shape)\n",
    "print(np.where(t0 == 0.)[0].shape)\n",
    "print()\n",
    "print(np.where(v0 == 1.)[0].shape)\n",
    "print(np.where(v0 == 0.)[0].shape)\n",
    "print()\n",
    "test = new_dset['y_data'][testidx]\n",
    "print(np.where(test == 1.)[0].shape)\n",
    "print(np.where(test == 0.)[0].shape)"
   ]
  },
  {
   "cell_type": "code",
   "execution_count": 13,
   "metadata": {},
   "outputs": [
    {
     "name": "stdout",
     "output_type": "stream",
     "text": [
      "Reading...\n"
     ]
    }
   ],
   "source": [
    "if not os.path.exists('folds.pkl'):\n",
    "    train_valid_folds, testidx = get_splits(new_dset['event_obs'], nfolds = 5)\n",
    "    with open('folds.pkl','wb') as f:\n",
    "        pickle.dump((train_valid_folds, testidx),f)\n",
    "else:\n",
    "    print ('Reading...')\n",
    "    with open('folds.pkl','rb') as f:\n",
    "        train_valid_folds, testidx = pickle.load(f)"
   ]
  },
  {
   "cell_type": "markdown",
   "metadata": {},
   "source": [
    "### Step 5: Split dataset for 5 fold CV"
   ]
  },
  {
   "cell_type": "code",
   "execution_count": null,
   "metadata": {},
   "outputs": [],
   "source": [
    "for fold in range(5):\n",
    "    print ('Saving fold ', fold)\n",
    "    final_dataset = {}\n",
    "    final_dataset[fold] = {}\n",
    "    for tvt in ['train','valid','test']:\n",
    "        if  tvt =='test':\n",
    "            idx = testidx\n",
    "        elif tvt =='train':\n",
    "            idx = train_valid_folds[fold][0]\n",
    "        elif tvt == 'valid':\n",
    "            idx = train_valid_folds[fold][1]\n",
    "        else:\n",
    "            raise NotImplemented()\n",
    "        final_dataset[fold][tvt] = {}\n",
    "        final_dataset[fold][tvt]['pids']   = new_dset['patient_ids'][idx]\n",
    "        # labs\n",
    "        final_dataset[fold][tvt]['x']      = new_dset['labs_data_clean'][idx]\n",
    "        final_dataset[fold][tvt]['m']    = new_dset['labs_m'][idx]\n",
    "        final_dataset[fold][tvt]['feature_names_x']    = new_dset['labs_names']\n",
    "        # outcomes\n",
    "        final_dataset[fold][tvt]['ys_seq'] = new_dset['y_data'][idx].reshape(-1,1)\n",
    "        final_dataset[fold][tvt]['ce']     = (1.-new_dset['event_obs'][idx]).reshape(-1,1)\n",
    "        # baseline\n",
    "        final_dataset[fold][tvt]['b']      = new_dset['baseline_data_clean'][idx]\n",
    "        final_dataset[fold][tvt]['feature_names']    = new_dset['baseline_names']\n",
    "        # treatments\n",
    "        final_dataset[fold][tvt]['a']      = new_dset['treatment_data'][idx]\n",
    "        final_dataset[fold][tvt]['m_a']    = new_dset['treatment_m'][idx]\n",
    "        final_dataset[fold][tvt]['feature_names_a']    = new_dset['treatment_names']\n",
    "    \n",
    "    # Forward fill missing data in longitudinal lab tensors\n",
    "    for tvt in ['train','valid','test']:\n",
    "        x_new  = np.copy(final_dataset[fold][tvt]['x'])\n",
    "        x_new[final_dataset[fold][tvt]['m']==0] = np.nan\n",
    "        x_new_filled  = []\n",
    "        for k in range(x_new.shape[-1]):\n",
    "            x_new_filled.append(pd.DataFrame(x_new[...,k]).fillna(method='ffill', axis=1).values[...,None])\n",
    "        x_new_filled  = np.concatenate(x_new_filled, axis=-1)\n",
    "        assert not np.any(np.isnan(x_new_filled)),'should not be any nans'\n",
    "        final_dataset[fold][tvt]['x'] = x_new_filled\n",
    "    \n",
    "    # Restrict (in train/valid set) to patients with atleast two longitudinal observations\n",
    "    T_lb = 2\n",
    "    for tvt in ['train']:\n",
    "        M     = final_dataset[fold][tvt]['m']\n",
    "        M_t   = (M.sum(-1)>1.)*1.\n",
    "        all_t = M_t.sum(-1)\n",
    "        keep_idx = np.argwhere(all_t>T_lb).ravel()\n",
    "        if tvt == 'train':\n",
    "            C = final_dataset[fold][tvt]['ce']\n",
    "            print ('Before: N censored/total ',C.sum(), C.shape[0], C.sum()/C.shape[0])\n",
    "        for kk in ['a','x','m','ys_seq','ce','b','pids','m_a']:\n",
    "            final_dataset[fold][tvt][kk] = np.copy(final_dataset[fold][tvt][kk][keep_idx])\n",
    "        if tvt == 'train':\n",
    "            C = final_dataset[fold][tvt]['ce']\n",
    "            print ('After: N censored/total ',C.sum(), C.shape[0], C.sum()/C.shape[0])\n",
    "\n",
    "    with open('cleaned_mm'+str(fold)+'.pkl','wb') as f:\n",
    "        pickle.dump(final_dataset, f)"
   ]
  },
  {
   "cell_type": "code",
   "execution_count": 26,
   "metadata": {},
   "outputs": [
    {
     "data": {
      "text/plain": [
       "(380, 33, 6)"
      ]
     },
     "execution_count": 26,
     "metadata": {},
     "output_type": "execute_result"
    }
   ],
   "source": [
    "new_dset_2mos['treatment_data'].shape"
   ]
  },
  {
   "cell_type": "code",
   "execution_count": 42,
   "metadata": {},
   "outputs": [
    {
     "name": "stdout",
     "output_type": "stream",
     "text": [
      "trt_resp\n",
      "Saving fold  0\n",
      "train...\n",
      "Before: N censored/total  27.0 212 0.12735849056603774\n",
      "Before: Y class 0, N: 114\n",
      "Before: Y class 1, N: 98\n",
      "After: N censored/total  26.0 211 0.12322274881516587\n",
      "After: Y class 0, N: 113\n",
      "After: Y class 1, N: 98\n",
      "(211, 36, 7)\n",
      "valid...\n",
      "Before: N censored/total  9.0 71 0.1267605633802817\n",
      "Before: Y class 0, N: 41\n",
      "Before: Y class 1, N: 30\n",
      "test...\n",
      "Before: N censored/total  13.0 96 0.13541666666666666\n",
      "Before: Y class 0, N: 45\n",
      "Before: Y class 1, N: 51\n",
      "\n",
      "Saving fold  1\n",
      "train...\n",
      "Before: N censored/total  27.0 212 0.12735849056603774\n",
      "Before: Y class 0, N: 119\n",
      "Before: Y class 1, N: 93\n",
      "After: N censored/total  27.0 212 0.12735849056603774\n",
      "After: Y class 0, N: 119\n",
      "After: Y class 1, N: 93\n",
      "(212, 36, 7)\n",
      "valid...\n",
      "Before: N censored/total  9.0 71 0.1267605633802817\n",
      "Before: Y class 0, N: 36\n",
      "Before: Y class 1, N: 35\n",
      "test...\n",
      "Before: N censored/total  13.0 96 0.13541666666666666\n",
      "Before: Y class 0, N: 45\n",
      "Before: Y class 1, N: 51\n",
      "\n",
      "Saving fold  2\n",
      "train...\n",
      "Before: N censored/total  27.0 212 0.12735849056603774\n",
      "Before: Y class 0, N: 119\n",
      "Before: Y class 1, N: 93\n",
      "After: N censored/total  26.0 211 0.12322274881516587\n",
      "After: Y class 0, N: 118\n",
      "After: Y class 1, N: 93\n",
      "(211, 36, 7)\n",
      "valid...\n",
      "Before: N censored/total  9.0 71 0.1267605633802817\n",
      "Before: Y class 0, N: 36\n",
      "Before: Y class 1, N: 35\n",
      "test...\n",
      "Before: N censored/total  13.0 96 0.13541666666666666\n",
      "Before: Y class 0, N: 45\n",
      "Before: Y class 1, N: 51\n",
      "\n",
      "Saving fold  3\n",
      "train...\n",
      "Before: N censored/total  27.0 212 0.12735849056603774\n",
      "Before: Y class 0, N: 117\n",
      "Before: Y class 1, N: 95\n",
      "After: N censored/total  27.0 212 0.12735849056603774\n",
      "After: Y class 0, N: 117\n",
      "After: Y class 1, N: 95\n",
      "(212, 36, 7)\n",
      "valid...\n",
      "Before: N censored/total  9.0 71 0.1267605633802817\n",
      "Before: Y class 0, N: 38\n",
      "Before: Y class 1, N: 33\n",
      "test...\n",
      "Before: N censored/total  13.0 96 0.13541666666666666\n",
      "Before: Y class 0, N: 45\n",
      "Before: Y class 1, N: 51\n",
      "\n",
      "Saving fold  4\n",
      "train...\n",
      "Before: N censored/total  27.0 212 0.12735849056603774\n",
      "Before: Y class 0, N: 115\n",
      "Before: Y class 1, N: 97\n",
      "After: N censored/total  26.0 211 0.12322274881516587\n",
      "After: Y class 0, N: 114\n",
      "After: Y class 1, N: 97\n",
      "(211, 36, 7)\n",
      "valid...\n",
      "Before: N censored/total  9.0 71 0.1267605633802817\n",
      "Before: Y class 0, N: 40\n",
      "Before: Y class 1, N: 31\n",
      "test...\n",
      "Before: N censored/total  13.0 96 0.13541666666666666\n",
      "Before: Y class 0, N: 45\n",
      "Before: Y class 1, N: 51\n",
      "\n"
     ]
    }
   ],
   "source": [
    "print(outcomes_type)\n",
    "for fold in range(5):\n",
    "    print ('Saving fold ', fold)\n",
    "    final_dataset = {}\n",
    "    final_dataset[fold] = {}\n",
    "    for tvt in ['train','valid','test']:\n",
    "        if  tvt =='test':\n",
    "            idx = testidx\n",
    "        elif tvt =='train':\n",
    "            idx = train_valid_folds[fold][0]\n",
    "        elif tvt == 'valid':\n",
    "            idx = train_valid_folds[fold][1]\n",
    "        else:\n",
    "            raise NotImplemented()\n",
    "        final_dataset[fold][tvt] = {}\n",
    "        final_dataset[fold][tvt]['pids']               = new_dset_2mos['patient_ids'][idx]\n",
    "        # labs\n",
    "        final_dataset[fold][tvt]['x']                  = new_dset_2mos['labs_data_clean'][idx]\n",
    "        final_dataset[fold][tvt]['m']                  = new_dset_2mos['labs_m'][idx]\n",
    "        final_dataset[fold][tvt]['feature_names_x']    = new_dset_2mos['labs_names']\n",
    "        # outcomes\n",
    "        final_dataset[fold][tvt]['ys_seq'] = new_dset_2mos['y_data'][idx].reshape(-1,1)\n",
    "        final_dataset[fold][tvt]['ce']     = (1.-new_dset_2mos['event_obs'][idx]).reshape(-1,1)\n",
    "        if outcomes_type == 'trt_resp': \n",
    "            final_dataset[fold][tvt]['feature_names_y']    = new_dset_2mos['tr_names']\n",
    "        # baseline\n",
    "        final_dataset[fold][tvt]['b']      = new_dset_2mos['baseline_data_clean'][idx]\n",
    "        final_dataset[fold][tvt]['feature_names']    = new_dset_2mos['baseline_names']\n",
    "        # treatments\n",
    "        final_dataset[fold][tvt]['a']      = new_dset_2mos['treatment_data'][idx]\n",
    "        final_dataset[fold][tvt]['m_a']    = new_dset_2mos['treatment_m'][idx]\n",
    "        final_dataset[fold][tvt]['feature_names_a']    = new_dset_2mos['treatment_names']\n",
    "    \n",
    "    # Forward fill missing data in longitudinal lab tensors\n",
    "    for tvt in ['train','valid','test']:\n",
    "        x_new  = np.copy(final_dataset[fold][tvt]['x'])\n",
    "        x_new[final_dataset[fold][tvt]['m']==0] = np.nan\n",
    "        x_new_filled  = []\n",
    "        for k in range(x_new.shape[-1]):\n",
    "            x_new_filled.append(pd.DataFrame(x_new[...,k]).fillna(method='ffill', axis=1).values[...,None])\n",
    "        x_new_filled  = np.concatenate(x_new_filled, axis=-1)\n",
    "        assert not np.any(np.isnan(x_new_filled)),'should not be any nans'\n",
    "        final_dataset[fold][tvt]['x'] = x_new_filled\n",
    "    \n",
    "    # Restrict (in train/valid set) to patients with atleast two longitudinal observations\n",
    "    T_lb = 2\n",
    "    print(f'train...')\n",
    "    for tvt in ['train']:\n",
    "        M     = final_dataset[fold][tvt]['m']\n",
    "        M_t   = (M.sum(-1)>1.)*1.\n",
    "        all_t = M_t.sum(-1)\n",
    "        keep_idx = np.argwhere(all_t>T_lb).ravel()\n",
    "        if tvt == 'train':\n",
    "            if outcomes_type == 'mortality':\n",
    "                C = final_dataset[fold][tvt]['ce']\n",
    "                print ('Before: N censored/total ',C.sum(), C.shape[0], C.sum()/C.shape[0])\n",
    "            elif outcomes_type == 'trt_resp': \n",
    "                Y = final_dataset[fold][tvt]['ys_seq']\n",
    "                C = final_dataset[fold][tvt]['ce']\n",
    "                print ('Before: N censored/total ',C.sum(), C.shape[0], C.sum()/C.shape[0])\n",
    "                for i in range(np.max(Y)+1): \n",
    "                    print (f'Before: Y class {i}, N: {len(np.where(Y == i)[0])}')\n",
    "        for kk in ['a','x','m','ys_seq','ce','b','pids','m_a']:\n",
    "            final_dataset[fold][tvt][kk] = np.copy(final_dataset[fold][tvt][kk][keep_idx])\n",
    "        if tvt == 'train':\n",
    "            if outcomes_type == 'mortality':\n",
    "                C = final_dataset[fold][tvt]['ce']\n",
    "                print ('After: N censored/total ',C.sum(), C.shape[0], C.sum()/C.shape[0])\n",
    "            elif outcomes_type == 'trt_resp': \n",
    "                Y = final_dataset[fold][tvt]['ys_seq']\n",
    "                C = final_dataset[fold][tvt]['ce']\n",
    "                print ('After: N censored/total ',C.sum(), C.shape[0], C.sum()/C.shape[0])\n",
    "                for i in range(np.max(Y)+1): \n",
    "                    print (f'After: Y class {i}, N: {len(np.where(Y == i)[0])}')\n",
    "    print (final_dataset[fold]['train']['x'].shape)\n",
    "    for tvt in ['valid', 'test']: \n",
    "        print(f'{tvt}...')\n",
    "        if outcomes_type == 'mortality':\n",
    "            C = final_dataset[fold][tvt]['ce']\n",
    "            print ('Before: N censored/total ',C.sum(), C.shape[0], C.sum()/C.shape[0])\n",
    "        elif outcomes_type == 'trt_resp': \n",
    "            Y = final_dataset[fold][tvt]['ys_seq']\n",
    "            C = final_dataset[fold][tvt]['ce']\n",
    "            print ('Before: N censored/total ',C.sum(), C.shape[0], C.sum()/C.shape[0])\n",
    "            for i in range(np.max(Y)+1): \n",
    "                print (f'Before: Y class {i}, N: {len(np.where(Y == i)[0])}')\n",
    "    print()\n",
    "    with open('cleaned_mm'+str(fold)+'_2mos_tr.pkl','wb') as f:\n",
    "        pickle.dump(final_dataset, f)"
   ]
  },
  {
   "cell_type": "code",
   "execution_count": null,
   "metadata": {},
   "outputs": [],
   "source": []
  }
 ],
 "metadata": {
  "kernelspec": {
   "display_name": "Python 3",
   "language": "python",
   "name": "python3"
  },
  "language_info": {
   "codemirror_mode": {
    "name": "ipython",
    "version": 3
   },
   "file_extension": ".py",
   "mimetype": "text/x-python",
   "name": "python",
   "nbconvert_exporter": "python",
   "pygments_lexer": "ipython3",
   "version": "3.7.3"
  }
 },
 "nbformat": 4,
 "nbformat_minor": 4
}
