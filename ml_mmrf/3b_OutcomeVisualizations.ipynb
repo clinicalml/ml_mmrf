{
 "cells": [
  {
   "cell_type": "code",
   "execution_count": 1,
   "metadata": {},
   "outputs": [],
   "source": [
    "import torch\n",
    "import torch.nn as nn\n",
    "import numpy as np\n",
    "import sys \n",
    "import optuna \n",
    "import pandas as pd\n",
    "import pickle"
   ]
  },
  {
   "cell_type": "code",
   "execution_count": 2,
   "metadata": {},
   "outputs": [
    {
     "name": "stderr",
     "output_type": "stream",
     "text": [
      "/data/ml2/software/anaconda3/envs/disease_prog/lib/python3.7/site-packages/statsmodels/tools/_testing.py:19: FutureWarning: pandas.util.testing is deprecated. Use the functions in the public API at pandas.testing instead.\n",
      "  import pandas.util.testing as tm\n"
     ]
    },
    {
     "name": "stdout",
     "output_type": "stream",
     "text": [
      "['Solarize_Light2', '_classic_test_patch', 'bmh', 'classic', 'dark_background', 'fast', 'fivethirtyeight', 'ggplot', 'grayscale', 'seaborn', 'seaborn-bright', 'seaborn-colorblind', 'seaborn-dark', 'seaborn-dark-palette', 'seaborn-darkgrid', 'seaborn-deep', 'seaborn-muted', 'seaborn-notebook', 'seaborn-paper', 'seaborn-pastel', 'seaborn-poster', 'seaborn-talk', 'seaborn-ticks', 'seaborn-white', 'seaborn-whitegrid', 'tableau-colorblind10']\n"
     ]
    }
   ],
   "source": [
    "%matplotlib inline\n",
    "import matplotlib.pylab as plt\n",
    "import seaborn as sns\n",
    "\n",
    "## alternate font/graph format\n",
    "plt.rcParams['ps.useafm'] = True\n",
    "plt.rcParams['pdf.use14corefonts'] = True\n",
    "plt.rcParams['axes.facecolor'] = 'white'\n",
    "plt.rcParams['text.usetex'] = True\n",
    "plt.rc('font', weight='heavy')\n",
    "plt.rc('xtick', labelsize='x-large')\n",
    "plt.rc('ytick', labelsize='x-large')\n",
    "plt.rc('axes', labelsize='x-large')\n",
    "import matplotlib as mpl\n",
    "print(mpl.style.available)\n",
    "mpl.style.use('seaborn-talk')"
   ]
  },
  {
   "cell_type": "code",
   "execution_count": 3,
   "metadata": {},
   "outputs": [
    {
     "name": "stdout",
     "output_type": "stream",
     "text": [
      "dict_keys(['treatment', 'labs', 'baseline', 'os', 'pfs_nonasct', 'pfs_asct', 'pfs', 'trt_outcomes'])\n"
     ]
    }
   ],
   "source": [
    "data_dir = '/afs/csail.mit.edu/u/z/zeshanmh/research/longlearn/data/ml_mmrf/ml_mmrf/output/1_mmrf_dataset_2mos_type.pkl'\n",
    "with open(data_dir, 'rb') as f:\n",
    "    dset = pickle.load(f)\n",
    "print(dset.keys())"
   ]
  },
  {
   "cell_type": "code",
   "execution_count": 4,
   "metadata": {},
   "outputs": [
    {
     "data": {
      "text/plain": [
       "{'pids': array(['MMRF_1014', 'MMRF_1024', 'MMRF_1033', ..., 'MMRF_2754',\n",
       "        'MMRF_2781', 'MMRF_2840'], dtype=object),\n",
       " 'data': array([19.766666666666666, 40.85, 38.35, ..., 0.13333333333333333,\n",
       "        3.466666666666667, 0.4166666666666667], dtype=object),\n",
       " 'obs': array([0, 0, 0, ..., 1, 1, 1], dtype=object),\n",
       " 'names': array(['overall_survival'], dtype='<U16')}"
      ]
     },
     "execution_count": 4,
     "metadata": {},
     "output_type": "execute_result"
    }
   ],
   "source": [
    "dset['os']"
   ]
  },
  {
   "cell_type": "code",
   "execution_count": 23,
   "metadata": {},
   "outputs": [
    {
     "data": {
      "image/png": "[encoded data removed]",
      "text/plain": [
       "<Figure size 432x288 with 1 Axes>"
      ]
     },
     "metadata": {
      "needs_background": "light"
     },
     "output_type": "display_data"
    }
   ],
   "source": [
    "fig, ax = plt.subplots(1,1,figsize=(6,4))\n",
    "sns.distplot(dset['os']['data'][dset['os']['obs']==1],label='observed', ax = ax, kde=False)\n",
    "sns.distplot(dset['os']['data'][dset['os']['obs']==0],label='censored', ax = ax, kde=False)\n",
    "ax.legend(fontsize=18)\n",
    "ax.set_xlim([0,50])\n",
    "ax.tick_params(axis='y', labelsize=18)\n",
    "ax.tick_params(axis='x', labelsize=18)\n",
    "ax.set_title('Distribution of Overall Survival Times for all MM Patients')\n",
    "ax.set_ylabel('Count')\n",
    "ax.set_xlabel('Overall Survival Time (in two-month units)')\n",
    "fig.savefig('./hist_os.pdf',bbox_inches='tight')"
   ]
  },
  {
   "cell_type": "code",
   "execution_count": 22,
   "metadata": {},
   "outputs": [
    {
     "name": "stdout",
     "output_type": "stream",
     "text": [
      "(1001,)\n",
      "number of observed patients with OS time: 295\n",
      "number of observed patients with OS time: 706\n"
     ]
    }
   ],
   "source": [
    "print(dset['os']['data'].shape)\n",
    "print(f\"number of observed patients with OS time: {np.sum(dset['os']['obs'])}\")\n",
    "print(f\"number of censored patients with OS time: {np.where(dset['os']['obs'] == 0.)[0].shape[0]}\")\n"
   ]
  },
  {
   "cell_type": "code",
   "execution_count": 27,
   "metadata": {},
   "outputs": [
    {
     "name": "stdout",
     "output_type": "stream",
     "text": [
      "(501,)\n",
      "number of observed patients (non-ASCT) with PFS time: 382\n",
      "number of censored patients (non-ASCT) with PFS time: 119\n"
     ]
    }
   ],
   "source": [
    "print(dset['pfs_nonasct']['data'].shape)\n",
    "print(f\"number of observed patients (non-ASCT) with PFS time: {np.sum(dset['pfs_nonasct']['obs'])}\")\n",
    "print(f\"number of censored patients (non-ASCT) with PFS time: {np.where(dset['pfs_nonasct']['obs'] == 0.)[0].shape[0]}\")"
   ]
  },
  {
   "cell_type": "code",
   "execution_count": 68,
   "metadata": {},
   "outputs": [
    {
     "data": {
      "image/png": "[encoded data removed]",
      "text/plain": [
       "<Figure size 504x360 with 1 Axes>"
      ]
     },
     "metadata": {
      "needs_background": "light"
     },
     "output_type": "display_data"
    }
   ],
   "source": [
    "fig, ax = plt.subplots(1,1,figsize=(7,5))\n",
    "dobs = np.copy(dset['pfs_nonasct']['data'][dset['pfs_nonasct']['obs']==1])\n",
    "dobs_as = np.copy(dset['pfs_asct']['data'][dset['pfs_asct']['obs']==1])\n",
    "# print(dobs[dobs<10].shape)\n",
    "ax.axvline(x=9,color='k',linestyle='--', alpha=0.5, label='18 month mark')\n",
    "sns.distplot(dobs,label='nonasct', ax = ax, kde=False)\n",
    "sns.distplot(dobs_as,label='asct', ax = ax, kde=False)\n",
    "# sns.distplot(dset['pfs_nonasct']['data'][dset['pfs_nonasct']['obs']==0],label='censored', ax = ax, kde=False)\n",
    "ax.legend(fontsize=18)\n",
    "ax.set_xlim([0,50])\n",
    "ax.tick_params(axis='y', labelsize=18)\n",
    "ax.tick_params(axis='x', labelsize=18)\n",
    "ax.set_title('Distribution of PFS Times for ASCT and non-ASCT Patients (Observed)')\n",
    "ax.set_ylabel('Count')\n",
    "ax.set_xlabel('PFS (in two-month units)')\n",
    "fig.savefig('./hist_pfs_nonasct.pdf',bbox_inches='tight')\n"
   ]
  },
  {
   "cell_type": "code",
   "execution_count": 29,
   "metadata": {},
   "outputs": [
    {
     "name": "stdout",
     "output_type": "stream",
     "text": [
      "(600,)\n",
      "number of observed patients (ASCT) with PFS time: 473\n",
      "number of censored patients (ASCT) with PFS time: 127\n"
     ]
    }
   ],
   "source": [
    "print(dset['pfs_asct']['data'].shape)\n",
    "print(f\"number of observed patients (ASCT) with PFS time: {np.sum(dset['pfs_asct']['obs'])}\")\n",
    "print(f\"number of censored patients (ASCT) with PFS time: {np.where(dset['pfs_asct']['obs'] == 0.)[0].shape[0]}\")"
   ]
  },
  {
   "cell_type": "code",
   "execution_count": null,
   "metadata": {},
   "outputs": [],
   "source": [
    "fig, ax = plt.subplots(1,1,figsize=(6,4))\n",
    "dobs = np.copy(dset['pfs_asct']['data'][dset['pfs_nonasct']['obs']==1])\n",
    "# print(dobs[dobs<10].shape)\n",
    "# ax.axvline(x=9,color='k',linestyle='--', alpha=0.5, label='18 month mark')\n",
    "sns.distplot(dobs,label='observed', ax = ax, kde=False)\n",
    "# sns.distplot(dset['pfs_nonasct']['data'][dset['pfs_nonasct']['obs']==0],label='censored', ax = ax, kde=False)\n",
    "ax.legend(fontsize=18)\n",
    "# ax.set_xlim([0,70])\n",
    "ax.tick_params(axis='y', labelsize=18)\n",
    "ax.tick_params(axis='x', labelsize=18)\n",
    "ax.set_title('Distribution of PFS Times for ASCT Patients')\n",
    "ax.set_ylabel('Count')\n",
    "ax.set_xlabel('Overall Survival Time (in two-month units)')\n",
    "fig.savefig('./hist_pfs_nonasct.pdf',bbox_inches='tight')\n"
   ]
  },
  {
   "cell_type": "code",
   "execution_count": 5,
   "metadata": {},
   "outputs": [
    {
     "name": "stdout",
     "output_type": "stream",
     "text": [
      "loading from: /afs/csail.mit.edu/u/z/zeshanmh/research/longlearn/data/ml_mmrf/ml_mmrf/output/cleaned_mm_fold_2mos_trt_resp_ind_seed0.pkl\n",
      "adding synthetic marker in fold 2, set train...\n",
      "new shape of X: (212, 36, 17)\n",
      "new shape of M: (212, 36, 17)\n",
      "adding synthetic marker in fold 2, set valid...\n",
      "new shape of X: (71, 36, 17)\n",
      "new shape of M: (71, 36, 17)\n",
      "adding synthetic marker in fold 2, set test...\n",
      "new shape of X: (96, 36, 17)\n",
      "new shape of M: (96, 36, 17)\n",
      "restricting longitudinal markers in fold 2, set train...\n",
      "new shape of X: (212, 36, 2)\n",
      "new shape of M: (212, 36, 2)\n",
      "restricting longitudinal markers in fold 2, set valid...\n",
      "new shape of X: (71, 36, 2)\n",
      "new shape of M: (71, 36, 2)\n",
      "restricting longitudinal markers in fold 2, set test...\n",
      "new shape of X: (96, 36, 2)\n",
      "new shape of M: (96, 36, 2)\n"
     ]
    }
   ],
   "source": [
    "fold = 2\n",
    "from data import *\n",
    "data_dir = '/afs/csail.mit.edu/u/z/zeshanmh/research/longlearn/data/ml_mmrf/ml_mmrf/output/cleaned_mm_fold_2mos_trt_resp_ind_seed0.pkl'\n",
    "ddata = load_mmrf(fold_span = [fold], \\\n",
    "                              digitize_K = 0, \\\n",
    "                              digitize_method = 'uniform', \\\n",
    "                              data_dir=data_dir, \\\n",
    "                              restrict_markers=['serum_m_protein', 'syn_marker'], \\\n",
    "                              add_syn_marker=True, \\\n",
    "                              window='first_second', \\\n",
    "                              data_aug=False, \\\n",
    "                              ablation=False, \\\n",
    "                              feats=[])\n"
   ]
  },
  {
   "cell_type": "code",
   "execution_count": 11,
   "metadata": {},
   "outputs": [
    {
     "name": "stdout",
     "output_type": "stream",
     "text": [
      "Index(['iss', 'age', 'gender', 'ecog', 'serum_beta2_microglobulin', 'PC1',\n",
      "       'PC2', 'PC3', 'PC4', 'PC5', 'heavy_chain', 'igg_type', 'iga_type',\n",
      "       'igm_type', 'kappa_type', 'lambda_type'],\n",
      "      dtype='object')\n"
     ]
    }
   ],
   "source": [
    "print(ddata[fold]['test']['feature_names'])\n",
    "Bvalid = ddata[fold]['valid']['b']\n",
    "Btest  = ddata[fold]['test']['b']"
   ]
  },
  {
   "cell_type": "code",
   "execution_count": 28,
   "metadata": {},
   "outputs": [
    {
     "data": {
      "text/plain": [
       "Text(0.5, 0, 'Feature')"
      ]
     },
     "execution_count": 28,
     "metadata": {},
     "output_type": "execute_result"
    },
    {
     "data": {
      "image/png": "[encoded data removed]",
      "text/plain": [
       "<Figure size 432x288 with 1 Axes>"
      ]
     },
     "metadata": {
      "needs_background": "light"
     },
     "output_type": "display_data"
    }
   ],
   "source": [
    "fig, ax = plt.subplots(1,1,figsize=(6,4))\n",
    "sns.distplot(Bvalid[:,15],label='valid pc1', ax = ax, kde=False)\n",
    "sns.distplot(Btest[:,15],label='test pc1', ax = ax, kde=False)\n",
    "ax.legend(fontsize=18)\n",
    "# ax.set_xlim([0,50])\n",
    "ax.tick_params(axis='y', labelsize=18)\n",
    "ax.tick_params(axis='x', labelsize=18)\n",
    "ax.set_title('Distribution of Features for Valid-Test MM Patients')\n",
    "ax.set_ylabel('Count')\n",
    "ax.set_xlabel('Feature')\n",
    "# fig.savefig('./hist_os.pdf',bbox_inches='tight')\n"
   ]
  },
  {
   "cell_type": "code",
   "execution_count": 19,
   "metadata": {},
   "outputs": [
    {
     "name": "stderr",
     "output_type": "stream",
     "text": [
      "/data/ml2/software/anaconda3/envs/disease_prog/lib/python3.7/site-packages/ipykernel_launcher.py:7: SettingWithCopyWarning: \n",
      "A value is trying to be set on a copy of a slice from a DataFrame.\n",
      "Try using .loc[row_indexer,col_indexer] = value instead\n",
      "\n",
      "See the caveats in the documentation: https://pandas.pydata.org/pandas-docs/stable/user_guide/indexing.html#returning-a-view-versus-a-copy\n",
      "  import sys\n",
      "/data/ml2/software/anaconda3/envs/disease_prog/lib/python3.7/site-packages/ipykernel_launcher.py:8: SettingWithCopyWarning: \n",
      "A value is trying to be set on a copy of a slice from a DataFrame.\n",
      "Try using .loc[row_indexer,col_indexer] = value instead\n",
      "\n",
      "See the caveats in the documentation: https://pandas.pydata.org/pandas-docs/stable/user_guide/indexing.html#returning-a-view-versus-a-copy\n",
      "  \n",
      "/data/ml2/software/anaconda3/envs/disease_prog/lib/python3.7/site-packages/ipykernel_launcher.py:10: SettingWithCopyWarning: \n",
      "A value is trying to be set on a copy of a slice from a DataFrame.\n",
      "Try using .loc[row_indexer,col_indexer] = value instead\n",
      "\n",
      "See the caveats in the documentation: https://pandas.pydata.org/pandas-docs/stable/user_guide/indexing.html#returning-a-view-versus-a-copy\n",
      "  # Remove the CWD from sys.path while we load stuff.\n",
      "/data/ml2/software/anaconda3/envs/disease_prog/lib/python3.7/site-packages/ipykernel_launcher.py:11: SettingWithCopyWarning: \n",
      "A value is trying to be set on a copy of a slice from a DataFrame.\n",
      "Try using .loc[row_indexer,col_indexer] = value instead\n",
      "\n",
      "See the caveats in the documentation: https://pandas.pydata.org/pandas-docs/stable/user_guide/indexing.html#returning-a-view-versus-a-copy\n",
      "  # This is added back by InteractiveShellApp.init_path()\n"
     ]
    },
    {
     "name": "stdout",
     "output_type": "stream",
     "text": [
      "[ 274.  654.   nan  218.  248.   42.   nan  562.  703.   71.  541.   nan\n",
      "   66.  789.  427.  950. 1186.  700.   77.  331.  488. 1073.  491.  282.\n",
      "  908.  133.   nan  280.   nan   nan  724.   nan 1090.   nan   nan   nan\n",
      "   nan  343.   nan  455.  256.   nan   nan   nan   nan  708.   nan   nan\n",
      "   nan   nan   nan 1329.   nan  351.   nan   nan 1472.  840.  624.   nan\n",
      "   nan   nan  551. 1252.   nan  627.   nan  283.   nan  271.   nan   nan\n",
      "  389.   nan 1173. 1240.   nan   nan   nan   nan   nan   nan   nan   nan\n",
      "   nan   nan   nan   nan   nan  757.   nan   nan   nan   nan  737.   nan\n",
      "  970.   nan   nan   nan   nan 1240. 1055.   nan  284.  204.   nan  419.\n",
      "   nan  385.  199.  609.   nan   nan   nan   nan   nan   nan  394.   nan\n",
      "   nan  518.  178.   nan  349.  267.  481.  776.   nan   nan 1057.   nan\n",
      " 1196.  175.   69.   nan   nan   nan  197.  407.  415.   nan   nan   nan\n",
      "  884.   nan   nan  581.  502.  344.  616.  434.  447.  138. 1158.  312.\n",
      "  295.  613.  525.   nan  426.   nan   nan   nan  196.   nan  731.  799.\n",
      "   nan   nan  336.   nan  365.  136. 1228. 1073.  440.  845.  470.   nan\n",
      " 1230. 1094.  727.   nan   nan   nan   90.  630.   nan  534. 1765. 1197.\n",
      "   nan   nan   94.  206.   nan   nan  177.  134.  257. 1429.   nan  169.\n",
      "  427.   nan 1083.  372.  177.   nan   nan   nan   nan  113.  117. 1193.\n",
      "   nan 1052. 1355.   nan  272.  523. 1014.   nan   nan  527.   nan 1023.\n",
      "  910.  422.   nan  475.   nan  690.  139.  499.  283.   nan   nan  435.\n",
      "   nan 1214.   nan   nan   nan 1094.   nan 1293.   nan   nan   nan  996.\n",
      "  463.   nan   nan  715.  821.  836.   nan   nan  765.   nan   nan  814.\n",
      "  652.  204.   nan  970.   nan  278.   nan  485.   nan   nan   nan   nan\n",
      "   93.   nan   nan  834.  813.  772.   nan  113.  370.  979.  361.  581.\n",
      "   nan  531.   nan  458.   nan  552.  237.   nan  174.   59.  855.  634.\n",
      "  584.   nan   nan   nan  964. 1355.  829.   nan  429.   71.  204.  162.\n",
      "  727.  144.   81.  151. 1232.   93. 1094. 1283.  333.   nan  315.  110.\n",
      "   99.  239. 1115. 1202.  664.   nan   nan  904.   nan  201.   90.  994.\n",
      "  454.  625.  455.  760.  917.   nan  265.  323.  283.   nan   nan   nan\n",
      " 1033. 1493.   nan   nan  131.  190.   nan   nan   nan  438.   nan   nan\n",
      "  253.   nan   nan   nan  308.   nan   nan  986. 1119.  260.   nan   nan\n",
      "   nan  347. 1077.  295.   nan  296.   nan  800.  707.  268.   nan  610.\n",
      " 1252.  722.  167.   nan  259.  631.   nan   nan   nan   nan   93.  106.\n",
      "   nan   nan   nan   nan  520.  443.   nan 1154.   nan  452.  604.  634.\n",
      "  847.  677.  801.  761.  453. 1063.  281.  346. 1031.  638.  398.   nan\n",
      "   82.   nan   nan   nan 1140.   nan  630.  575.  344.   nan  907.   nan\n",
      "  998.  741.  610.   nan   nan  553.   nan   nan   nan   nan   nan   nan\n",
      "   nan   nan   nan   nan   nan   nan   nan   nan   nan   nan   nan   nan\n",
      "   nan   nan   nan   nan   nan   nan  124.   nan   nan  169.   nan   nan\n",
      "   nan   nan   nan   nan   nan   nan   nan   nan   nan   nan   nan   nan\n",
      "   nan   nan   nan   nan   nan   nan   nan   nan   nan   nan   nan   nan\n",
      "   nan   nan   nan   nan  203.   nan  225.   nan   nan]\n"
     ]
    },
    {
     "name": "stderr",
     "output_type": "stream",
     "text": [
      "/data/ml2/software/anaconda3/envs/disease_prog/lib/python3.7/site-packages/ipykernel_launcher.py:15: SettingWithCopyWarning: \n",
      "A value is trying to be set on a copy of a slice from a DataFrame.\n",
      "Try using .loc[row_indexer,col_indexer] = value instead\n",
      "\n",
      "See the caveats in the documentation: https://pandas.pydata.org/pandas-docs/stable/user_guide/indexing.html#returning-a-view-versus-a-copy\n",
      "  from ipykernel import kernelapp as app\n"
     ]
    },
    {
     "name": "stdout",
     "output_type": "stream",
     "text": [
      "[ 274.  654. 1753.  218.  248.   42. 2098.  562.  703.   71.  541. 1999.\n",
      "   66.  789.  427.  950. 1186.  700.   77.  331.  488. 1073.  491.  282.\n",
      "  908.  133.  668.  280.  152. 1765.  724.  628. 1090.   88.  722. 1170.\n",
      " 1962.  343. 1124.  455.  256.  167.  320.  267.  778.  708.  120.  259.\n",
      "  319.   74.  141. 1329. 1886.  351.  692. 2360. 1472.  840.  624. 1282.\n",
      " 2223.  250.  551. 1252.   85.  627.  519.  283. 2007.  271. 1970. 1920.\n",
      "  389. 1511. 1173. 1240. 1176. 1733. 1674. 1163. 1625. 1506.  305.  292.\n",
      "  450. 1505. 1473. 1450. 1421.  757. 1316.   86.  907.  746.  737. 1255.\n",
      "  970.  520. 1151.  116.  438. 1240. 1055.  111.  284.  204. 1803.  419.\n",
      "  373.  385.  199.  609. 2360.  601.  268.  153. 1982. 1966.  394.  207.\n",
      " 1401.  518.  178.  352.  349.  267.  481.  776. 1190. 1442. 1057. 1233.\n",
      " 1196.  175.   69.  238.  479.  485.  197.  407.  415. 1553. 1371.  201.\n",
      "  884. 2209. 1785.  581.  502.  344.  616.  434.  447.  138. 1158.  312.\n",
      "  295.  613.  525. 1119.  426. 1245. 1371. 2165.  196. 2147.  731.  799.\n",
      " 1687.  134.  336. 1374.  365.  136. 1228. 1073.  440.  845.  470. 1545.\n",
      " 1230. 1094.  727. 1278. 2167. 1180.   90.  630.  684.  534. 1765. 1197.\n",
      " 1638. 1524.   94.  206. 1989. 1786.  177.  134.  257. 1429. 1192.  169.\n",
      "  427.  409. 1083.  372.  177. 1612. 1410. 1398. 1831.  113.  117. 1193.\n",
      " 2125. 1052. 1355. 1770.  272.  523. 1014. 1513. 1520.  527. 1344. 1023.\n",
      "  910.  422.  364.  475. 1507.  690.  139.  499.  283.  423. 1554.  435.\n",
      " 1995. 1214. 1083. 1814. 1687. 1094. 1563. 1293. 1634.  826. 1548.  996.\n",
      "  463. 1345.  944.  715.  821.  836. 1268. 1268.  765. 1184. 1184.  814.\n",
      "  652.  204. 1356.  970. 1717.  278.  258.  485.  936. 1275.  157.  841.\n",
      "   93. 1016.  360.  834.  813.  772. 1260.  113.  370.  979.  361.  581.\n",
      "  420.  531.  642.  458. 1675.  552.  237.  213.  174.   59.  855.  634.\n",
      "  584.  328.  142. 1252.  964. 1355.  829. 1231.  429.   71.  204.  162.\n",
      "  727.  144.   81.  151. 1232.   93. 1094. 1283.  333. 1590.  315.  110.\n",
      "   99.  239. 1115. 1202.  664. 1122. 1300.  904. 1085.  201.   90.  994.\n",
      "  454.  625.  455.  760.  917. 1360.  265.  323.  283.  123.  745.  101.\n",
      " 1033. 1493.  519. 1246.  131.  190.  454.  604.  527.  438.  323. 1436.\n",
      "  253. 1156. 1169. 1171.  308. 1089. 1186.  986. 1119.  260.  636.  626.\n",
      "  384.  347. 1077.  295. 1556.  296. 1128.  800.  707.  268.  125.  610.\n",
      " 1252.  722.  167.  654.  259.  631.  318.  264.   81.  231.   93.  106.\n",
      "  206.   51.  260.  761.  520.  443.   91. 1154. 1233.  452.  604.  634.\n",
      "  847.  677.  801.  761.  453. 1063.  281.  346. 1031.  638.  398.  741.\n",
      "   82. 1117.   66.   96. 1140.  156.  630.  575.  344. 1513.  907.   76.\n",
      "  998.  741.  610.  604.  292.  553.  232.  567.  190.  540.  528.  484.\n",
      "  230.  330.  475.  324.  268.  467.  431.  318.   99.  196.  413.  426.\n",
      "  428.  206.  352.  181.  353.  148.  124.  143.  166.  169.  154.  367.\n",
      "  392.  398.  343.  339.  330.  128.  351.  344.  359.  323.  337.  196.\n",
      "  186.  133.  169.  117.  134.  157.  183.  167.  310.  158.  239.  173.\n",
      "  119.  169.  210.  143.  203.  126.  225.  203.  163.]\n"
     ]
    },
    {
     "name": "stderr",
     "output_type": "stream",
     "text": [
      "/data/ml2/software/anaconda3/envs/disease_prog/lib/python3.7/site-packages/ipykernel_launcher.py:18: SettingWithCopyWarning: \n",
      "A value is trying to be set on a copy of a slice from a DataFrame.\n",
      "Try using .loc[row_indexer,col_indexer] = value instead\n",
      "\n",
      "See the caveats in the documentation: https://pandas.pydata.org/pandas-docs/stable/user_guide/indexing.html#returning-a-view-versus-a-copy\n"
     ]
    },
    {
     "name": "stdout",
     "output_type": "stream",
     "text": [
      "1    306\n",
      "0    195\n",
      "Name: progress, dtype: int64\n",
      "       Patient  Progression  Dead  Progression Day  Last Alive/Dead  progress  \\\n",
      "1    MMRF_1024            1     0            654.0             2451         1   \n",
      "2    MMRF_1038            0     1           1753.0             1753         1   \n",
      "7    MMRF_1129            1     1            562.0              610         1   \n",
      "8    MMRF_1130            1     0            703.0             2139         1   \n",
      "10   MMRF_1193            1     1            541.0             1564         1   \n",
      "..         ...          ...   ...              ...              ...       ...   \n",
      "430  MMRF_2268            1     0            907.0             1425         1   \n",
      "432  MMRF_2558            1     0            998.0             1087         1   \n",
      "433  MMRF_2195            1     0            741.0             1429         1   \n",
      "434  MMRF_2317            1     0            610.0              610         1   \n",
      "437  MMRF_2639            1     0            553.0              553         1   \n",
      "\n",
      "     progress_day  \n",
      "1             654  \n",
      "2            1753  \n",
      "7             562  \n",
      "8             703  \n",
      "10            541  \n",
      "..            ...  \n",
      "430           907  \n",
      "432           998  \n",
      "433           741  \n",
      "434           610  \n",
      "437           553  \n",
      "\n",
      "[137 rows x 7 columns]\n",
      "       Patient  Progression  Dead  Progression Day  Last Alive/Dead  progress  \\\n",
      "6    MMRF_1093            0     0           2098.0             2098         0   \n",
      "11   MMRF_1256            0     0           1999.0             1999         0   \n",
      "29   MMRF_1537            0     0           1765.0             1765         0   \n",
      "34   MMRF_2291            0     0            722.0              722         0   \n",
      "35   MMRF_2506            0     0           1170.0             1170         0   \n",
      "..         ...          ...   ...              ...              ...       ...   \n",
      "421  MMRF_2518            0     0           1117.0             1117         0   \n",
      "429  MMRF_2016            0     0           1513.0             1513         0   \n",
      "435  MMRF_2609            0     0            604.0              604         0   \n",
      "439  MMRF_2642            0     0            567.0              567         0   \n",
      "441  MMRF_2648            0     0            540.0              540         0   \n",
      "\n",
      "     progress_day  \n",
      "6            2098  \n",
      "11           1999  \n",
      "29           1765  \n",
      "34            722  \n",
      "35           1170  \n",
      "..            ...  \n",
      "421          1117  \n",
      "429          1513  \n",
      "435           604  \n",
      "439           567  \n",
      "441           540  \n",
      "\n",
      "[111 rows x 7 columns]\n",
      "       Patient  Progression  Dead  Progression Day  Last Alive/Dead  progress  \\\n",
      "0    MMRF_1017            1     1            274.0              508         1   \n",
      "3    MMRF_1033            1     0            218.0             2301         1   \n",
      "4    MMRF_1007            1     1            248.0              327         1   \n",
      "5    MMRF_1052            1     1             42.0              314         1   \n",
      "9    MMRF_1132            1     1             71.0              238         1   \n",
      "..         ...          ...   ...              ...              ...       ...   \n",
      "451  MMRF_2692            0     1            318.0              318         1   \n",
      "462  MMRF_2720            1     1            124.0              291         1   \n",
      "465  MMRF_2722            1     1            169.0              292         1   \n",
      "496  MMRF_2833            1     0            203.0              203         1   \n",
      "498  MMRF_2838            1     0            225.0              237         1   \n",
      "\n",
      "     progress_day  \n",
      "0             274  \n",
      "3             218  \n",
      "4             248  \n",
      "5              42  \n",
      "9              71  \n",
      "..            ...  \n",
      "451           318  \n",
      "462           124  \n",
      "465           169  \n",
      "496           203  \n",
      "498           225  \n",
      "\n",
      "[169 rows x 7 columns]\n",
      "       Patient  Progression  Dead  Progression Day  Last Alive/Dead  progress  \\\n",
      "33   MMRF_2152            0     0             88.0               88         0   \n",
      "46   MMRF_1721            0     0            120.0              120         0   \n",
      "48   MMRF_2057            0     0            319.0              319         0   \n",
      "66   MMRF_1244            0     0            519.0              519         0   \n",
      "82   MMRF_1963            0     0            305.0              305         0   \n",
      "..         ...          ...   ...              ...              ...       ...   \n",
      "494  MMRF_2829            0     0            210.0              210         0   \n",
      "495  MMRF_2830            0     0            143.0              143         0   \n",
      "497  MMRF_2834            0     0            126.0              126         0   \n",
      "499  MMRF_2843            0     0            203.0              203         0   \n",
      "500  MMRF_2847            0     0            163.0              163         0   \n",
      "\n",
      "     progress_day  \n",
      "33             88  \n",
      "46            120  \n",
      "48            319  \n",
      "66            519  \n",
      "82            305  \n",
      "..            ...  \n",
      "494           210  \n",
      "495           143  \n",
      "497           126  \n",
      "499           203  \n",
      "500           163  \n",
      "\n",
      "[84 rows x 7 columns]\n"
     ]
    }
   ],
   "source": [
    "import os\n",
    "fdir = '/afs/csail.mit.edu/group/clinicalml/datasets/multiple_myeloma/ia15'\n",
    "# fdir = os.path.join(fdir,'CoMMpass_'+self.ia_version.upper()+'_FlatFiles/*.csv')\n",
    "survival_ASCT = pd.read_csv(os.path.join(fdir,'MMRF_OS_PFS_ASCT.csv'), delimiter=',', encoding='latin-1')\n",
    "survival_nonASCT = pd.read_csv(os.path.join(fdir,'MMRF_OS_PFS_non-ASCT.csv'), delimiter=',', encoding='latin-1')\n",
    "nonASCT_PFS = survival_nonASCT[['Patient', 'Progression', 'Dead', 'Progression Day', 'Last Alive/Dead']]\n",
    "nonASCT_PFS['Progression']=nonASCT_PFS.Progression.map({'yes':1, 'no':0})\n",
    "nonASCT_PFS['Dead']=nonASCT_PFS.Dead.map({'yes':1, 'no':0})\n",
    "#if either died or progressed, should have a \"1\" under \"progress\" (0 implies censorship)\n",
    "nonASCT_PFS['progress'] = nonASCT_PFS['Dead'] + nonASCT_PFS['Progression']\n",
    "nonASCT_PFS['progress'] = np.where(nonASCT_PFS['progress']==0, 0, 1)\n",
    "#progress_day should be min of Progression Day and Last Alive.Dead\n",
    "# nonASCT_PFS.loc[nonASCT_PFS['Progression Day']==\"none\",'Progression Day']=9999999 #temporarily map no progression to large number to help engineer col\n",
    "print(nonASCT_PFS['Progression Day'].values)\n",
    "nonASCT_PFS['Progression Day'] = nonASCT_PFS['Progression Day'].fillna(nonASCT_PFS['Last Alive/Dead'])\n",
    "print(nonASCT_PFS['Progression Day'].values)\n",
    "\n",
    "nonASCT_PFS['progress_day'] = nonASCT_PFS[['Progression Day', 'Last Alive/Dead']].astype(int).min(axis=1) #both columns must be type int before comparing\n",
    "print(nonASCT_PFS.progress.value_counts())\n",
    "\n",
    "sub = nonASCT_PFS[nonASCT_PFS['progress_day']<540]\n",
    "sub2= nonASCT_PFS[nonASCT_PFS['progress_day']>=540]\n",
    "\n",
    "print(sub2[sub2['progress'] == 1]) # e_bin should be 1; e should be 1 \n",
    "print(sub2[sub2['progress'] == 0]) # e_bin should be 1; e should be 0\n",
    "print(sub[sub['progress'] == 1]) # e_bin should be 1; e should be 1\n",
    "print(sub[sub['progress'] == 0]) # e_bin should be 0; e should be 0"
   ]
  },
  {
   "cell_type": "code",
   "execution_count": 22,
   "metadata": {},
   "outputs": [
    {
     "name": "stderr",
     "output_type": "stream",
     "text": [
      "/data/ml2/software/anaconda3/envs/disease_prog/lib/python3.7/site-packages/ipykernel_launcher.py:3: SettingWithCopyWarning: \n",
      "A value is trying to be set on a copy of a slice from a DataFrame.\n",
      "Try using .loc[row_indexer,col_indexer] = value instead\n",
      "\n",
      "See the caveats in the documentation: https://pandas.pydata.org/pandas-docs/stable/user_guide/indexing.html#returning-a-view-versus-a-copy\n",
      "  This is separate from the ipykernel package so we can avoid doing imports until\n",
      "/data/ml2/software/anaconda3/envs/disease_prog/lib/python3.7/site-packages/ipykernel_launcher.py:4: SettingWithCopyWarning: \n",
      "A value is trying to be set on a copy of a slice from a DataFrame.\n",
      "Try using .loc[row_indexer,col_indexer] = value instead\n",
      "\n",
      "See the caveats in the documentation: https://pandas.pydata.org/pandas-docs/stable/user_guide/indexing.html#returning-a-view-versus-a-copy\n",
      "  after removing the cwd from sys.path.\n",
      "/data/ml2/software/anaconda3/envs/disease_prog/lib/python3.7/site-packages/ipykernel_launcher.py:6: SettingWithCopyWarning: \n",
      "A value is trying to be set on a copy of a slice from a DataFrame.\n",
      "Try using .loc[row_indexer,col_indexer] = value instead\n",
      "\n",
      "See the caveats in the documentation: https://pandas.pydata.org/pandas-docs/stable/user_guide/indexing.html#returning-a-view-versus-a-copy\n",
      "  \n",
      "/data/ml2/software/anaconda3/envs/disease_prog/lib/python3.7/site-packages/ipykernel_launcher.py:7: SettingWithCopyWarning: \n",
      "A value is trying to be set on a copy of a slice from a DataFrame.\n",
      "Try using .loc[row_indexer,col_indexer] = value instead\n",
      "\n",
      "See the caveats in the documentation: https://pandas.pydata.org/pandas-docs/stable/user_guide/indexing.html#returning-a-view-versus-a-copy\n",
      "  import sys\n",
      "/data/ml2/software/anaconda3/envs/disease_prog/lib/python3.7/site-packages/pandas/core/indexing.py:1763: SettingWithCopyWarning: \n",
      "A value is trying to be set on a copy of a slice from a DataFrame.\n",
      "Try using .loc[row_indexer,col_indexer] = value instead\n",
      "\n",
      "See the caveats in the documentation: https://pandas.pydata.org/pandas-docs/stable/user_guide/indexing.html#returning-a-view-versus-a-copy\n",
      "  isetter(loc, value)\n"
     ]
    },
    {
     "name": "stdout",
     "output_type": "stream",
     "text": [
      "0    344\n",
      "1    256\n",
      "Name: progress, dtype: int64\n"
     ]
    },
    {
     "name": "stderr",
     "output_type": "stream",
     "text": [
      "/data/ml2/software/anaconda3/envs/disease_prog/lib/python3.7/site-packages/ipykernel_launcher.py:14: SettingWithCopyWarning: \n",
      "A value is trying to be set on a copy of a slice from a DataFrame.\n",
      "Try using .loc[row_indexer,col_indexer] = value instead\n",
      "\n",
      "See the caveats in the documentation: https://pandas.pydata.org/pandas-docs/stable/user_guide/indexing.html#returning-a-view-versus-a-copy\n",
      "  \n",
      "/data/ml2/software/anaconda3/envs/disease_prog/lib/python3.7/site-packages/ipykernel_launcher.py:15: SettingWithCopyWarning: \n",
      "A value is trying to be set on a copy of a slice from a DataFrame.\n",
      "Try using .loc[row_indexer,col_indexer] = value instead\n",
      "\n",
      "See the caveats in the documentation: https://pandas.pydata.org/pandas-docs/stable/user_guide/indexing.html#returning-a-view-versus-a-copy\n",
      "  from ipykernel import kernelapp as app\n"
     ]
    },
    {
     "name": "stdout",
     "output_type": "stream",
     "text": [
      "1    306\n",
      "0    195\n",
      "Name: progress, dtype: int64\n",
      "       Patient  Post-ASCT Progression  Dead  Post-ASCT Progression Day  \\\n",
      "0    MMRF_1011                      1     0                     1613.0   \n",
      "1    MMRF_1013                      1     1                     1333.0   \n",
      "5    MMRF_1030                      1     0                     1984.0   \n",
      "9    MMRF_1048                      1     0                     1770.0   \n",
      "13   MMRF_1057                      1     0                     1138.0   \n",
      "..         ...                    ...   ...                        ...   \n",
      "407  MMRF_2284                      1     0                     1317.0   \n",
      "423  MMRF_2344                      1     0                     1241.0   \n",
      "480  MMRF_2545                      1     0                     1097.0   \n",
      "495  MMRF_2587                      1     0                     1178.0   \n",
      "507  MMRF_2619                      1     0                     1453.0   \n",
      "\n",
      "     Last Alive/Dead  progress  progress_day  \n",
      "0               1969         1          1613  \n",
      "1               2226         1          1333  \n",
      "5               2493         1          1984  \n",
      "9               2357         1          1770  \n",
      "13              2376         1          1138  \n",
      "..               ...       ...           ...  \n",
      "407             1317         1          1317  \n",
      "423             1324         1          1241  \n",
      "480             1185         1          1097  \n",
      "495             1178         1          1178  \n",
      "507             1586         1          1453  \n",
      "\n",
      "[89 rows x 7 columns]\n",
      "       Patient  Post-ASCT Progression  Dead  Post-ASCT Progression Day  \\\n",
      "2    MMRF_1014                      0     0                     1157.0   \n",
      "6    MMRF_1034                      0     0                     1661.0   \n",
      "10   MMRF_1049                      0     0                     2346.0   \n",
      "14   MMRF_1059                      0     0                     2321.0   \n",
      "17   MMRF_1065                      0     0                     2326.0   \n",
      "..         ...                    ...   ...                        ...   \n",
      "492  MMRF_2579                      0     0                     1151.0   \n",
      "497  MMRF_2592                      0     0                     1171.0   \n",
      "501  MMRF_2597                      0     0                     1178.0   \n",
      "505  MMRF_2611                      0     0                     1138.0   \n",
      "506  MMRF_2614                      0     0                     1184.0   \n",
      "\n",
      "     Last Alive/Dead  progress  progress_day  \n",
      "2               1157         0          1157  \n",
      "6               1661         0          1661  \n",
      "10              2346         0          2346  \n",
      "14              2321         0          2321  \n",
      "17              2326         0          2326  \n",
      "..               ...       ...           ...  \n",
      "492             1151         0          1151  \n",
      "497             1171         0          1171  \n",
      "501             1178         0          1178  \n",
      "505             1138         0          1138  \n",
      "506             1184         0          1184  \n",
      "\n",
      "[229 rows x 7 columns]\n",
      "       Patient  Post-ASCT Progression  Dead  Post-ASCT Progression Day  \\\n",
      "3    MMRF_1020                      1     1                      506.0   \n",
      "4    MMRF_1021                      1     0                      532.0   \n",
      "7    MMRF_1039                      1     0                      995.0   \n",
      "8    MMRF_1046                      1     0                      176.0   \n",
      "11   MMRF_1055                      1     1                      244.0   \n",
      "..         ...                    ...   ...                        ...   \n",
      "496  MMRF_2589                      1     1                      794.0   \n",
      "498  MMRF_2593                      1     0                     1072.0   \n",
      "499  MMRF_2595                      1     0                      288.0   \n",
      "500  MMRF_2596                      0     1                      139.0   \n",
      "503  MMRF_2605                      1     0                      588.0   \n",
      "\n",
      "     Last Alive/Dead  progress  progress_day  \n",
      "3               2150         1           506  \n",
      "4               2482         1           532  \n",
      "7               1794         1           995  \n",
      "8               2297         1           176  \n",
      "11               580         1           244  \n",
      "..               ...       ...           ...  \n",
      "496              911         1           794  \n",
      "498             1072         1          1072  \n",
      "499             1185         1           288  \n",
      "500              139         1           139  \n",
      "503             1148         1           588  \n",
      "\n",
      "[167 rows x 7 columns]\n",
      "       Patient  Post-ASCT Progression  Dead  Post-ASCT Progression Day  \\\n",
      "20   MMRF_1070                      0     0                      906.0   \n",
      "27   MMRF_1080                      0     0                      764.0   \n",
      "48   MMRF_1138                      0     0                      819.0   \n",
      "69   MMRF_1195                      0     0                      707.0   \n",
      "122  MMRF_1373                      0     0                      424.0   \n",
      "..         ...                    ...   ...                        ...   \n",
      "595  MMRF_2836                      0     0                      161.0   \n",
      "596  MMRF_2846                      0     0                      199.0   \n",
      "597  MMRF_2848                      0     0                      198.0   \n",
      "598  MMRF_2851                      0     0                      189.0   \n",
      "599  MMRF_2853                      0     0                      170.0   \n",
      "\n",
      "     Last Alive/Dead  progress  progress_day  \n",
      "20               906         0           906  \n",
      "27               764         0           764  \n",
      "48               819         0           819  \n",
      "69               707         0           707  \n",
      "122              424         0           424  \n",
      "..               ...       ...           ...  \n",
      "595              161         0           161  \n",
      "596              199         0           199  \n",
      "597              198         0           198  \n",
      "598              189         0           189  \n",
      "599              170         0           170  \n",
      "\n",
      "[115 rows x 7 columns]\n"
     ]
    }
   ],
   "source": [
    "survival_ASCT = pd.read_csv(os.path.join(fdir,'MMRF_OS_PFS_ASCT.csv'), delimiter=',', encoding='latin-1')\n",
    "ASCT_PFS = survival_ASCT[['Patient', 'Post-ASCT Progression', 'Dead', 'Post-ASCT Progression Day', 'Last Alive/Dead']]\n",
    "ASCT_PFS['Post-ASCT Progression']=ASCT_PFS['Post-ASCT Progression'].map({'yes':1, 'no':0})\n",
    "ASCT_PFS['Dead']=ASCT_PFS.Dead.map({'yes':1, 'no':0})\n",
    "#if either died or progressed, should have a \"1\" under \"progress\" (0 implies censorship)\n",
    "ASCT_PFS['progress'] = ASCT_PFS['Dead'] + ASCT_PFS['Post-ASCT Progression']\n",
    "ASCT_PFS['progress'] = np.where(ASCT_PFS['progress']==0, 0, 1)\n",
    "#progress_day should be min of Progression Day and Last Alive.Dead\n",
    "ASCT_PFS.loc[ASCT_PFS['Post-ASCT Progression Day']==\"none\",'Post-ASCT Progression Day']=9999999 #temporarily map no progression to large number to help engineer col\n",
    "\n",
    "# ASCT_PFS['progress_day'] = ASCT_PFS[['Progression Day', 'Last Alive/Dead']].astype(int).min(axis=1) #both columns must be type int before comparing\n",
    "print(ASCT_PFS.progress.value_counts())\n",
    "\n",
    "ASCT_PFS['Post-ASCT Progression Day'] = ASCT_PFS['Post-ASCT Progression Day'].fillna(ASCT_PFS['Last Alive/Dead'])\n",
    "ASCT_PFS['progress_day'] = ASCT_PFS[['Post-ASCT Progression Day', 'Last Alive/Dead']].astype(int).min(axis=1) #both columns must be type int before comparing\n",
    "print(nonASCT_PFS.progress.value_counts())\n",
    "\n",
    "sub = ASCT_PFS[ASCT_PFS['progress_day']<1080]\n",
    "sub2= ASCT_PFS[ASCT_PFS['progress_day']>=1080]\n",
    "# print(sub2[sub2['progress'] == 1]) # e_bin should be 1; e should be 1 \n",
    "# print(sub2[sub2['progress'] == 0]) # e_bin should be 1; e should be 0\n",
    "# print(sub[sub['progress'] == 1]) # e_bin should be 1; e should be 1\n",
    "# print(sub[sub['progress'] == 0]) # e_bin should be 0; e should be 0\n",
    "print(sub2[sub2['progress'] == 1])\n",
    "print(sub2[sub2['progress'] == 0])\n",
    "print(sub[sub['progress'] == 1])\n",
    "print(sub[sub['progress'] == 0])"
   ]
  },
  {
   "cell_type": "code",
   "execution_count": null,
   "metadata": {},
   "outputs": [],
   "source": []
  }
 ],
 "metadata": {
  "kernelspec": {
   "display_name": "Python 3",
   "language": "python",
   "name": "python3"
  },
  "language_info": {
   "codemirror_mode": {
    "name": "ipython",
    "version": 3
   },
   "file_extension": ".py",
   "mimetype": "text/x-python",
   "name": "python",
   "nbconvert_exporter": "python",
   "pygments_lexer": "ipython3",
   "version": "3.7.3"
  }
 },
 "nbformat": 4,
 "nbformat_minor": 4
}
