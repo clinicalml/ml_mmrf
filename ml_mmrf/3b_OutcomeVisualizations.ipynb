{
 "cells": [
  {
   "cell_type": "code",
   "execution_count": 4,
   "metadata": {},
   "outputs": [],
   "source": [
    "import torch\n",
    "import torch.nn as nn\n",
    "import numpy as np\n",
    "import sys \n",
    "import optuna \n",
    "import pandas as pd\n",
    "import pickle"
   ]
  },
  {
   "cell_type": "code",
   "execution_count": 2,
   "metadata": {},
   "outputs": [
    {
     "name": "stderr",
     "output_type": "stream",
     "text": [
      "/data/ml2/software/anaconda3/envs/disease_prog/lib/python3.7/site-packages/statsmodels/tools/_testing.py:19: FutureWarning: pandas.util.testing is deprecated. Use the functions in the public API at pandas.testing instead.\n",
      "  import pandas.util.testing as tm\n"
     ]
    },
    {
     "name": "stdout",
     "output_type": "stream",
     "text": [
      "['Solarize_Light2', '_classic_test_patch', 'bmh', 'classic', 'dark_background', 'fast', 'fivethirtyeight', 'ggplot', 'grayscale', 'seaborn', 'seaborn-bright', 'seaborn-colorblind', 'seaborn-dark', 'seaborn-dark-palette', 'seaborn-darkgrid', 'seaborn-deep', 'seaborn-muted', 'seaborn-notebook', 'seaborn-paper', 'seaborn-pastel', 'seaborn-poster', 'seaborn-talk', 'seaborn-ticks', 'seaborn-white', 'seaborn-whitegrid', 'tableau-colorblind10']\n"
     ]
    }
   ],
   "source": [
    "%matplotlib inline\n",
    "import matplotlib.pylab as plt\n",
    "import seaborn as sns\n",
    "\n",
    "## alternate font/graph format\n",
    "plt.rcParams['ps.useafm'] = True\n",
    "plt.rcParams['pdf.use14corefonts'] = True\n",
    "plt.rcParams['axes.facecolor'] = 'white'\n",
    "plt.rcParams['text.usetex'] = True\n",
    "plt.rc('font', weight='heavy')\n",
    "plt.rc('xtick', labelsize='x-large')\n",
    "plt.rc('ytick', labelsize='x-large')\n",
    "plt.rc('axes', labelsize='x-large')\n",
    "import matplotlib as mpl\n",
    "print(mpl.style.available)\n",
    "mpl.style.use('seaborn-talk')"
   ]
  },
  {
   "cell_type": "code",
   "execution_count": 6,
   "metadata": {},
   "outputs": [
    {
     "name": "stdout",
     "output_type": "stream",
     "text": [
      "dict_keys(['treatment', 'labs', 'baseline', 'os', 'pfs_nonasct', 'pfs_asct', 'pfs', 'trt_outcomes'])\n"
     ]
    }
   ],
   "source": [
    "data_dir = '/afs/csail.mit.edu/u/z/zeshanmh/research/longlearn/data/ml_mmrf/ml_mmrf/output/1_mmrf_dataset_2mos_type.pkl'\n",
    "with open(data_dir, 'rb') as f:\n",
    "    dset = pickle.load(f)\n",
    "print(dset.keys())"
   ]
  },
  {
   "cell_type": "code",
   "execution_count": 7,
   "metadata": {},
   "outputs": [
    {
     "data": {
      "text/plain": [
       "{'pids': array(['MMRF_1014', 'MMRF_1024', 'MMRF_1033', ..., 'MMRF_2754',\n",
       "        'MMRF_2781', 'MMRF_2840'], dtype=object),\n",
       " 'data': array([19.766666666666666, 40.85, 38.35, ..., 0.13333333333333333,\n",
       "        3.466666666666667, 0.4166666666666667], dtype=object),\n",
       " 'obs': array([0, 0, 0, ..., 1, 1, 1], dtype=object),\n",
       " 'names': array(['overall_survival'], dtype='<U16')}"
      ]
     },
     "execution_count": 7,
     "metadata": {},
     "output_type": "execute_result"
    }
   ],
   "source": [
    "dset['os']"
   ]
  },
  {
   "cell_type": "code",
   "execution_count": 23,
   "metadata": {},
   "outputs": [
    {
     "data": {
      "image/png": "[encoded data removed]",
      "text/plain": [
       "<Figure size 432x288 with 1 Axes>"
      ]
     },
     "metadata": {
      "needs_background": "light"
     },
     "output_type": "display_data"
    }
   ],
   "source": [
    "fig, ax = plt.subplots(1,1,figsize=(6,4))\n",
    "sns.distplot(dset['os']['data'][dset['os']['obs']==1],label='observed', ax = ax, kde=False)\n",
    "sns.distplot(dset['os']['data'][dset['os']['obs']==0],label='censored', ax = ax, kde=False)\n",
    "ax.legend(fontsize=18)\n",
    "ax.set_xlim([0,50])\n",
    "ax.tick_params(axis='y', labelsize=18)\n",
    "ax.tick_params(axis='x', labelsize=18)\n",
    "ax.set_title('Distribution of Overall Survival Times for all MM Patients')\n",
    "ax.set_ylabel('Count')\n",
    "ax.set_xlabel('Overall Survival Time (in two-month units)')\n",
    "fig.savefig('./hist_os.pdf',bbox_inches='tight')"
   ]
  },
  {
   "cell_type": "code",
   "execution_count": 22,
   "metadata": {},
   "outputs": [
    {
     "name": "stdout",
     "output_type": "stream",
     "text": [
      "(1001,)\n",
      "number of observed patients with OS time: 295\n",
      "number of observed patients with OS time: 706\n"
     ]
    }
   ],
   "source": [
    "print(dset['os']['data'].shape)\n",
    "print(f\"number of observed patients with OS time: {np.sum(dset['os']['obs'])}\")\n",
    "print(f\"number of censored patients with OS time: {np.where(dset['os']['obs'] == 0.)[0].shape[0]}\")\n"
   ]
  },
  {
   "cell_type": "code",
   "execution_count": 27,
   "metadata": {},
   "outputs": [
    {
     "name": "stdout",
     "output_type": "stream",
     "text": [
      "(501,)\n",
      "number of observed patients (non-ASCT) with PFS time: 382\n",
      "number of censored patients (non-ASCT) with PFS time: 119\n"
     ]
    }
   ],
   "source": [
    "print(dset['pfs_nonasct']['data'].shape)\n",
    "print(f\"number of observed patients (non-ASCT) with PFS time: {np.sum(dset['pfs_nonasct']['obs'])}\")\n",
    "print(f\"number of censored patients (non-ASCT) with PFS time: {np.where(dset['pfs_nonasct']['obs'] == 0.)[0].shape[0]}\")"
   ]
  },
  {
   "cell_type": "code",
   "execution_count": 68,
   "metadata": {},
   "outputs": [
    {
     "data": {
      "image/png": "[encoded data removed]",
      "text/plain": [
       "<Figure size 504x360 with 1 Axes>"
      ]
     },
     "metadata": {
      "needs_background": "light"
     },
     "output_type": "display_data"
    }
   ],
   "source": [
    "fig, ax = plt.subplots(1,1,figsize=(7,5))\n",
    "dobs = np.copy(dset['pfs_nonasct']['data'][dset['pfs_nonasct']['obs']==1])\n",
    "dobs_as = np.copy(dset['pfs_asct']['data'][dset['pfs_asct']['obs']==1])\n",
    "# print(dobs[dobs<10].shape)\n",
    "ax.axvline(x=9,color='k',linestyle='--', alpha=0.5, label='18 month mark')\n",
    "sns.distplot(dobs,label='nonasct', ax = ax, kde=False)\n",
    "sns.distplot(dobs_as,label='asct', ax = ax, kde=False)\n",
    "# sns.distplot(dset['pfs_nonasct']['data'][dset['pfs_nonasct']['obs']==0],label='censored', ax = ax, kde=False)\n",
    "ax.legend(fontsize=18)\n",
    "ax.set_xlim([0,50])\n",
    "ax.tick_params(axis='y', labelsize=18)\n",
    "ax.tick_params(axis='x', labelsize=18)\n",
    "ax.set_title('Distribution of PFS Times for ASCT and non-ASCT Patients (Observed)')\n",
    "ax.set_ylabel('Count')\n",
    "ax.set_xlabel('PFS (in two-month units)')\n",
    "fig.savefig('./hist_pfs_nonasct.pdf',bbox_inches='tight')\n"
   ]
  },
  {
   "cell_type": "code",
   "execution_count": 29,
   "metadata": {},
   "outputs": [
    {
     "name": "stdout",
     "output_type": "stream",
     "text": [
      "(600,)\n",
      "number of observed patients (ASCT) with PFS time: 473\n",
      "number of censored patients (ASCT) with PFS time: 127\n"
     ]
    }
   ],
   "source": [
    "print(dset['pfs_asct']['data'].shape)\n",
    "print(f\"number of observed patients (ASCT) with PFS time: {np.sum(dset['pfs_asct']['obs'])}\")\n",
    "print(f\"number of censored patients (ASCT) with PFS time: {np.where(dset['pfs_asct']['obs'] == 0.)[0].shape[0]}\")"
   ]
  },
  {
   "cell_type": "code",
   "execution_count": null,
   "metadata": {},
   "outputs": [],
   "source": [
    "fig, ax = plt.subplots(1,1,figsize=(6,4))\n",
    "dobs = np.copy(dset['pfs_asct']['data'][dset['pfs_nonasct']['obs']==1])\n",
    "# print(dobs[dobs<10].shape)\n",
    "# ax.axvline(x=9,color='k',linestyle='--', alpha=0.5, label='18 month mark')\n",
    "sns.distplot(dobs,label='observed', ax = ax, kde=False)\n",
    "# sns.distplot(dset['pfs_nonasct']['data'][dset['pfs_nonasct']['obs']==0],label='censored', ax = ax, kde=False)\n",
    "ax.legend(fontsize=18)\n",
    "# ax.set_xlim([0,70])\n",
    "ax.tick_params(axis='y', labelsize=18)\n",
    "ax.tick_params(axis='x', labelsize=18)\n",
    "ax.set_title('Distribution of PFS Times for ASCT Patients')\n",
    "ax.set_ylabel('Count')\n",
    "ax.set_xlabel('Overall Survival Time (in two-month units)')\n",
    "fig.savefig('./hist_pfs_nonasct.pdf',bbox_inches='tight')\n"
   ]
  }
 ],
 "metadata": {
  "kernelspec": {
   "display_name": "Python 3",
   "language": "python",
   "name": "python3"
  },
  "language_info": {
   "codemirror_mode": {
    "name": "ipython",
    "version": 3
   },
   "file_extension": ".py",
   "mimetype": "text/x-python",
   "name": "python",
   "nbconvert_exporter": "python",
   "pygments_lexer": "ipython3",
   "version": "3.7.3"
  }
 },
 "nbformat": 4,
 "nbformat_minor": 4
}
