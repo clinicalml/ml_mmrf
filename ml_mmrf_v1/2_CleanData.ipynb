{
 "cells": [
  {
   "cell_type": "code",
   "execution_count": 1,
   "metadata": {},
   "outputs": [],
   "source": [
    "import pickle, os, sys\n",
    "import numpy as np\n",
    "import pandas as pd\n",
    "%matplotlib inline\n",
    "import matplotlib.pylab as plt\n",
    "import seaborn as sns\n",
    "plt.rc('font', family='serif')\n",
    "plt.rc('xtick', labelsize='x-large')\n",
    "plt.rc('ytick', labelsize='x-large')\n",
    "plt.rc('axes', labelsize='x-large')\n",
    "plt.rc('font', size=12)"
   ]
  },
  {
   "cell_type": "code",
   "execution_count": 2,
   "metadata": {},
   "outputs": [
    {
     "name": "stdout",
     "output_type": "stream",
     "text": [
      "dict_keys(['treatment', 'labs', 'baseline', 'outcomes', 'trt_outcomes'])\n",
      "dict_keys(['pids', 'data', 'obs', 'names'])\n",
      "dict_keys(['treatment', 'labs', 'baseline', 'outcomes', 'trt_outcomes'])\n",
      "dict_keys(['pids', 'data', 'obs', 'names'])\n"
     ]
    }
   ],
   "source": [
    "with open('1_mmrf_dataset_type.pkl','rb') as f:\n",
    "    dataset = pickle.load(f)\n",
    "with open('1_mmrf_dataset_2mos_type.pkl','rb') as f:\n",
    "    dataset_2mos = pickle.load(f)\n",
    "print (dataset.keys())\n",
    "print(dataset['baseline'].keys())\n",
    "print (dataset_2mos.keys())\n",
    "print(dataset_2mos['baseline'].keys())"
   ]
  },
  {
   "cell_type": "code",
   "execution_count": 3,
   "metadata": {},
   "outputs": [],
   "source": [
    "from process_tensors import clean_baseline, clean_labs, get_splits"
   ]
  },
  {
   "cell_type": "markdown",
   "metadata": {},
   "source": [
    "### Step 1: Restrict all data to share a global ordering over patient ids (from outcomes)\n",
    "* Plot distribution over outcomes"
   ]
  },
  {
   "cell_type": "code",
   "execution_count": 4,
   "metadata": {},
   "outputs": [],
   "source": [
    "new_dset = {}\n",
    "outcomes_type = 'trt_resp' # or 'mortality'\n",
    "\n",
    "if outcomes_type == 'mortality': \n",
    "    new_dset['patient_ids'] = dataset['outcomes']['pids']\n",
    "    new_dset['y_data']   = dataset['outcomes']['data']\n",
    "    new_dset['event_obs']= dataset['outcomes']['obs']\n",
    "elif outcomes_type == 'trt_resp':\n",
    "    new_dset['patient_ids'] = dataset['trt_outcomes']['pids']\n",
    "    new_dset['y_data']      = dataset['trt_outcomes']['data']\n",
    "    new_dset['event_obs']   = dataset['trt_outcomes']['obs']\n",
    "    new_dset['tr_names']    = dataset['trt_outcomes']['names']\n",
    "    \n",
    "pts = new_dset['patient_ids'].tolist()\n",
    "for k in ['treatment','labs','baseline']:\n",
    "    pts_src = dataset[k]['pids'].tolist()\n",
    "    idx_map = np.array([pts_src.index(v) for v in pts])\n",
    "    new_dset[k+'_data'] = dataset[k]['data'][idx_map]\n",
    "    new_dset[k+'_m']    = dataset[k]['obs'][idx_map]\n",
    "    new_dset[k+'_names']= dataset[k]['names']\n",
    "    \n",
    "new_dset_2mos = {}\n",
    "\n",
    "if outcomes_type == 'mortality':     \n",
    "    new_dset_2mos['patient_ids'] = dataset_2mos['outcomes']['pids']\n",
    "    new_dset_2mos['y_data']      = dataset_2mos['outcomes']['data']\n",
    "    new_dset_2mos['event_obs']   = dataset_2mos['outcomes']['obs']\n",
    "elif outcomes_type == 'trt_resp': \n",
    "    new_dset_2mos['patient_ids'] = dataset_2mos['trt_outcomes']['pids']\n",
    "    new_dset_2mos['y_data']      = dataset_2mos['trt_outcomes']['data']\n",
    "    new_dset_2mos['event_obs']   = dataset_2mos['trt_outcomes']['obs']\n",
    "    new_dset_2mos['tr_names']    = dataset_2mos['trt_outcomes']['names']\n",
    "    new_dset_2mos['ym_data']     = dataset_2mos['outcomes']['data']\n",
    "    new_dset_2mos['ce']     = dataset_2mos['outcomes']['obs']\n",
    "\n",
    "pts = new_dset_2mos['patient_ids'].tolist()\n",
    "for k in ['treatment','labs','baseline']:\n",
    "    pts_src = dataset_2mos[k]['pids'].tolist()\n",
    "    idx_map = np.array([pts_src.index(v) for v in pts])\n",
    "    new_dset_2mos[k+'_data'] = dataset_2mos[k]['data'][idx_map]\n",
    "    new_dset_2mos[k+'_m']    = dataset_2mos[k]['obs'][idx_map]\n",
    "    new_dset_2mos[k+'_names']= dataset_2mos[k]['names']"
   ]
  },
  {
   "cell_type": "code",
   "execution_count": 5,
   "metadata": {},
   "outputs": [
    {
     "name": "stdout",
     "output_type": "stream",
     "text": [
      "shape of treatment data: (295, 33, 6)\n",
      "shape of lab data: (295, 33, 16)\n",
      "shape of baseline data: (295, 16)\n"
     ]
    }
   ],
   "source": [
    "print(f'shape of treatment data: {new_dset_2mos[\"treatment_data\"].shape}')\n",
    "print(f'shape of lab data: {new_dset_2mos[\"labs_data\"].shape}')\n",
    "print(f'shape of baseline data: {new_dset_2mos[\"baseline_data\"].shape}')"
   ]
  },
  {
   "cell_type": "markdown",
   "metadata": {},
   "source": [
    "### Step 2: Visualize outcome values after scaling"
   ]
  },
  {
   "cell_type": "code",
   "execution_count": 6,
   "metadata": {},
   "outputs": [
    {
     "name": "stderr",
     "output_type": "stream",
     "text": [
      "/data/ml2/software/anaconda3/envs/disease_prog/lib/python3.7/site-packages/seaborn/distributions.py:2551: FutureWarning: `distplot` is a deprecated function and will be removed in a future version. Please adapt your code to use either `displot` (a figure-level function with similar flexibility) or `histplot` (an axes-level function for histograms).\n",
      "  warnings.warn(msg, FutureWarning)\n"
     ]
    },
    {
     "name": "stdout",
     "output_type": "stream",
     "text": [
      "50\n"
     ]
    },
    {
     "data": {
      "image/png": "[encoded data removed]",
      "text/plain": [
       "<Figure size 432x288 with 1 Axes>"
      ]
     },
     "metadata": {
      "needs_background": "light"
     },
     "output_type": "display_data"
    }
   ],
   "source": [
    "if outcomes_type == 'mortality':\n",
    "    fig, axlist = plt.subplots(1,1)\n",
    "    sns.distplot(new_dset['y_data'][new_dset['event_obs']==1],label='observed', ax = axlist, kde=False)\n",
    "    sns.distplot(new_dset['y_data'][new_dset['event_obs']==0],label='censored', ax = axlist, kde=False)\n",
    "    axlist.legend(fontsize=18)\n",
    "    axlist.set_xlim([0,70])\n",
    "elif outcomes_type == 'trt_resp': \n",
    "    fig, axlist = plt.subplots(1,1)\n",
    "    sns.distplot(new_dset['y_data'], ax = axlist, kde=False)\n",
    "    print(len(np.where(new_dset['y_data']==1.)[0]))"
   ]
  },
  {
   "cell_type": "code",
   "execution_count": 7,
   "metadata": {},
   "outputs": [
    {
     "name": "stdout",
     "output_type": "stream",
     "text": [
      "50\n"
     ]
    },
    {
     "data": {
      "image/png": "[encoded data removed]",
      "text/plain": [
       "<Figure size 432x288 with 1 Axes>"
      ]
     },
     "metadata": {
      "needs_background": "light"
     },
     "output_type": "display_data"
    }
   ],
   "source": [
    "if outcomes_type == 'mortality':\n",
    "    fig, axlist = plt.subplots(1,1)\n",
    "    sns.distplot(new_dset_2mos['y_data'][new_dset_2mos['event_obs']==1],label='observed', ax = axlist, kde=False)\n",
    "    sns.distplot(new_dset_2mos['y_data'][new_dset_2mos['event_obs']==0],label='censored', ax = axlist, kde=False)\n",
    "    axlist.legend(fontsize=18)\n",
    "    axlist.set_xlim([0,70])\n",
    "elif outcomes_type == 'trt_resp': \n",
    "    fig, axlist = plt.subplots(1,1)\n",
    "    sns.distplot(new_dset_2mos['y_data'], ax = axlist, kde=False)\n",
    "    print(len(np.where(new_dset['y_data']==1.)[0]))"
   ]
  },
  {
   "cell_type": "markdown",
   "metadata": {},
   "source": [
    "### Step 2: Clean baseline values (to be in a range -7 to 7ish where 0 corresponds to reference [max])"
   ]
  },
  {
   "cell_type": "code",
   "execution_count": 8,
   "metadata": {},
   "outputs": [],
   "source": [
    "# Reference values for lab measurements\n",
    "# min/max/scale (calculated by attempting to ensure that max labs lie b/w 5-8)\n",
    "healthy_mins_max = {\n",
    "    'cbc_abs_neut':(2., 7.5,1/3.), # abs neutrophil count (3.67, 1.), (2.83, 4.51)\n",
    "    'chem_albumin':(34, 50,1/8.), # chemical albumin (43.62, 2.77), (41.30, 45.94)\n",
    "    'chem_bun':(2.5, 7.1,1/5.), #BUN # reference range, (4.8, 1.15)\n",
    "    'chem_calcium':(2.2, 2.7,2.), #Calcium, (2.45, 0.125)\n",
    "    'chem_creatinine':(66, 112,1/36.), # creatinine, (83., 24.85), (62.22, 103.77)\n",
    "    'chem_glucose':(3.9, 6.9,1/5.), # glucose, (4.91, 0.40), (4.58, 5.24)\n",
    "    'cbc_hemoglobin':(13., 17.,1), # hemoglobin (12.90, 15.64), (8.86, 1.02)\n",
    "    'chem_ldh':(2.33, 4.67,1/3.), #LDH, (3.5, 0.585)\n",
    "    'serum_m_protein':(0.1, 1.1, 1), # M protein (<3 g/dL is MGUS, any presence of protein is pathological); am just using the data mean/std for this, (0.85, 1.89)\n",
    "    'urine_24hr_m_protein':(0.0, 0.1, 1), # Urine M protein \n",
    "    'cbc_platelet':(150, 400,1/60.), # platelet count (206.42, 334.57), (270.5, 76.63)\n",
    "    'chem_totprot':(6, 8,1/6.), # total protein, (7, 0.5)\n",
    "    'urine_24hr_total_protein':(0, 0.23, 1), # \n",
    "    'cbc_wbc':(3, 10,1/4.), # WBC  (5.71, 8.44), (7.07, 1.63)\n",
    "    'serum_iga':(0.85, 4.99, 1.), # IgA, (2.92, 1.035)\n",
    "    'serum_igg':(6.10, 16.16,1/10.), # IgG, (11.13, 2.515)\n",
    "    'serum_igm':(0.35, 2.42,1), #IgM, (1.385, 0.518)\n",
    "    'serum_lambda':(0.57, 2.63, 1/2.), #serum lambda, (1.6, 0.515)\n",
    "    'serum_kappa':(.33, 1.94,1/8.), #serum kappa , (1.135, 0.403)\n",
    "    'serum_beta2_microglobulin':(0.7, 1.80, 1/3.), #serum_beta2_microglobulin,\n",
    "    'serum_c_reactive_protein':(0.0, 1., 1.) #serum_c_reactive_protein,\n",
    "}"
   ]
  },
  {
   "cell_type": "code",
   "execution_count": 9,
   "metadata": {},
   "outputs": [
    {
     "name": "stdout",
     "output_type": "stream",
     "text": [
      "A] Before cleaning\n",
      "idx, featurename, min, mean, max\n",
      "0 iss 1.0 1.8952591500859715 3.0\n",
      "1 age 27.0 64.50508474576272 93.0\n",
      "2 gender 1.0 1.3728813559322033 2.0\n",
      "3 ecog 0.0 0.9098562133504701 4.0\n",
      "4 serum_beta2_microglobulin 0.26 5.250800593143503 22.400000000000002\n",
      "5 PC1 -29.62440497 -1.9842831591221874 140.0614706\n",
      "6 PC2 -33.3253597 4.492808178107416 115.7871011\n",
      "7 PC3 -52.15364387 -0.8788419231772593 51.23220332\n",
      "8 PC4 -35.67956674 -1.7494765964323464 41.32461874\n",
      "9 PC5 -37.58013775 -0.4017837853656653 50.21645239\n",
      "10 heavy_chain False 0.847457627118644 True\n",
      "11 igg_type False 0.6271186440677966 True\n",
      "12 iga_type False 0.18305084745762712 True\n",
      "13 igm_type False 0.0576271186440678 True\n",
      "14 kappa_type False 0.6135593220338983 True\n",
      "15 lambda_type False 0.3728813559322034 True\n",
      "------\n",
      "------\n",
      "C] After cleaning\n",
      "0 iss 1.0 1.8952591 3.0 False\n",
      "1 age -3.458203 3.2327944e-07 2.6274097 False\n",
      "2 gender -1.0 -0.2542373 1.0 False\n",
      "3 ecog -0.06378846 -2.4852106e-08 0.21664456 False\n",
      "4 serum_beta2_microglobulin -0.34989646 -1.664889e-07 1.2023002 False\n",
      "5 PC1 -1.9378009 -1.8103648e-07 9.95858 False\n",
      "6 PC2 -2.6513658 5.1724708e-08 7.802649 False\n",
      "7 PC3 -3.594787 -1.2931177e-08 3.6534145 False\n",
      "8 PC4 -2.3787792 -4.525912e-08 3.0198498 False\n",
      "9 PC5 -2.6065097 -4.8491913e-09 3.5487561 False\n",
      "10 heavy_chain 0.0 0.84745765 1.0 False\n",
      "11 igg_type 0.0 0.62711865 1.0 False\n",
      "12 iga_type 0.0 0.18305084 1.0 False\n",
      "13 igm_type 0.0 0.05762712 1.0 False\n",
      "14 kappa_type 0.0 0.6135593 1.0 False\n",
      "15 lambda_type 0.0 0.37288135 1.0 False\n"
     ]
    }
   ],
   "source": [
    "clean_baseline(new_dset, healthy_mins_max)"
   ]
  },
  {
   "cell_type": "code",
   "execution_count": 10,
   "metadata": {},
   "outputs": [
    {
     "name": "stdout",
     "output_type": "stream",
     "text": [
      "A] Before cleaning\n",
      "idx, featurename, min, mean, max\n",
      "0 iss 1.0 1.8952591500859715 3.0\n",
      "1 age 27.0 64.50508474576272 93.0\n",
      "2 gender 1.0 1.3728813559322033 2.0\n",
      "3 ecog 0.0 0.9098562133504701 4.0\n",
      "4 serum_beta2_microglobulin 0.26 5.250800593143503 22.400000000000002\n",
      "5 PC1 -29.62440497 -1.9842831591221874 140.0614706\n",
      "6 PC2 -33.3253597 4.492808178107416 115.7871011\n",
      "7 PC3 -52.15364387 -0.8788419231772593 51.23220332\n",
      "8 PC4 -35.67956674 -1.7494765964323464 41.32461874\n",
      "9 PC5 -37.58013775 -0.4017837853656653 50.21645239\n",
      "10 heavy_chain False 0.847457627118644 True\n",
      "11 igg_type False 0.6271186440677966 True\n",
      "12 iga_type False 0.18305084745762712 True\n",
      "13 igm_type False 0.0576271186440678 True\n",
      "14 kappa_type False 0.6135593220338983 True\n",
      "15 lambda_type False 0.3728813559322034 True\n",
      "------\n",
      "------\n",
      "C] After cleaning\n",
      "0 iss 1.0 1.8952591 3.0 False\n",
      "1 age -3.458203 3.2327944e-07 2.6274097 False\n",
      "2 gender -1.0 -0.2542373 1.0 False\n",
      "3 ecog -0.06378846 -2.4852106e-08 0.21664456 False\n",
      "4 serum_beta2_microglobulin -0.34989646 -1.664889e-07 1.2023002 False\n",
      "5 PC1 -1.9378009 -1.8103648e-07 9.95858 False\n",
      "6 PC2 -2.6513658 5.1724708e-08 7.802649 False\n",
      "7 PC3 -3.594787 -1.2931177e-08 3.6534145 False\n",
      "8 PC4 -2.3787792 -4.525912e-08 3.0198498 False\n",
      "9 PC5 -2.6065097 -4.8491913e-09 3.5487561 False\n",
      "10 heavy_chain 0.0 0.84745765 1.0 False\n",
      "11 igg_type 0.0 0.62711865 1.0 False\n",
      "12 iga_type 0.0 0.18305084 1.0 False\n",
      "13 igm_type 0.0 0.05762712 1.0 False\n",
      "14 kappa_type 0.0 0.6135593 1.0 False\n",
      "15 lambda_type 0.0 0.37288135 1.0 False\n"
     ]
    }
   ],
   "source": [
    "clean_baseline(new_dset_2mos, healthy_mins_max)"
   ]
  },
  {
   "cell_type": "markdown",
   "metadata": {},
   "source": [
    "### Step 3: Clean time-series lab values"
   ]
  },
  {
   "cell_type": "code",
   "execution_count": 11,
   "metadata": {},
   "outputs": [
    {
     "name": "stdout",
     "output_type": "stream",
     "text": [
      "A] Before cleaning\n",
      "idx, featurename, min, mean, max\n",
      "0 cbc_abs_neut 0.0 0.6736742895776449 19.5\n",
      "1 chem_albumin 0.0 7.523185724350147 52.0\n",
      "2 chem_bun 0.0 1.2799335936044005 33.56\n",
      "3 chem_calcium 0.0 0.4581943677343806 4.25\n",
      "4 chem_creatinine 0.0 20.496765159939542 429.31999999999994\n",
      "5 chem_glucose 0.0 1.2526836526481637 25.74\n",
      "6 cbc_hemoglobin 0.0 1.4900208115048794 10.602\n",
      "7 serum_kappa 0.0 0.9248801799662321 14.66\n",
      "8 serum_m_protein 0.0 0.15012421110138569 5.6499999999999995\n",
      "9 cbc_platelet 0.0 36.79138777606575 658.0\n",
      "10 chem_totprot 0.0 1.3714886151451289 15.5\n",
      "11 cbc_wbc 0.0 1.1195095017976373 29.5\n",
      "12 serum_iga 0.0 0.22739173949005634 9.0\n",
      "13 serum_igg 0.0 2.1453182139302127 49.050000000000004\n",
      "14 serum_igm 0.0 0.059827044952100214 6.4\n",
      "15 serum_lambda 0.0 0.5106433725471985 11.35\n",
      "------\n",
      "B] Subtracting healthy max  7.5  from cbc_abs_neut  and scaling:  0.3333333333333333\n",
      "B] Subtracting healthy max  50  from chem_albumin  and scaling:  0.125\n",
      "B] Subtracting healthy max  7.1  from chem_bun  and scaling:  0.2\n",
      "B] Subtracting healthy max  2.7  from chem_calcium  and scaling:  2.0\n",
      "B] Subtracting healthy max  112  from chem_creatinine  and scaling:  0.027777777777777776\n",
      "B] Subtracting healthy max  6.9  from chem_glucose  and scaling:  0.2\n",
      "B] Subtracting healthy max  17.0  from cbc_hemoglobin  and scaling:  1\n",
      "B] Subtracting healthy max  1.94  from serum_kappa  and scaling:  0.125\n",
      "B] Subtracting healthy max  1.1  from serum_m_protein  and scaling:  1\n",
      "B] Subtracting healthy max  400  from cbc_platelet  and scaling:  0.016666666666666666\n",
      "B] Subtracting healthy max  8  from chem_totprot  and scaling:  0.16666666666666666\n",
      "B] Subtracting healthy max  10  from cbc_wbc  and scaling:  0.25\n",
      "B] Subtracting healthy max  4.99  from serum_iga  and scaling:  1.0\n",
      "B] Subtracting healthy max  16.16  from serum_igg  and scaling:  0.1\n",
      "B] Subtracting healthy max  2.42  from serum_igm  and scaling:  1\n",
      "B] Subtracting healthy max  2.63  from serum_lambda  and scaling:  0.5\n",
      "------\n",
      "C] After cleaning\n",
      "0 cbc_abs_neut -2.5 -2.275442 4.0\n",
      "1 chem_albumin -6.25 -5.3096013 0.25\n",
      "2 chem_bun -1.42 -1.1640133 5.2920003\n",
      "3 chem_calcium -5.4 -4.4836116 3.1\n",
      "4 chem_creatinine -3.1111112 -2.5417562 8.814445\n",
      "5 chem_glucose -1.38 -1.1294632 3.7680001\n",
      "6 cbc_hemoglobin -17.0 -15.50998 -6.398\n",
      "7 serum_kappa -0.2425 -0.12689002 1.5899999\n",
      "8 serum_m_protein -1.1 -0.9498759 4.55\n",
      "9 cbc_platelet -6.666667 -6.053477 4.3\n",
      "10 chem_totprot -1.3333334 -1.104752 1.25\n",
      "11 cbc_wbc -2.5 -2.2201228 4.875\n",
      "12 serum_iga -4.99 -4.762607 4.01\n",
      "13 serum_igg -1.616 -1.401468 3.289\n",
      "14 serum_igm -2.42 -2.360173 3.98\n",
      "15 serum_lambda -1.315 -1.0596786 4.36\n",
      "A] Before cleaning\n",
      "idx, featurename, min, mean, max\n",
      "0 cbc_abs_neut 0.0 1.3295002997510783 19.5\n",
      "1 chem_albumin 0.0 14.840351931494334 52.0\n",
      "2 chem_bun 0.0 2.5270679268081846 33.56\n",
      "3 chem_calcium 0.0 0.9038972100450322 4.25\n",
      "4 chem_creatinine 0.0 40.40894192748053 429.31999999999994\n",
      "5 chem_glucose 0.0 2.4722255487477915 25.74\n",
      "6 cbc_hemoglobin 0.0 2.93795677452491 10.602\n",
      "7 serum_kappa 0.0 1.8277480332760696 14.66\n",
      "8 serum_m_protein 0.0 0.29630389215654634 5.6499999999999995\n",
      "9 cbc_platelet 0.0 72.48868207498717 658.0\n",
      "10 chem_totprot 0.0 2.705563773690361 15.5\n",
      "11 cbc_wbc 0.0 2.2046050333846945 29.5\n",
      "12 serum_iga 0.0 0.450497603273898 9.0\n",
      "13 serum_igg 0.0 4.225034578861965 49.050000000000004\n",
      "14 serum_igm 0.0 0.11809445970389226 6.4\n",
      "15 serum_lambda 0.0 1.0079174590132463 11.35\n",
      "------\n",
      "B] Subtracting healthy max  7.5  from cbc_abs_neut  and scaling:  0.3333333333333333\n",
      "B] Subtracting healthy max  50  from chem_albumin  and scaling:  0.125\n",
      "B] Subtracting healthy max  7.1  from chem_bun  and scaling:  0.2\n",
      "B] Subtracting healthy max  2.7  from chem_calcium  and scaling:  2.0\n",
      "B] Subtracting healthy max  112  from chem_creatinine  and scaling:  0.027777777777777776\n",
      "B] Subtracting healthy max  6.9  from chem_glucose  and scaling:  0.2\n",
      "B] Subtracting healthy max  17.0  from cbc_hemoglobin  and scaling:  1\n",
      "B] Subtracting healthy max  1.94  from serum_kappa  and scaling:  0.125\n",
      "B] Subtracting healthy max  1.1  from serum_m_protein  and scaling:  1\n",
      "B] Subtracting healthy max  400  from cbc_platelet  and scaling:  0.016666666666666666\n",
      "B] Subtracting healthy max  8  from chem_totprot  and scaling:  0.16666666666666666\n",
      "B] Subtracting healthy max  10  from cbc_wbc  and scaling:  0.25\n",
      "B] Subtracting healthy max  4.99  from serum_iga  and scaling:  1.0\n",
      "B] Subtracting healthy max  16.16  from serum_igg  and scaling:  0.1\n",
      "B] Subtracting healthy max  2.42  from serum_igm  and scaling:  1\n",
      "B] Subtracting healthy max  2.63  from serum_lambda  and scaling:  0.5\n",
      "------\n",
      "C] After cleaning\n",
      "0 cbc_abs_neut -2.5 -2.0568333 4.0\n",
      "1 chem_albumin -6.25 -4.394956 0.25\n",
      "2 chem_bun -1.42 -0.91458637 5.2920003\n",
      "3 chem_calcium -5.4 -3.592206 3.1\n",
      "4 chem_creatinine -3.1111112 -1.9886404 8.814445\n",
      "5 chem_glucose -1.38 -0.8855549 3.7680001\n",
      "6 cbc_hemoglobin -17.0 -14.062044 -6.398\n",
      "7 serum_kappa -0.2425 -0.014031518 1.5899999\n",
      "8 serum_m_protein -1.1 -0.8036962 4.55\n",
      "9 cbc_platelet -6.666667 -5.458522 4.3\n",
      "10 chem_totprot -1.3333334 -0.882406 1.25\n",
      "11 cbc_wbc -2.5 -1.9488488 4.875\n",
      "12 serum_iga -4.99 -4.5395017 4.01\n",
      "13 serum_igg -1.616 -1.1934965 3.289\n",
      "14 serum_igm -2.42 -2.3019054 3.98\n",
      "15 serum_lambda -1.315 -0.81104136 4.36\n"
     ]
    }
   ],
   "source": [
    "clean_labs(new_dset, healthy_mins_max)\n",
    "clean_labs(new_dset_2mos, healthy_mins_max)"
   ]
  },
  {
   "cell_type": "markdown",
   "metadata": {},
   "source": [
    "### Step 4: Get censorship balanced train/test splits"
   ]
  },
  {
   "cell_type": "code",
   "execution_count": 12,
   "metadata": {},
   "outputs": [
    {
     "name": "stdout",
     "output_type": "stream",
     "text": [
      "Total:  295\n",
      "Total:  206\n",
      "Fold:  0 143 63\n",
      "Event obs:  24 11\n",
      "Total:  206\n",
      "Fold:  1 143 63\n",
      "Event obs:  24 11\n",
      "Total:  206\n",
      "Fold:  2 143 63\n",
      "Event obs:  24 11\n",
      "Total:  206\n",
      "Fold:  3 143 63\n",
      "Event obs:  24 11\n",
      "Total:  206\n",
      "Fold:  4 143 63\n",
      "Event obs:  24 11\n"
     ]
    }
   ],
   "source": [
    "train_valid_folds, testidx = get_splits(new_dset['y_data'], nfolds=5)\n",
    "# train_valid_folds, testidx = get_splits(new_dset['event_obs'], nfolds=5)"
   ]
  },
  {
   "cell_type": "code",
   "execution_count": 13,
   "metadata": {},
   "outputs": [
    {
     "name": "stdout",
     "output_type": "stream",
     "text": [
      "Reading...\n"
     ]
    }
   ],
   "source": [
    "if not os.path.exists('folds.pkl'):\n",
    "    train_valid_folds, testidx = get_splits(new_dset['event_obs'], nfolds = 5)\n",
    "    with open('folds.pkl','wb') as f:\n",
    "        pickle.dump((train_valid_folds, testidx),f)\n",
    "else:\n",
    "    print ('Reading...')\n",
    "    with open('folds.pkl','rb') as f:\n",
    "        train_valid_folds, testidx = pickle.load(f)"
   ]
  },
  {
   "cell_type": "markdown",
   "metadata": {},
   "source": [
    "### Step 5: Split dataset for 5 fold CV"
   ]
  },
  {
   "cell_type": "code",
   "execution_count": null,
   "metadata": {},
   "outputs": [],
   "source": [
    "for fold in range(5):\n",
    "    print ('Saving fold ', fold)\n",
    "    final_dataset = {}\n",
    "    final_dataset[fold] = {}\n",
    "    for tvt in ['train','valid','test']:\n",
    "        if  tvt =='test':\n",
    "            idx = testidx\n",
    "        elif tvt =='train':\n",
    "            idx = train_valid_folds[fold][0]\n",
    "        elif tvt == 'valid':\n",
    "            idx = train_valid_folds[fold][1]\n",
    "        else:\n",
    "            raise NotImplemented()\n",
    "        final_dataset[fold][tvt] = {}\n",
    "        final_dataset[fold][tvt]['pids']   = new_dset['patient_ids'][idx]\n",
    "        # labs\n",
    "        final_dataset[fold][tvt]['x']      = new_dset['labs_data_clean'][idx]\n",
    "        final_dataset[fold][tvt]['m']    = new_dset['labs_m'][idx]\n",
    "        final_dataset[fold][tvt]['feature_names_x']    = new_dset['labs_names']\n",
    "        # outcomes\n",
    "        final_dataset[fold][tvt]['ys_seq'] = new_dset['y_data'][idx].reshape(-1,1)\n",
    "        final_dataset[fold][tvt]['ce']     = (1.-new_dset['event_obs'][idx]).reshape(-1,1)\n",
    "        # baseline\n",
    "        final_dataset[fold][tvt]['b']      = new_dset['baseline_data_clean'][idx]\n",
    "        final_dataset[fold][tvt]['feature_names']    = new_dset['baseline_names']\n",
    "        # treatments\n",
    "        final_dataset[fold][tvt]['a']      = new_dset['treatment_data'][idx]\n",
    "        final_dataset[fold][tvt]['m_a']    = new_dset['treatment_m'][idx]\n",
    "        final_dataset[fold][tvt]['feature_names_a']    = new_dset['treatment_names']\n",
    "    \n",
    "    # Forward fill missing data in longitudinal lab tensors\n",
    "    for tvt in ['train','valid','test']:\n",
    "        x_new  = np.copy(final_dataset[fold][tvt]['x'])\n",
    "        x_new[final_dataset[fold][tvt]['m']==0] = np.nan\n",
    "        x_new_filled  = []\n",
    "        for k in range(x_new.shape[-1]):\n",
    "            x_new_filled.append(pd.DataFrame(x_new[...,k]).fillna(method='ffill', axis=1).values[...,None])\n",
    "        x_new_filled  = np.concatenate(x_new_filled, axis=-1)\n",
    "        assert not np.any(np.isnan(x_new_filled)),'should not be any nans'\n",
    "        final_dataset[fold][tvt]['x'] = x_new_filled\n",
    "    \n",
    "    # Restrict (in train/valid set) to patients with atleast two longitudinal observations\n",
    "    T_lb = 2\n",
    "    for tvt in ['train']:\n",
    "        M     = final_dataset[fold][tvt]['m']\n",
    "        M_t   = (M.sum(-1)>1.)*1.\n",
    "        all_t = M_t.sum(-1)\n",
    "        keep_idx = np.argwhere(all_t>T_lb).ravel()\n",
    "        if tvt == 'train':\n",
    "            C = final_dataset[fold][tvt]['ce']\n",
    "            print ('Before: N censored/total ',C.sum(), C.shape[0], C.sum()/C.shape[0])\n",
    "        for kk in ['a','x','m','ys_seq','ce','b','pids','m_a']:\n",
    "            final_dataset[fold][tvt][kk] = np.copy(final_dataset[fold][tvt][kk][keep_idx])\n",
    "        if tvt == 'train':\n",
    "            C = final_dataset[fold][tvt]['ce']\n",
    "            print ('After: N censored/total ',C.sum(), C.shape[0], C.sum()/C.shape[0])\n",
    "\n",
    "    with open('cleaned_mm'+str(fold)+'.pkl','wb') as f:\n",
    "        pickle.dump(final_dataset, f)"
   ]
  },
  {
   "cell_type": "code",
   "execution_count": 13,
   "metadata": {},
   "outputs": [
    {
     "data": {
      "text/plain": [
       "(1074, 33, 6)"
      ]
     },
     "execution_count": 13,
     "metadata": {},
     "output_type": "execute_result"
    }
   ],
   "source": [
    "new_dset_2mos['treatment_data'].shape"
   ]
  },
  {
   "cell_type": "code",
   "execution_count": 13,
   "metadata": {},
   "outputs": [
    {
     "name": "stdout",
     "output_type": "stream",
     "text": [
      "trt_resp\n",
      "Saving fold  0\n",
      "train...\n",
      "Before: N censored/total  0.0 143 0.0\n",
      "Before: Y class 0, N: 119\n",
      "Before: Y class 1, N: 24\n",
      "After: N censored/total  0.0 143 0.0\n",
      "After: Y class 0, N: 119\n",
      "After: Y class 1, N: 24\n",
      "(143, 33, 16)\n",
      "valid...\n",
      "Before: N censored/total  0.0 63 0.0\n",
      "Before: Y class 0, N: 52\n",
      "Before: Y class 1, N: 11\n",
      "test...\n",
      "Before: N censored/total  0.0 89 0.0\n",
      "Before: Y class 0, N: 74\n",
      "Before: Y class 1, N: 15\n",
      "\n",
      "Saving fold  1\n",
      "train...\n",
      "Before: N censored/total  0.0 143 0.0\n",
      "Before: Y class 0, N: 119\n",
      "Before: Y class 1, N: 24\n",
      "After: N censored/total  0.0 143 0.0\n",
      "After: Y class 0, N: 119\n",
      "After: Y class 1, N: 24\n",
      "(143, 33, 16)\n",
      "valid...\n",
      "Before: N censored/total  0.0 63 0.0\n",
      "Before: Y class 0, N: 52\n",
      "Before: Y class 1, N: 11\n",
      "test...\n",
      "Before: N censored/total  0.0 89 0.0\n",
      "Before: Y class 0, N: 74\n",
      "Before: Y class 1, N: 15\n",
      "\n",
      "Saving fold  2\n",
      "train...\n",
      "Before: N censored/total  0.0 143 0.0\n",
      "Before: Y class 0, N: 119\n",
      "Before: Y class 1, N: 24\n",
      "After: N censored/total  0.0 143 0.0\n",
      "After: Y class 0, N: 119\n",
      "After: Y class 1, N: 24\n",
      "(143, 33, 16)\n",
      "valid...\n",
      "Before: N censored/total  0.0 63 0.0\n",
      "Before: Y class 0, N: 52\n",
      "Before: Y class 1, N: 11\n",
      "test...\n",
      "Before: N censored/total  0.0 89 0.0\n",
      "Before: Y class 0, N: 74\n",
      "Before: Y class 1, N: 15\n",
      "\n",
      "Saving fold  3\n",
      "train...\n",
      "Before: N censored/total  0.0 143 0.0\n",
      "Before: Y class 0, N: 119\n",
      "Before: Y class 1, N: 24\n",
      "After: N censored/total  0.0 143 0.0\n",
      "After: Y class 0, N: 119\n",
      "After: Y class 1, N: 24\n",
      "(143, 33, 16)\n",
      "valid...\n",
      "Before: N censored/total  0.0 63 0.0\n",
      "Before: Y class 0, N: 52\n",
      "Before: Y class 1, N: 11\n",
      "test...\n",
      "Before: N censored/total  0.0 89 0.0\n",
      "Before: Y class 0, N: 74\n",
      "Before: Y class 1, N: 15\n",
      "\n",
      "Saving fold  4\n",
      "train...\n",
      "Before: N censored/total  0.0 143 0.0\n",
      "Before: Y class 0, N: 119\n",
      "Before: Y class 1, N: 24\n",
      "After: N censored/total  0.0 143 0.0\n",
      "After: Y class 0, N: 119\n",
      "After: Y class 1, N: 24\n",
      "(143, 33, 16)\n",
      "valid...\n",
      "Before: N censored/total  0.0 63 0.0\n",
      "Before: Y class 0, N: 52\n",
      "Before: Y class 1, N: 11\n",
      "test...\n",
      "Before: N censored/total  0.0 89 0.0\n",
      "Before: Y class 0, N: 74\n",
      "Before: Y class 1, N: 15\n",
      "\n"
     ]
    }
   ],
   "source": [
    "print(outcomes_type)\n",
    "for fold in range(5):\n",
    "    print ('Saving fold ', fold)\n",
    "    final_dataset = {}\n",
    "    final_dataset[fold] = {}\n",
    "    for tvt in ['train','valid','test']:\n",
    "        if  tvt =='test':\n",
    "            idx = testidx\n",
    "        elif tvt =='train':\n",
    "            idx = train_valid_folds[fold][0]\n",
    "        elif tvt == 'valid':\n",
    "            idx = train_valid_folds[fold][1]\n",
    "        else:\n",
    "            raise NotImplemented()\n",
    "        final_dataset[fold][tvt] = {}\n",
    "        final_dataset[fold][tvt]['pids']               = new_dset_2mos['patient_ids'][idx]\n",
    "        # labs\n",
    "        final_dataset[fold][tvt]['x']                  = new_dset_2mos['labs_data_clean'][idx]\n",
    "        final_dataset[fold][tvt]['m']                  = new_dset_2mos['labs_m'][idx]\n",
    "        final_dataset[fold][tvt]['feature_names_x']    = new_dset_2mos['labs_names']\n",
    "        # outcomes\n",
    "        final_dataset[fold][tvt]['ys_seq'] = new_dset_2mos['y_data'][idx].reshape(-1,1)\n",
    "        final_dataset[fold][tvt]['ce']     = (1.-new_dset_2mos['event_obs'][idx]).reshape(-1,1)\n",
    "        if outcomes_type == 'trt_resp': \n",
    "            final_dataset[fold][tvt]['feature_names_y']    = new_dset_2mos['tr_names']\n",
    "        # baseline\n",
    "        final_dataset[fold][tvt]['b']      = new_dset_2mos['baseline_data_clean'][idx]\n",
    "        final_dataset[fold][tvt]['feature_names']    = new_dset_2mos['baseline_names']\n",
    "        # treatments\n",
    "        final_dataset[fold][tvt]['a']      = new_dset_2mos['treatment_data'][idx]\n",
    "        final_dataset[fold][tvt]['m_a']    = new_dset_2mos['treatment_m'][idx]\n",
    "        final_dataset[fold][tvt]['feature_names_a']    = new_dset_2mos['treatment_names']\n",
    "    \n",
    "    # Forward fill missing data in longitudinal lab tensors\n",
    "    for tvt in ['train','valid','test']:\n",
    "        x_new  = np.copy(final_dataset[fold][tvt]['x'])\n",
    "        x_new[final_dataset[fold][tvt]['m']==0] = np.nan\n",
    "        x_new_filled  = []\n",
    "        for k in range(x_new.shape[-1]):\n",
    "            x_new_filled.append(pd.DataFrame(x_new[...,k]).fillna(method='ffill', axis=1).values[...,None])\n",
    "        x_new_filled  = np.concatenate(x_new_filled, axis=-1)\n",
    "        assert not np.any(np.isnan(x_new_filled)),'should not be any nans'\n",
    "        final_dataset[fold][tvt]['x'] = x_new_filled\n",
    "    \n",
    "    # Restrict (in train/valid set) to patients with atleast two longitudinal observations\n",
    "    T_lb = 2\n",
    "    print(f'train...')\n",
    "    for tvt in ['train']:\n",
    "        M     = final_dataset[fold][tvt]['m']\n",
    "        M_t   = (M.sum(-1)>1.)*1.\n",
    "        all_t = M_t.sum(-1)\n",
    "        keep_idx = np.argwhere(all_t>T_lb).ravel()\n",
    "        if tvt == 'train':\n",
    "            if outcomes_type == 'mortality':\n",
    "                C = final_dataset[fold][tvt]['ce']\n",
    "                print ('Before: N censored/total ',C.sum(), C.shape[0], C.sum()/C.shape[0])\n",
    "            elif outcomes_type == 'trt_resp': \n",
    "                Y = final_dataset[fold][tvt]['ys_seq']\n",
    "                C = final_dataset[fold][tvt]['ce']\n",
    "                print ('Before: N censored/total ',C.sum(), C.shape[0], C.sum()/C.shape[0])\n",
    "                for i in range(np.max(Y)+1): \n",
    "                    print (f'Before: Y class {i}, N: {len(np.where(Y == i)[0])}')\n",
    "        for kk in ['a','x','m','ys_seq','ce','b','pids','m_a']:\n",
    "            final_dataset[fold][tvt][kk] = np.copy(final_dataset[fold][tvt][kk][keep_idx])\n",
    "        if tvt == 'train':\n",
    "            if outcomes_type == 'mortality':\n",
    "                C = final_dataset[fold][tvt]['ce']\n",
    "                print ('After: N censored/total ',C.sum(), C.shape[0], C.sum()/C.shape[0])\n",
    "            elif outcomes_type == 'trt_resp': \n",
    "                Y = final_dataset[fold][tvt]['ys_seq']\n",
    "                C = final_dataset[fold][tvt]['ce']\n",
    "                print ('After: N censored/total ',C.sum(), C.shape[0], C.sum()/C.shape[0])\n",
    "                for i in range(np.max(Y)+1): \n",
    "                    print (f'After: Y class {i}, N: {len(np.where(Y == i)[0])}')\n",
    "    print (final_dataset[fold]['train']['x'].shape)\n",
    "    for tvt in ['valid', 'test']: \n",
    "        print(f'{tvt}...')\n",
    "        if outcomes_type == 'mortality':\n",
    "            C = final_dataset[fold][tvt]['ce']\n",
    "            print ('Before: N censored/total ',C.sum(), C.shape[0], C.sum()/C.shape[0])\n",
    "        elif outcomes_type == 'trt_resp': \n",
    "            Y = final_dataset[fold][tvt]['ys_seq']\n",
    "            C = final_dataset[fold][tvt]['ce']\n",
    "            print ('Before: N censored/total ',C.sum(), C.shape[0], C.sum()/C.shape[0])\n",
    "            for i in range(np.max(Y)+1): \n",
    "                print (f'Before: Y class {i}, N: {len(np.where(Y == i)[0])}')\n",
    "    print()\n",
    "    with open('cleaned_mm'+str(fold)+'_2mos_tr.pkl','wb') as f:\n",
    "        pickle.dump(final_dataset, f)"
   ]
  },
  {
   "cell_type": "code",
   "execution_count": null,
   "metadata": {},
   "outputs": [],
   "source": []
  }
 ],
 "metadata": {
  "kernelspec": {
   "display_name": "Python 3",
   "language": "python",
   "name": "python3"
  },
  "language_info": {
   "codemirror_mode": {
    "name": "ipython",
    "version": 3
   },
   "file_extension": ".py",
   "mimetype": "text/x-python",
   "name": "python",
   "nbconvert_exporter": "python",
   "pygments_lexer": "ipython3",
   "version": "3.7.3"
  }
 },
 "nbformat": 4,
 "nbformat_minor": 4
}
