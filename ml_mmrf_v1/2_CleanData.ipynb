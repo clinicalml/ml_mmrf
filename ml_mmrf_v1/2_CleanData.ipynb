{
 "cells": [
  {
   "cell_type": "code",
   "execution_count": 1,
   "metadata": {},
   "outputs": [],
   "source": [
    "import pickle, os, sys\n",
    "import numpy as np\n",
    "import pandas as pd\n",
    "%matplotlib inline\n",
    "import matplotlib.pylab as plt\n",
    "import seaborn as sns\n",
    "plt.rc('font', family='serif')\n",
    "plt.rc('xtick', labelsize='x-large')\n",
    "plt.rc('ytick', labelsize='x-large')\n",
    "plt.rc('axes', labelsize='x-large')\n",
    "plt.rc('font', size=12)"
   ]
  },
  {
   "cell_type": "code",
   "execution_count": 2,
   "metadata": {},
   "outputs": [
    {
     "name": "stdout",
     "output_type": "stream",
     "text": [
      "dict_keys(['treatment', 'labs', 'baseline', 'outcomes', 'trt_outcomes'])\n",
      "dict_keys(['pids', 'data', 'obs', 'names'])\n",
      "dict_keys(['treatment', 'labs', 'baseline', 'outcomes', 'trt_outcomes'])\n",
      "dict_keys(['pids', 'data', 'obs', 'names'])\n"
     ]
    }
   ],
   "source": [
    "with open('1_mmrf_dataset_type.pkl','rb') as f:\n",
    "    dataset = pickle.load(f)\n",
    "with open('1_mmrf_dataset_2mos_type.pkl','rb') as f:\n",
    "    dataset_2mos = pickle.load(f)\n",
    "print (dataset.keys())\n",
    "print(dataset['baseline'].keys())\n",
    "print (dataset_2mos.keys())\n",
    "print(dataset_2mos['baseline'].keys())"
   ]
  },
  {
   "cell_type": "code",
   "execution_count": 3,
   "metadata": {},
   "outputs": [],
   "source": [
    "from process_tensors import clean_baseline, clean_labs, get_splits"
   ]
  },
  {
   "cell_type": "markdown",
   "metadata": {},
   "source": [
    "### Step 1: Restrict all data to share a global ordering over patient ids (from outcomes)\n",
    "* Plot distribution over outcomes"
   ]
  },
  {
   "cell_type": "code",
   "execution_count": 4,
   "metadata": {},
   "outputs": [],
   "source": [
    "new_dset = {}\n",
    "outcomes_type = 'trt_resp' # or 'mortality'\n",
    "\n",
    "if outcomes_type == 'mortality': \n",
    "    new_dset['patient_ids'] = dataset['outcomes']['pids']\n",
    "    new_dset['y_data']   = dataset['outcomes']['data']\n",
    "    new_dset['event_obs']= dataset['outcomes']['obs']\n",
    "elif outcomes_type == 'trt_resp':\n",
    "    new_dset['patient_ids'] = dataset['trt_outcomes']['pids']\n",
    "    new_dset['y_data']      = dataset['trt_outcomes']['data']\n",
    "    new_dset['event_obs']   = dataset['trt_outcomes']['obs']\n",
    "    new_dset['tr_names']    = dataset['trt_outcomes']['names']\n",
    "    \n",
    "pts = new_dset['patient_ids'].tolist()\n",
    "for k in ['treatment','labs','baseline']:\n",
    "    pts_src = dataset[k]['pids'].tolist()\n",
    "    idx_map = np.array([pts_src.index(v) for v in pts])\n",
    "    new_dset[k+'_data'] = dataset[k]['data'][idx_map]\n",
    "    new_dset[k+'_m']    = dataset[k]['obs'][idx_map]\n",
    "    new_dset[k+'_names']= dataset[k]['names']\n",
    "    \n",
    "new_dset_2mos = {}\n",
    "\n",
    "if outcomes_type == 'mortality':     \n",
    "    new_dset_2mos['patient_ids'] = dataset_2mos['outcomes']['pids']\n",
    "    new_dset_2mos['y_data']      = dataset_2mos['outcomes']['data']\n",
    "    new_dset_2mos['event_obs']   = dataset_2mos['outcomes']['obs']\n",
    "elif outcomes_type == 'trt_resp': \n",
    "    new_dset_2mos['patient_ids'] = dataset_2mos['trt_outcomes']['pids']\n",
    "    new_dset_2mos['y_data']      = dataset_2mos['trt_outcomes']['data']\n",
    "    new_dset_2mos['event_obs']   = dataset_2mos['trt_outcomes']['obs']\n",
    "    new_dset_2mos['tr_names']    = dataset_2mos['trt_outcomes']['names']\n",
    "    new_dset_2mos['ym_data']     = dataset_2mos['outcomes']['data']\n",
    "    new_dset_2mos['ce']     = dataset_2mos['outcomes']['obs']\n",
    "\n",
    "pts = new_dset_2mos['patient_ids'].tolist()\n",
    "for k in ['treatment','labs','baseline']:\n",
    "    pts_src = dataset_2mos[k]['pids'].tolist()\n",
    "    idx_map = np.array([pts_src.index(v) for v in pts])\n",
    "    new_dset_2mos[k+'_data'] = dataset_2mos[k]['data'][idx_map]\n",
    "    new_dset_2mos[k+'_m']    = dataset_2mos[k]['obs'][idx_map]\n",
    "    new_dset_2mos[k+'_names']= dataset_2mos[k]['names']"
   ]
  },
  {
   "cell_type": "code",
   "execution_count": 5,
   "metadata": {},
   "outputs": [
    {
     "name": "stdout",
     "output_type": "stream",
     "text": [
      "shape of treatment data: (1074, 33, 6)\n",
      "shape of lab data: (1074, 33, 16)\n",
      "shape of baseline data: (1074, 16)\n"
     ]
    }
   ],
   "source": [
    "print(f'shape of treatment data: {new_dset_2mos[\"treatment_data\"].shape}')\n",
    "print(f'shape of lab data: {new_dset_2mos[\"labs_data\"].shape}')\n",
    "print(f'shape of baseline data: {new_dset_2mos[\"baseline_data\"].shape}')"
   ]
  },
  {
   "cell_type": "markdown",
   "metadata": {},
   "source": [
    "### Step 2: Visualize outcome values after scaling"
   ]
  },
  {
   "cell_type": "code",
   "execution_count": 8,
   "metadata": {},
   "outputs": [
    {
     "name": "stdout",
     "output_type": "stream",
     "text": [
      "72\n"
     ]
    },
    {
     "data": {
      "image/png": "[encoded data removed]",
      "text/plain": [
       "<Figure size 432x288 with 1 Axes>"
      ]
     },
     "metadata": {
      "needs_background": "light"
     },
     "output_type": "display_data"
    }
   ],
   "source": [
    "if outcomes_type == 'mortality':\n",
    "    fig, axlist = plt.subplots(1,1)\n",
    "    sns.distplot(new_dset['y_data'][new_dset['event_obs']==1],label='observed', ax = axlist, kde=False)\n",
    "    sns.distplot(new_dset['y_data'][new_dset['event_obs']==0],label='censored', ax = axlist, kde=False)\n",
    "    axlist.legend(fontsize=18)\n",
    "    axlist.set_xlim([0,70])\n",
    "elif outcomes_type == 'trt_resp': \n",
    "    fig, axlist = plt.subplots(1,1)\n",
    "    sns.distplot(new_dset['y_data'], ax = axlist, kde=False)\n",
    "    print(len(np.where(new_dset['y_data']==1.)[0]))"
   ]
  },
  {
   "cell_type": "code",
   "execution_count": 9,
   "metadata": {},
   "outputs": [
    {
     "name": "stdout",
     "output_type": "stream",
     "text": [
      "[0 0 1 ... 0 0 0]\n"
     ]
    },
    {
     "data": {
      "image/png": "[encoded data removed]",
      "text/plain": [
       "<Figure size 432x288 with 1 Axes>"
      ]
     },
     "metadata": {
      "needs_background": "light"
     },
     "output_type": "display_data"
    }
   ],
   "source": [
    "if outcomes_type == 'mortality':\n",
    "    fig, axlist = plt.subplots(1,1)\n",
    "    sns.distplot(new_dset_2mos['y_data'][new_dset_2mos['event_obs']==1],label='observed', ax = axlist, kde=False)\n",
    "    sns.distplot(new_dset_2mos['y_data'][new_dset_2mos['event_obs']==0],label='censored', ax = axlist, kde=False)\n",
    "    axlist.legend(fontsize=18)\n",
    "    axlist.set_xlim([0,70])\n",
    "elif outcomes_type == 'trt_resp': \n",
    "    fig, axlist = plt.subplots(1,1)\n",
    "    sns.distplot(new_dset_2mos['y_data'], ax = axlist, kde=False)\n",
    "    print(new_dset_2mos['y_data'])"
   ]
  },
  {
   "cell_type": "markdown",
   "metadata": {},
   "source": [
    "### Step 2: Clean baseline values (to be in a range -7 to 7ish where 0 corresponds to reference [max])"
   ]
  },
  {
   "cell_type": "code",
   "execution_count": 10,
   "metadata": {},
   "outputs": [],
   "source": [
    "# Reference values for lab measurements\n",
    "# min/max/scale (calculated by attempting to ensure that max labs lie b/w 5-8)\n",
    "healthy_mins_max = {\n",
    "    'cbc_abs_neut':(2., 7.5,1/3.), # abs neutrophil count (3.67, 1.), (2.83, 4.51)\n",
    "    'chem_albumin':(34, 50,1/8.), # chemical albumin (43.62, 2.77), (41.30, 45.94)\n",
    "    'chem_bun':(2.5, 7.1,1/5.), #BUN # reference range, (4.8, 1.15)\n",
    "    'chem_calcium':(2.2, 2.7,2.), #Calcium, (2.45, 0.125)\n",
    "    'chem_creatinine':(66, 112,1/36.), # creatinine, (83., 24.85), (62.22, 103.77)\n",
    "    'chem_glucose':(3.9, 6.9,1/5.), # glucose, (4.91, 0.40), (4.58, 5.24)\n",
    "    'cbc_hemoglobin':(13., 17.,1), # hemoglobin (12.90, 15.64), (8.86, 1.02)\n",
    "    'chem_ldh':(2.33, 4.67,1/3.), #LDH, (3.5, 0.585)\n",
    "    'serum_m_protein':(0.1, 1.1, 1), # M protein (<3 g/dL is MGUS, any presence of protein is pathological); am just using the data mean/std for this, (0.85, 1.89)\n",
    "    'urine_24hr_m_protein':(0.0, 0.1, 1), # Urine M protein \n",
    "    'cbc_platelet':(150, 400,1/60.), # platelet count (206.42, 334.57), (270.5, 76.63)\n",
    "    'chem_totprot':(6, 8,1/6.), # total protein, (7, 0.5)\n",
    "    'urine_24hr_total_protein':(0, 0.23, 1), # \n",
    "    'cbc_wbc':(3, 10,1/4.), # WBC  (5.71, 8.44), (7.07, 1.63)\n",
    "    'serum_iga':(0.85, 4.99, 1.), # IgA, (2.92, 1.035)\n",
    "    'serum_igg':(6.10, 16.16,1/10.), # IgG, (11.13, 2.515)\n",
    "    'serum_igm':(0.35, 2.42,1), #IgM, (1.385, 0.518)\n",
    "    'serum_lambda':(0.57, 2.63, 1/2.), #serum lambda, (1.6, 0.515)\n",
    "    'serum_kappa':(.33, 1.94,1/8.), #serum kappa , (1.135, 0.403)\n",
    "    'serum_beta2_microglobulin':(0.7, 1.80, 1/3.), #serum_beta2_microglobulin,\n",
    "    'serum_c_reactive_protein':(0.0, 1., 1.) #serum_c_reactive_protein,\n",
    "}"
   ]
  },
  {
   "cell_type": "code",
   "execution_count": 11,
   "metadata": {},
   "outputs": [
    {
     "name": "stdout",
     "output_type": "stream",
     "text": [
      "A] Before cleaning\n",
      "idx, featurename, min, mean, max\n",
      "0 iss 1.0 1.8535948506193909 3.0\n",
      "1 age 27.0 62.78398510242086 93.0\n",
      "2 gender 1.0 1.3957169459962757 2.0\n",
      "3 ecog 0.0 0.8508874120751558 4.0\n",
      "4 serum_beta2_microglobulin 0.1 4.785896264800075 22.400000000000002\n",
      "5 PC1 -30.66659494 0.06284026573910537 140.0614706\n",
      "6 PC2 -40.46897077 -0.4435453236004378 115.7871011\n",
      "7 PC3 -57.38038138 -0.08536470651579149 51.23220332\n",
      "8 PC4 -36.28005205 -0.3556388830277744 51.01689348\n",
      "9 PC5 -37.58013775 -0.10985991816343105 50.21645239\n",
      "10 heavy_chain False 0.8370577281191807 True\n",
      "11 igg_type False 0.6396648044692738 True\n",
      "12 iga_type False 0.1452513966480447 True\n",
      "13 igm_type False 0.0521415270018622 True\n",
      "14 kappa_type False 0.6517690875232774 True\n",
      "15 lambda_type False 0.30074487895716945 True\n",
      "------\n",
      "------\n",
      "C] After cleaning\n",
      "0 iss 1.0 1.8535948 3.0 False\n",
      "1 age -3.405822 0.0 2.8758779 False\n",
      "2 gender -1.0 -0.20856611 1.0 False\n",
      "3 ecog -0.061402757 -6.0603604e-08 0.22724976 False\n",
      "4 serum_beta2_microglobulin -0.338149 -7.236914e-08 1.2710886 False\n",
      "5 PC1 -2.217532 2.2731902e-07 10.10274 False\n",
      "6 PC2 -2.8883598 2.4863018e-08 8.387567 False\n",
      "7 PC3 -4.134588 5.6829755e-08 3.7032363 False\n",
      "8 PC4 -2.5924182 -7.103719e-08 3.7072027 False\n",
      "9 PC5 -2.7039726 -8.879649e-09 3.631704 False\n",
      "10 heavy_chain 0.0 0.8370577 1.0 False\n",
      "11 igg_type 0.0 0.6396648 1.0 False\n",
      "12 iga_type 0.0 0.1452514 1.0 False\n",
      "13 igm_type 0.0 0.05214153 1.0 False\n",
      "14 kappa_type 0.0 0.6517691 1.0 False\n",
      "15 lambda_type 0.0 0.3007449 1.0 False\n"
     ]
    }
   ],
   "source": [
    "clean_baseline(new_dset, healthy_mins_max)"
   ]
  },
  {
   "cell_type": "code",
   "execution_count": 12,
   "metadata": {},
   "outputs": [
    {
     "name": "stdout",
     "output_type": "stream",
     "text": [
      "A] Before cleaning\n",
      "idx, featurename, min, mean, max\n",
      "0 iss 1.0 1.8535948506193909 3.0\n",
      "1 age 27.0 62.78398510242086 93.0\n",
      "2 gender 1.0 1.3957169459962757 2.0\n",
      "3 ecog 0.0 0.8508874120751558 4.0\n",
      "4 serum_beta2_microglobulin 0.1 4.785896264800075 22.400000000000002\n",
      "5 PC1 -30.66659494 0.06284026573910537 140.0614706\n",
      "6 PC2 -40.46897077 -0.4435453236004378 115.7871011\n",
      "7 PC3 -57.38038138 -0.08536470651579149 51.23220332\n",
      "8 PC4 -36.28005205 -0.3556388830277744 51.01689348\n",
      "9 PC5 -37.58013775 -0.10985991816343105 50.21645239\n",
      "10 heavy_chain False 0.8370577281191807 True\n",
      "11 igg_type False 0.6396648044692738 True\n",
      "12 iga_type False 0.1452513966480447 True\n",
      "13 igm_type False 0.0521415270018622 True\n",
      "14 kappa_type False 0.6517690875232774 True\n",
      "15 lambda_type False 0.30074487895716945 True\n",
      "------\n",
      "------\n",
      "C] After cleaning\n",
      "0 iss 1.0 1.8535948 3.0 False\n",
      "1 age -3.405822 0.0 2.8758779 False\n",
      "2 gender -1.0 -0.20856611 1.0 False\n",
      "3 ecog -0.061402757 -6.0603604e-08 0.22724976 False\n",
      "4 serum_beta2_microglobulin -0.338149 -7.236914e-08 1.2710886 False\n",
      "5 PC1 -2.217532 2.2731902e-07 10.10274 False\n",
      "6 PC2 -2.8883598 2.4863018e-08 8.387567 False\n",
      "7 PC3 -4.134588 5.6829755e-08 3.7032363 False\n",
      "8 PC4 -2.5924182 -7.103719e-08 3.7072027 False\n",
      "9 PC5 -2.7039726 -8.879649e-09 3.631704 False\n",
      "10 heavy_chain 0.0 0.8370577 1.0 False\n",
      "11 igg_type 0.0 0.6396648 1.0 False\n",
      "12 iga_type 0.0 0.1452514 1.0 False\n",
      "13 igm_type 0.0 0.05214153 1.0 False\n",
      "14 kappa_type 0.0 0.6517691 1.0 False\n",
      "15 lambda_type 0.0 0.3007449 1.0 False\n"
     ]
    }
   ],
   "source": [
    "clean_baseline(new_dset_2mos, healthy_mins_max)"
   ]
  },
  {
   "cell_type": "markdown",
   "metadata": {},
   "source": [
    "### Step 3: Clean time-series lab values"
   ]
  },
  {
   "cell_type": "code",
   "execution_count": 13,
   "metadata": {},
   "outputs": [
    {
     "name": "stdout",
     "output_type": "stream",
     "text": [
      "A] Before cleaning\n",
      "idx, featurename, min, mean, max\n",
      "0 cbc_abs_neut 0.0 0.519731427634571 19.5\n",
      "1 chem_albumin 0.0 5.862420689567351 140.0\n",
      "2 chem_bun 0.0 0.9741879421783552 33.56\n",
      "3 chem_calcium 0.0 0.3528982698384464 4.25\n",
      "4 chem_creatinine 0.0 15.278424980316561 429.31999999999994\n",
      "5 chem_glucose 0.0 0.9435098572032145 32.775\n",
      "6 cbc_hemoglobin 0.0 1.1785143925188335 11.655999999999999\n",
      "7 serum_kappa -9.9 0.5952868892903069 14.66\n",
      "8 serum_m_protein 0.0 0.10167164650470767 5.6499999999999995\n",
      "9 cbc_platelet 0.0 29.71177957924597 732.0\n",
      "10 chem_totprot 0.0 1.057953841575954 17.1\n",
      "11 cbc_wbc 0.0 0.8608215804751658 29.5\n",
      "12 serum_iga 0.0 0.19202532087370253 9.0\n",
      "13 serum_igg 0.0 1.5864588041698935 49.050000000000004\n",
      "14 serum_igm -0.16 0.04873071272599691 6.4\n",
      "15 serum_lambda 0.0 0.3598355664203684 11.35\n",
      "------\n",
      "B] Subtracting healthy max  7.5  from cbc_abs_neut  and scaling:  0.3333333333333333\n",
      "B] Subtracting healthy max  50  from chem_albumin  and scaling:  0.125\n",
      "B] Subtracting healthy max  7.1  from chem_bun  and scaling:  0.2\n",
      "B] Subtracting healthy max  2.7  from chem_calcium  and scaling:  2.0\n",
      "B] Subtracting healthy max  112  from chem_creatinine  and scaling:  0.027777777777777776\n",
      "B] Subtracting healthy max  6.9  from chem_glucose  and scaling:  0.2\n",
      "B] Subtracting healthy max  17.0  from cbc_hemoglobin  and scaling:  1\n",
      "B] Subtracting healthy max  1.94  from serum_kappa  and scaling:  0.125\n",
      "B] Subtracting healthy max  1.1  from serum_m_protein  and scaling:  1\n",
      "B] Subtracting healthy max  400  from cbc_platelet  and scaling:  0.016666666666666666\n",
      "B] Subtracting healthy max  8  from chem_totprot  and scaling:  0.16666666666666666\n",
      "B] Subtracting healthy max  10  from cbc_wbc  and scaling:  0.25\n",
      "B] Subtracting healthy max  4.99  from serum_iga  and scaling:  1.0\n",
      "B] Subtracting healthy max  16.16  from serum_igg  and scaling:  0.1\n",
      "B] Subtracting healthy max  2.42  from serum_igm  and scaling:  1\n",
      "B] Subtracting healthy max  2.63  from serum_lambda  and scaling:  0.5\n",
      "------\n",
      "C] After cleaning\n",
      "0 cbc_abs_neut -2.5 -2.3267562 4.0\n",
      "1 chem_albumin -6.25 -5.5171976 11.25\n",
      "2 chem_bun -1.42 -1.2251624 5.2920003\n",
      "3 chem_calcium -5.4 -4.6942043 3.1\n",
      "4 chem_creatinine -3.1111112 -2.6867101 8.814445\n",
      "5 chem_glucose -1.38 -1.191298 5.1750007\n",
      "6 cbc_hemoglobin -17.0 -15.821485 -5.344\n",
      "7 serum_kappa -1.48 -0.16808918 1.5899999\n",
      "8 serum_m_protein -1.1 -0.99832845 4.55\n",
      "9 cbc_platelet -6.666667 -6.17147 5.533334\n",
      "10 chem_totprot -1.3333334 -1.1570076 1.5166668\n",
      "11 cbc_wbc -2.5 -2.2847946 4.875\n",
      "12 serum_iga -4.99 -4.797974 4.01\n",
      "13 serum_igg -1.616 -1.457354 3.289\n",
      "14 serum_igm -2.5800002 -2.3712692 3.98\n",
      "15 serum_lambda -1.315 -1.1350825 4.36\n",
      "A] Before cleaning\n",
      "idx, featurename, min, mean, max\n",
      "0 cbc_abs_neut 0.0 1.0224085976087391 19.5\n",
      "1 chem_albumin 0.0 11.54629050728774 140.0\n",
      "2 chem_bun 0.0 1.9178172589969678 33.56\n",
      "3 chem_calcium 0.0 0.6949523435254342 4.25\n",
      "4 chem_creatinine 0.0 30.08305615667173 429.31999999999994\n",
      "5 chem_glucose 0.0 1.8586061090794157 32.775\n",
      "6 cbc_hemoglobin 0.0 2.3199498391542517 11.655999999999999\n",
      "7 serum_kappa -9.9 1.173452876825634 14.66\n",
      "8 serum_m_protein 0.0 0.20009940158116643 5.6499999999999995\n",
      "9 cbc_platelet 0.0 58.41049556162947 732.0\n",
      "10 chem_totprot 0.0 2.0836544243064705 17.1\n",
      "11 cbc_wbc 0.0 1.6923886042097414 29.5\n",
      "12 serum_iga 0.0 0.3781747600251546 9.0\n",
      "13 serum_igg 0.0 3.1281892070080337 49.050000000000004\n",
      "14 serum_igm -0.16 0.09616039842191654 6.4\n",
      "15 serum_lambda 0.0 0.7088606819632468 11.35\n",
      "------\n",
      "B] Subtracting healthy max  7.5  from cbc_abs_neut  and scaling:  0.3333333333333333\n",
      "B] Subtracting healthy max  50  from chem_albumin  and scaling:  0.125\n",
      "B] Subtracting healthy max  7.1  from chem_bun  and scaling:  0.2\n",
      "B] Subtracting healthy max  2.7  from chem_calcium  and scaling:  2.0\n",
      "B] Subtracting healthy max  112  from chem_creatinine  and scaling:  0.027777777777777776\n",
      "B] Subtracting healthy max  6.9  from chem_glucose  and scaling:  0.2\n",
      "B] Subtracting healthy max  17.0  from cbc_hemoglobin  and scaling:  1\n",
      "B] Subtracting healthy max  1.94  from serum_kappa  and scaling:  0.125\n",
      "B] Subtracting healthy max  1.1  from serum_m_protein  and scaling:  1\n",
      "B] Subtracting healthy max  400  from cbc_platelet  and scaling:  0.016666666666666666\n",
      "B] Subtracting healthy max  8  from chem_totprot  and scaling:  0.16666666666666666\n",
      "B] Subtracting healthy max  10  from cbc_wbc  and scaling:  0.25\n",
      "B] Subtracting healthy max  4.99  from serum_iga  and scaling:  1.0\n",
      "B] Subtracting healthy max  16.16  from serum_igg  and scaling:  0.1\n",
      "B] Subtracting healthy max  2.42  from serum_igm  and scaling:  1\n",
      "B] Subtracting healthy max  2.63  from serum_lambda  and scaling:  0.5\n",
      "------\n",
      "C] After cleaning\n",
      "0 cbc_abs_neut -2.5 -2.159197 4.0\n",
      "1 chem_albumin -6.25 -4.8067136 11.25\n",
      "2 chem_bun -1.42 -1.0364366 5.2920003\n",
      "3 chem_calcium -5.4 -4.0100956 3.1\n",
      "4 chem_creatinine -3.1111112 -2.2754705 8.814445\n",
      "5 chem_glucose -1.38 -1.0082787 5.1750007\n",
      "6 cbc_hemoglobin -17.0 -14.68005 -5.344\n",
      "7 serum_kappa -1.48 -0.095818415 1.5899999\n",
      "8 serum_m_protein -1.1 -0.89990073 4.55\n",
      "9 cbc_platelet -6.666667 -5.6931586 5.533334\n",
      "10 chem_totprot -1.3333334 -0.9860575 1.5166668\n",
      "11 cbc_wbc -2.5 -2.0769026 4.875\n",
      "12 serum_iga -4.99 -4.611825 4.01\n",
      "13 serum_igg -1.616 -1.303181 3.289\n",
      "14 serum_igm -2.5800002 -2.3238397 3.98\n",
      "15 serum_lambda -1.315 -0.9605698 4.36\n"
     ]
    }
   ],
   "source": [
    "clean_labs(new_dset, healthy_mins_max)\n",
    "clean_labs(new_dset_2mos, healthy_mins_max)"
   ]
  },
  {
   "cell_type": "markdown",
   "metadata": {},
   "source": [
    "### Step 4: Get censorship balanced train/test splits"
   ]
  },
  {
   "cell_type": "code",
   "execution_count": 14,
   "metadata": {},
   "outputs": [
    {
     "name": "stdout",
     "output_type": "stream",
     "text": [
      "Total:  1074\n",
      "Total:  751\n",
      "Fold:  0 525 226\n",
      "Event obs:  35 15\n",
      "Total:  751\n",
      "Fold:  1 525 226\n",
      "Event obs:  35 15\n",
      "Total:  751\n",
      "Fold:  2 525 226\n",
      "Event obs:  35 15\n",
      "Total:  751\n",
      "Fold:  3 525 226\n",
      "Event obs:  35 15\n",
      "Total:  751\n",
      "Fold:  4 525 226\n",
      "Event obs:  35 15\n"
     ]
    }
   ],
   "source": [
    "train_valid_folds, testidx = get_splits(new_dset['y_data'], nfolds=5)"
   ]
  },
  {
   "cell_type": "code",
   "execution_count": 11,
   "metadata": {},
   "outputs": [
    {
     "name": "stdout",
     "output_type": "stream",
     "text": [
      "Reading...\n"
     ]
    }
   ],
   "source": [
    "if not os.path.exists('folds.pkl'):\n",
    "    train_valid_folds, testidx = get_splits(new_dset['event_obs'], nfolds = 5)\n",
    "    with open('folds.pkl','wb') as f:\n",
    "        pickle.dump((train_valid_folds, testidx),f)\n",
    "else:\n",
    "    print ('Reading...')\n",
    "    with open('folds.pkl','rb') as f:\n",
    "        train_valid_folds, testidx = pickle.load(f)"
   ]
  },
  {
   "cell_type": "markdown",
   "metadata": {},
   "source": [
    "### Step 5: Split dataset for 5 fold CV"
   ]
  },
  {
   "cell_type": "code",
   "execution_count": 12,
   "metadata": {},
   "outputs": [
    {
     "name": "stdout",
     "output_type": "stream",
     "text": [
      "Saving fold  0\n",
      "Before: N censored/total  360.0 489 0.7361963190184049\n",
      "After: N censored/total  335.0 439 0.7630979498861048\n",
      "Saving fold  1\n",
      "Before: N censored/total  364.0 489 0.7443762781186094\n",
      "After: N censored/total  340.0 441 0.7709750566893424\n",
      "Saving fold  2\n",
      "Before: N censored/total  359.0 489 0.7341513292433538\n",
      "After: N censored/total  336.0 438 0.7671232876712328\n",
      "Saving fold  3\n",
      "Before: N censored/total  362.0 489 0.7402862985685071\n",
      "After: N censored/total  340.0 439 0.7744874715261959\n",
      "Saving fold  4\n",
      "Before: N censored/total  362.0 489 0.7402862985685071\n",
      "After: N censored/total  341.0 439 0.7767653758542141\n"
     ]
    }
   ],
   "source": [
    "for fold in range(5):\n",
    "    print ('Saving fold ', fold)\n",
    "    final_dataset = {}\n",
    "    final_dataset[fold] = {}\n",
    "    for tvt in ['train','valid','test']:\n",
    "        if  tvt =='test':\n",
    "            idx = testidx\n",
    "        elif tvt =='train':\n",
    "            idx = train_valid_folds[fold][0]\n",
    "        elif tvt == 'valid':\n",
    "            idx = train_valid_folds[fold][1]\n",
    "        else:\n",
    "            raise NotImplemented()\n",
    "        final_dataset[fold][tvt] = {}\n",
    "        final_dataset[fold][tvt]['pids']   = new_dset['patient_ids'][idx]\n",
    "        # labs\n",
    "        final_dataset[fold][tvt]['x']      = new_dset['labs_data_clean'][idx]\n",
    "        final_dataset[fold][tvt]['m']    = new_dset['labs_m'][idx]\n",
    "        final_dataset[fold][tvt]['feature_names_x']    = new_dset['labs_names']\n",
    "        # outcomes\n",
    "        final_dataset[fold][tvt]['ys_seq'] = new_dset['y_data'][idx].reshape(-1,1)\n",
    "        final_dataset[fold][tvt]['ce']     = (1.-new_dset['event_obs'][idx]).reshape(-1,1)\n",
    "        # baseline\n",
    "        final_dataset[fold][tvt]['b']      = new_dset['baseline_data_clean'][idx]\n",
    "        final_dataset[fold][tvt]['feature_names']    = new_dset['baseline_names']\n",
    "        # treatments\n",
    "        final_dataset[fold][tvt]['a']      = new_dset['treatment_data'][idx]\n",
    "        final_dataset[fold][tvt]['m_a']    = new_dset['treatment_m'][idx]\n",
    "        final_dataset[fold][tvt]['feature_names_a']    = new_dset['treatment_names']\n",
    "    \n",
    "    # Forward fill missing data in longitudinal lab tensors\n",
    "    for tvt in ['train','valid','test']:\n",
    "        x_new  = np.copy(final_dataset[fold][tvt]['x'])\n",
    "        x_new[final_dataset[fold][tvt]['m']==0] = np.nan\n",
    "        x_new_filled  = []\n",
    "        for k in range(x_new.shape[-1]):\n",
    "            x_new_filled.append(pd.DataFrame(x_new[...,k]).fillna(method='ffill', axis=1).values[...,None])\n",
    "        x_new_filled  = np.concatenate(x_new_filled, axis=-1)\n",
    "        assert not np.any(np.isnan(x_new_filled)),'should not be any nans'\n",
    "        final_dataset[fold][tvt]['x'] = x_new_filled\n",
    "    \n",
    "    # Restrict (in train/valid set) to patients with atleast two longitudinal observations\n",
    "    T_lb = 2\n",
    "    for tvt in ['train']:\n",
    "        M     = final_dataset[fold][tvt]['m']\n",
    "        M_t   = (M.sum(-1)>1.)*1.\n",
    "        all_t = M_t.sum(-1)\n",
    "        keep_idx = np.argwhere(all_t>T_lb).ravel()\n",
    "        if tvt == 'train':\n",
    "            C = final_dataset[fold][tvt]['ce']\n",
    "            print ('Before: N censored/total ',C.sum(), C.shape[0], C.sum()/C.shape[0])\n",
    "        for kk in ['a','x','m','ys_seq','ce','b','pids','m_a']:\n",
    "            final_dataset[fold][tvt][kk] = np.copy(final_dataset[fold][tvt][kk][keep_idx])\n",
    "        if tvt == 'train':\n",
    "            C = final_dataset[fold][tvt]['ce']\n",
    "            print ('After: N censored/total ',C.sum(), C.shape[0], C.sum()/C.shape[0])\n",
    "\n",
    "    with open('cleaned_mm'+str(fold)+'.pkl','wb') as f:\n",
    "        pickle.dump(final_dataset, f)"
   ]
  },
  {
   "cell_type": "code",
   "execution_count": 13,
   "metadata": {},
   "outputs": [
    {
     "data": {
      "text/plain": [
       "(1074, 33, 6)"
      ]
     },
     "execution_count": 13,
     "metadata": {},
     "output_type": "execute_result"
    }
   ],
   "source": [
    "new_dset_2mos['treatment_data'].shape"
   ]
  },
  {
   "cell_type": "code",
   "execution_count": 15,
   "metadata": {},
   "outputs": [
    {
     "name": "stdout",
     "output_type": "stream",
     "text": [
      "Saving fold  0\n",
      "train...\n",
      "Before: N censored/total  0.0 525 0.0\n",
      "Before: Y class 0, N: 490\n",
      "Before: Y class 1, N: 35\n",
      "After: N censored/total  0.0 428 0.0\n",
      "After: Y class 0, N: 399\n",
      "After: Y class 1, N: 29\n",
      "(428, 33, 16)\n",
      "valid...\n",
      "Before: N censored/total  0.0 226 0.0\n",
      "Before: Y class 0, N: 211\n",
      "Before: Y class 1, N: 15\n",
      "test...\n",
      "Before: N censored/total  0.0 323 0.0\n",
      "Before: Y class 0, N: 301\n",
      "Before: Y class 1, N: 22\n",
      "\n",
      "Saving fold  1\n",
      "train...\n",
      "Before: N censored/total  0.0 525 0.0\n",
      "Before: Y class 0, N: 490\n",
      "Before: Y class 1, N: 35\n",
      "After: N censored/total  0.0 428 0.0\n",
      "After: Y class 0, N: 398\n",
      "After: Y class 1, N: 30\n",
      "(428, 33, 16)\n",
      "valid...\n",
      "Before: N censored/total  0.0 226 0.0\n",
      "Before: Y class 0, N: 211\n",
      "Before: Y class 1, N: 15\n",
      "test...\n",
      "Before: N censored/total  0.0 323 0.0\n",
      "Before: Y class 0, N: 301\n",
      "Before: Y class 1, N: 22\n",
      "\n",
      "Saving fold  2\n",
      "train...\n",
      "Before: N censored/total  0.0 525 0.0\n",
      "Before: Y class 0, N: 490\n",
      "Before: Y class 1, N: 35\n",
      "After: N censored/total  0.0 438 0.0\n",
      "After: Y class 0, N: 410\n",
      "After: Y class 1, N: 28\n",
      "(438, 33, 16)\n",
      "valid...\n",
      "Before: N censored/total  0.0 226 0.0\n",
      "Before: Y class 0, N: 211\n",
      "Before: Y class 1, N: 15\n",
      "test...\n",
      "Before: N censored/total  0.0 323 0.0\n",
      "Before: Y class 0, N: 301\n",
      "Before: Y class 1, N: 22\n",
      "\n",
      "Saving fold  3\n",
      "train...\n",
      "Before: N censored/total  0.0 525 0.0\n",
      "Before: Y class 0, N: 490\n",
      "Before: Y class 1, N: 35\n",
      "After: N censored/total  0.0 429 0.0\n",
      "After: Y class 0, N: 401\n",
      "After: Y class 1, N: 28\n",
      "(429, 33, 16)\n",
      "valid...\n",
      "Before: N censored/total  0.0 226 0.0\n",
      "Before: Y class 0, N: 211\n",
      "Before: Y class 1, N: 15\n",
      "test...\n",
      "Before: N censored/total  0.0 323 0.0\n",
      "Before: Y class 0, N: 301\n",
      "Before: Y class 1, N: 22\n",
      "\n",
      "Saving fold  4\n",
      "train...\n",
      "Before: N censored/total  0.0 525 0.0\n",
      "Before: Y class 0, N: 490\n",
      "Before: Y class 1, N: 35\n",
      "After: N censored/total  0.0 438 0.0\n",
      "After: Y class 0, N: 411\n",
      "After: Y class 1, N: 27\n",
      "(438, 33, 16)\n",
      "valid...\n",
      "Before: N censored/total  0.0 226 0.0\n",
      "Before: Y class 0, N: 211\n",
      "Before: Y class 1, N: 15\n",
      "test...\n",
      "Before: N censored/total  0.0 323 0.0\n",
      "Before: Y class 0, N: 301\n",
      "Before: Y class 1, N: 22\n",
      "\n"
     ]
    }
   ],
   "source": [
    "for fold in range(5):\n",
    "    print ('Saving fold ', fold)\n",
    "    final_dataset = {}\n",
    "    final_dataset[fold] = {}\n",
    "    for tvt in ['train','valid','test']:\n",
    "        if  tvt =='test':\n",
    "            idx = testidx\n",
    "        elif tvt =='train':\n",
    "            idx = train_valid_folds[fold][0]\n",
    "        elif tvt == 'valid':\n",
    "            idx = train_valid_folds[fold][1]\n",
    "        else:\n",
    "            raise NotImplemented()\n",
    "        final_dataset[fold][tvt] = {}\n",
    "        final_dataset[fold][tvt]['pids']               = new_dset_2mos['patient_ids'][idx]\n",
    "        # labs\n",
    "        final_dataset[fold][tvt]['x']                  = new_dset_2mos['labs_data_clean'][idx]\n",
    "        final_dataset[fold][tvt]['m']                  = new_dset_2mos['labs_m'][idx]\n",
    "        final_dataset[fold][tvt]['feature_names_x']    = new_dset_2mos['labs_names']\n",
    "        # outcomes\n",
    "        final_dataset[fold][tvt]['ys_seq'] = new_dset_2mos['y_data'][idx].reshape(-1,1)\n",
    "        final_dataset[fold][tvt]['ce']     = (1.-new_dset_2mos['event_obs'][idx]).reshape(-1,1)\n",
    "        if outcomes_type == 'trt_resp': \n",
    "            final_dataset[fold][tvt]['feature_names_y']    = new_dset_2mos['tr_names']\n",
    "        # baseline\n",
    "        final_dataset[fold][tvt]['b']      = new_dset_2mos['baseline_data_clean'][idx]\n",
    "        final_dataset[fold][tvt]['feature_names']    = new_dset_2mos['baseline_names']\n",
    "        # treatments\n",
    "        final_dataset[fold][tvt]['a']      = new_dset_2mos['treatment_data'][idx]\n",
    "        final_dataset[fold][tvt]['m_a']    = new_dset_2mos['treatment_m'][idx]\n",
    "        final_dataset[fold][tvt]['feature_names_a']    = new_dset_2mos['treatment_names']\n",
    "    \n",
    "    # Forward fill missing data in longitudinal lab tensors\n",
    "    for tvt in ['train','valid','test']:\n",
    "        x_new  = np.copy(final_dataset[fold][tvt]['x'])\n",
    "        x_new[final_dataset[fold][tvt]['m']==0] = np.nan\n",
    "        x_new_filled  = []\n",
    "        for k in range(x_new.shape[-1]):\n",
    "            x_new_filled.append(pd.DataFrame(x_new[...,k]).fillna(method='ffill', axis=1).values[...,None])\n",
    "        x_new_filled  = np.concatenate(x_new_filled, axis=-1)\n",
    "        assert not np.any(np.isnan(x_new_filled)),'should not be any nans'\n",
    "        final_dataset[fold][tvt]['x'] = x_new_filled\n",
    "    \n",
    "    # Restrict (in train/valid set) to patients with atleast two longitudinal observations\n",
    "    T_lb = 2\n",
    "    print(f'train...')\n",
    "    for tvt in ['train']:\n",
    "        M     = final_dataset[fold][tvt]['m']\n",
    "        M_t   = (M.sum(-1)>1.)*1.\n",
    "        all_t = M_t.sum(-1)\n",
    "        keep_idx = np.argwhere(all_t>T_lb).ravel()\n",
    "        if tvt == 'train':\n",
    "            if outcomes_type == 'mortality':\n",
    "                C = final_dataset[fold][tvt]['ce']\n",
    "                print ('Before: N censored/total ',C.sum(), C.shape[0], C.sum()/C.shape[0])\n",
    "            elif outcomes_type == 'trt_resp': \n",
    "                Y = final_dataset[fold][tvt]['ys_seq']\n",
    "                C = final_dataset[fold][tvt]['ce']\n",
    "                print ('Before: N censored/total ',C.sum(), C.shape[0], C.sum()/C.shape[0])\n",
    "                for i in range(np.max(Y)+1): \n",
    "                    print (f'Before: Y class {i}, N: {len(np.where(Y == i)[0])}')\n",
    "        for kk in ['a','x','m','ys_seq','ce','b','pids','m_a']:\n",
    "            final_dataset[fold][tvt][kk] = np.copy(final_dataset[fold][tvt][kk][keep_idx])\n",
    "        if tvt == 'train':\n",
    "            if outcomes_type == 'mortality':\n",
    "                C = final_dataset[fold][tvt]['ce']\n",
    "                print ('After: N censored/total ',C.sum(), C.shape[0], C.sum()/C.shape[0])\n",
    "            elif outcomes_type == 'trt_resp': \n",
    "                Y = final_dataset[fold][tvt]['ys_seq']\n",
    "                C = final_dataset[fold][tvt]['ce']\n",
    "                print ('After: N censored/total ',C.sum(), C.shape[0], C.sum()/C.shape[0])\n",
    "                for i in range(np.max(Y)+1): \n",
    "                    print (f'After: Y class {i}, N: {len(np.where(Y == i)[0])}')\n",
    "    print (final_dataset[fold]['train']['x'].shape)\n",
    "    for tvt in ['valid', 'test']: \n",
    "        print(f'{tvt}...')\n",
    "        if outcomes_type == 'mortality':\n",
    "            C = final_dataset[fold][tvt]['ce']\n",
    "            print ('Before: N censored/total ',C.sum(), C.shape[0], C.sum()/C.shape[0])\n",
    "        elif outcomes_type == 'trt_resp': \n",
    "            Y = final_dataset[fold][tvt]['ys_seq']\n",
    "            C = final_dataset[fold][tvt]['ce']\n",
    "            print ('Before: N censored/total ',C.sum(), C.shape[0], C.sum()/C.shape[0])\n",
    "        for i in range(np.max(Y)+1): \n",
    "            print (f'Before: Y class {i}, N: {len(np.where(Y == i)[0])}')\n",
    "    print()\n",
    "    with open('cleaned_mm'+str(fold)+'_2mos_tr.pkl','wb') as f:\n",
    "        pickle.dump(final_dataset, f)"
   ]
  },
  {
   "cell_type": "code",
   "execution_count": null,
   "metadata": {},
   "outputs": [],
   "source": []
  }
 ],
 "metadata": {
  "kernelspec": {
   "display_name": "Python 3",
   "language": "python",
   "name": "python3"
  },
  "language_info": {
   "codemirror_mode": {
    "name": "ipython",
    "version": 3
   },
   "file_extension": ".py",
   "mimetype": "text/x-python",
   "name": "python",
   "nbconvert_exporter": "python",
   "pygments_lexer": "ipython3",
   "version": "3.7.3"
  }
 },
 "nbformat": 4,
 "nbformat_minor": 4
}
