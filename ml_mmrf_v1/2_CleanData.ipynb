{
 "cells": [
  {
   "cell_type": "code",
   "execution_count": 1,
   "metadata": {},
   "outputs": [],
   "source": [
    "import pickle, os, sys\n",
    "import numpy as np\n",
    "import pandas as pd\n",
    "%matplotlib inline\n",
    "import matplotlib.pylab as plt\n",
    "import seaborn as sns\n",
    "plt.rc('font', family='serif')\n",
    "plt.rc('xtick', labelsize='x-large')\n",
    "plt.rc('ytick', labelsize='x-large')\n",
    "plt.rc('axes', labelsize='x-large')\n",
    "plt.rc('font', size=12)"
   ]
  },
  {
   "cell_type": "code",
   "execution_count": 2,
   "metadata": {},
   "outputs": [
    {
     "name": "stdout",
     "output_type": "stream",
     "text": [
      "dict_keys(['treatment', 'labs', 'baseline', 'outcomes'])\n",
      "dict_keys(['pids', 'data', 'obs', 'names'])\n",
      "dict_keys(['treatment', 'labs', 'baseline', 'outcomes'])\n",
      "dict_keys(['pids', 'data', 'obs', 'names'])\n"
     ]
    }
   ],
   "source": [
    "with open('1_mmrf_dataset_type.pkl','rb') as f:\n",
    "    dataset = pickle.load(f)\n",
    "with open('1_mmrf_dataset_2mos_type.pkl','rb') as f:\n",
    "    dataset_2mos = pickle.load(f)\n",
    "print (dataset.keys())\n",
    "print(dataset['baseline'].keys())\n",
    "print (dataset_2mos.keys())\n",
    "print(dataset_2mos['baseline'].keys())"
   ]
  },
  {
   "cell_type": "code",
   "execution_count": 3,
   "metadata": {},
   "outputs": [],
   "source": [
    "from process_tensors import clean_baseline, clean_labs, get_splits"
   ]
  },
  {
   "cell_type": "markdown",
   "metadata": {},
   "source": [
    "### Step 1: Restrict all data to share a global ordering over patient ids (from outcomes)\n",
    "* Plot distribution over outcomes"
   ]
  },
  {
   "cell_type": "code",
   "execution_count": 4,
   "metadata": {},
   "outputs": [],
   "source": [
    "new_dset = {}\n",
    "new_dset['patient_ids'] = dataset['outcomes']['pids']\n",
    "new_dset['y_data']   = dataset['outcomes']['data']\n",
    "new_dset['event_obs']= dataset['outcomes']['obs']\n",
    "\n",
    "pts = new_dset['patient_ids'].tolist()\n",
    "for k in ['treatment','labs','baseline']:\n",
    "    pts_src = dataset[k]['pids'].tolist()\n",
    "    idx_map = np.array([pts_src.index(v) for v in pts])\n",
    "    new_dset[k+'_data'] = dataset[k]['data'][idx_map]\n",
    "    new_dset[k+'_m']    = dataset[k]['obs'][idx_map]\n",
    "    new_dset[k+'_names']= dataset[k]['names']\n",
    "    \n",
    "new_dset_2mos = {}\n",
    "new_dset_2mos['patient_ids'] = dataset_2mos['outcomes']['pids']\n",
    "new_dset_2mos['y_data']      = dataset_2mos['outcomes']['data']\n",
    "new_dset_2mos['event_obs']   = dataset_2mos['outcomes']['obs']\n",
    "\n",
    "pts = new_dset_2mos['patient_ids'].tolist()\n",
    "for k in ['treatment','labs','baseline']:\n",
    "    pts_src = dataset_2mos[k]['pids'].tolist()\n",
    "    idx_map = np.array([pts_src.index(v) for v in pts])\n",
    "    new_dset_2mos[k+'_data'] = dataset_2mos[k]['data'][idx_map]\n",
    "    new_dset_2mos[k+'_m']    = dataset_2mos[k]['obs'][idx_map]\n",
    "    new_dset_2mos[k+'_names']= dataset_2mos[k]['names']"
   ]
  },
  {
   "cell_type": "markdown",
   "metadata": {},
   "source": [
    "### Step 2: Visualize outcome values after scaling"
   ]
  },
  {
   "cell_type": "code",
   "execution_count": 5,
   "metadata": {},
   "outputs": [
    {
     "data": {
      "text/plain": [
       "(0, 70)"
      ]
     },
     "execution_count": 5,
     "metadata": {},
     "output_type": "execute_result"
    },
    {
     "data": {
      "image/png": "[encoded data removed]",
      "text/plain": [
       "<Figure size 432x288 with 1 Axes>"
      ]
     },
     "metadata": {
      "needs_background": "light"
     },
     "output_type": "display_data"
    }
   ],
   "source": [
    "fig, axlist = plt.subplots(1,1)\n",
    "sns.distplot(new_dset['y_data'][new_dset['event_obs']==1],label='observed', ax = axlist, kde=False)\n",
    "sns.distplot(new_dset['y_data'][new_dset['event_obs']==0],label='censored', ax = axlist, kde=False)\n",
    "axlist.legend(fontsize=18)\n",
    "axlist.set_xlim([0,70])"
   ]
  },
  {
   "cell_type": "code",
   "execution_count": 6,
   "metadata": {},
   "outputs": [
    {
     "data": {
      "text/plain": [
       "(0, 70)"
      ]
     },
     "execution_count": 6,
     "metadata": {},
     "output_type": "execute_result"
    },
    {
     "data": {
      "image/png": "[encoded data removed]",
      "text/plain": [
       "<Figure size 432x288 with 1 Axes>"
      ]
     },
     "metadata": {
      "needs_background": "light"
     },
     "output_type": "display_data"
    }
   ],
   "source": [
    "fig, axlist = plt.subplots(1,1)\n",
    "sns.distplot(new_dset_2mos['y_data'][new_dset_2mos['event_obs']==1],label='observed', ax = axlist, kde=False)\n",
    "sns.distplot(new_dset_2mos['y_data'][new_dset_2mos['event_obs']==0],label='censored', ax = axlist, kde=False)\n",
    "axlist.legend(fontsize=18)\n",
    "axlist.set_xlim([0,70])"
   ]
  },
  {
   "cell_type": "markdown",
   "metadata": {},
   "source": [
    "### Step 2: Clean baseline values (to be in a range -7 to 7ish where 0 corresponds to reference [max])"
   ]
  },
  {
   "cell_type": "code",
   "execution_count": 7,
   "metadata": {},
   "outputs": [],
   "source": [
    "# Reference values for lab measurements\n",
    "# min/max/scale (calculated by attempting to ensure that max labs lie b/w 5-8)\n",
    "healthy_mins_max = {\n",
    "    'cbc_abs_neut':(2., 7.5,1/3.), # abs neutrophil count (3.67, 1.), (2.83, 4.51)\n",
    "    'chem_albumin':(34, 50,1/8.), # chemical albumin (43.62, 2.77), (41.30, 45.94)\n",
    "    'chem_bun':(2.5, 7.1,1/5.), #BUN # reference range, (4.8, 1.15)\n",
    "    'chem_calcium':(2.2, 2.7,2.), #Calcium, (2.45, 0.125)\n",
    "    'chem_creatinine':(66, 112,1/36.), # creatinine, (83., 24.85), (62.22, 103.77)\n",
    "    'chem_glucose':(3.9, 6.9,1/5.), # glucose, (4.91, 0.40), (4.58, 5.24)\n",
    "    'cbc_hemoglobin':(13., 17.,1), # hemoglobin (12.90, 15.64), (8.86, 1.02)\n",
    "    'chem_ldh':(2.33, 4.67,1/3.), #LDH, (3.5, 0.585)\n",
    "    'serum_m_protein':(0.1, 1.1, 1), # M protein (<3 g/dL is MGUS, any presence of protein is pathological); am just using the data mean/std for this, (0.85, 1.89)\n",
    "    'urine_24hr_m_protein':(0.0, 0.1, 1), # Urine M protein \n",
    "    'cbc_platelet':(150, 400,1/60.), # platelet count (206.42, 334.57), (270.5, 76.63)\n",
    "    'chem_totprot':(6, 8,1/6.), # total protein, (7, 0.5)\n",
    "    'urine_24hr_total_protein':(0, 0.23, 1), # \n",
    "    'cbc_wbc':(3, 10,1/4.), # WBC  (5.71, 8.44), (7.07, 1.63)\n",
    "    'serum_iga':(0.85, 4.99, 1.), # IgA, (2.92, 1.035)\n",
    "    'serum_igg':(6.10, 16.16,1/10.), # IgG, (11.13, 2.515)\n",
    "    'serum_igm':(0.35, 2.42,1), #IgM, (1.385, 0.518)\n",
    "    'serum_lambda':(0.57, 2.63, 1/2.), #serum lambda, (1.6, 0.515)\n",
    "    'serum_kappa':(.33, 1.94,1/8.), #serum kappa , (1.135, 0.403)\n",
    "    'serum_beta2_microglobulin':(0.7, 1.80, 1/3.), #serum_beta2_microglobulin,\n",
    "    'serum_c_reactive_protein':(0.0, 1., 1.) #serum_c_reactive_protein,\n",
    "}"
   ]
  },
  {
   "cell_type": "code",
   "execution_count": 8,
   "metadata": {},
   "outputs": [
    {
     "name": "stdout",
     "output_type": "stream",
     "text": [
      "A] Before cleaning\n",
      "idx, featurename, min, mean, max\n",
      "0 iss 1.0 1.853668071059385 3.0\n",
      "1 age 27.0 63.926073926073926 93.0\n",
      "2 gender 1.0 1.3956043956043955 2.0\n",
      "3 ecog 0.0 0.8791469194312789 4.0\n",
      "4 serum_beta2_microglobulin 0.20800000000000002 5.097520940528193 22.400000000000002\n",
      "5 PC1 -30.66659494 -0.976063433574628 140.0614706\n",
      "6 PC2 -34.81806261 1.4875103276082826 115.7871011\n",
      "7 PC3 -57.38038138 -1.6638067204016924 51.23220332\n",
      "8 PC4 -36.28005205 -2.1831262046966544 44.84930211\n",
      "9 PC5 -37.58013775 0.041447565897195254 50.21645239\n",
      "10 heavy_chain False 0.8291708291708292 True\n",
      "11 igg_type False 0.6063936063936064 True\n",
      "12 iga_type False 0.16483516483516483 True\n",
      "13 igm_type False 0.057942057942057944 True\n",
      "14 kappa_type False 0.6523476523476524 True\n",
      "15 lambda_type False 0.3076923076923077 True\n",
      "------\n",
      "------\n",
      "C] After cleaning\n",
      "0 iss 1.0 1.853668 3.0 False\n",
      "1 age -3.480064 -9.9083046e-08 2.7400453 False\n",
      "2 gender -1.0 -0.20879121 1.0 False\n",
      "3 ecog -0.06479224 -4.0967027e-08 0.23000352 False\n",
      "4 serum_beta2_microglobulin -0.3603527 -2.0388242e-07 1.275174 False\n",
      "5 PC1 -2.188161 -3.048709e-08 10.394317 False\n",
      "6 PC2 -2.6756823 -3.048709e-08 8.4237585 False\n",
      "7 PC3 -4.1062527 1.7148988e-08 3.89838 False\n",
      "8 PC4 -2.5129075 -1.2957014e-07 3.46624 False\n",
      "9 PC5 -2.772671 -2.2865319e-08 3.6978447 False\n",
      "10 heavy_chain 0.0 0.8291708 1.0 False\n",
      "11 igg_type 0.0 0.60639364 1.0 False\n",
      "12 iga_type 0.0 0.16483517 1.0 False\n",
      "13 igm_type 0.0 0.05794206 1.0 False\n",
      "14 kappa_type 0.0 0.6523476 1.0 False\n",
      "15 lambda_type 0.0 0.30769232 1.0 False\n"
     ]
    }
   ],
   "source": [
    "clean_baseline(new_dset, healthy_mins_max)"
   ]
  },
  {
   "cell_type": "code",
   "execution_count": 9,
   "metadata": {},
   "outputs": [
    {
     "name": "stdout",
     "output_type": "stream",
     "text": [
      "A] Before cleaning\n",
      "idx, featurename, min, mean, max\n",
      "0 iss 1.0 1.853668071059385 3.0\n",
      "1 age 27.0 63.926073926073926 93.0\n",
      "2 gender 1.0 1.3956043956043955 2.0\n",
      "3 ecog 0.0 0.8791469194312789 4.0\n",
      "4 serum_beta2_microglobulin 0.20800000000000002 5.097520940528193 22.400000000000002\n",
      "5 PC1 -30.66659494 -0.976063433574628 140.0614706\n",
      "6 PC2 -34.81806261 1.4875103276082826 115.7871011\n",
      "7 PC3 -57.38038138 -1.6638067204016924 51.23220332\n",
      "8 PC4 -36.28005205 -2.1831262046966544 44.84930211\n",
      "9 PC5 -37.58013775 0.041447565897195254 50.21645239\n",
      "10 heavy_chain False 0.8291708291708292 True\n",
      "11 igg_type False 0.6063936063936064 True\n",
      "12 iga_type False 0.16483516483516483 True\n",
      "13 igm_type False 0.057942057942057944 True\n",
      "14 kappa_type False 0.6523476523476524 True\n",
      "15 lambda_type False 0.3076923076923077 True\n",
      "------\n",
      "------\n",
      "C] After cleaning\n",
      "0 iss 1.0 1.853668 3.0 False\n",
      "1 age -3.480064 -9.9083046e-08 2.7400453 False\n",
      "2 gender -1.0 -0.20879121 1.0 False\n",
      "3 ecog -0.06479224 -4.0967027e-08 0.23000352 False\n",
      "4 serum_beta2_microglobulin -0.3603527 -2.0388242e-07 1.275174 False\n",
      "5 PC1 -2.188161 -3.048709e-08 10.394317 False\n",
      "6 PC2 -2.6756823 -3.048709e-08 8.4237585 False\n",
      "7 PC3 -4.1062527 1.7148988e-08 3.89838 False\n",
      "8 PC4 -2.5129075 -1.2957014e-07 3.46624 False\n",
      "9 PC5 -2.772671 -2.2865319e-08 3.6978447 False\n",
      "10 heavy_chain 0.0 0.8291708 1.0 False\n",
      "11 igg_type 0.0 0.60639364 1.0 False\n",
      "12 iga_type 0.0 0.16483517 1.0 False\n",
      "13 igm_type 0.0 0.05794206 1.0 False\n",
      "14 kappa_type 0.0 0.6523476 1.0 False\n",
      "15 lambda_type 0.0 0.30769232 1.0 False\n"
     ]
    }
   ],
   "source": [
    "clean_baseline(new_dset_2mos, healthy_mins_max)"
   ]
  },
  {
   "cell_type": "markdown",
   "metadata": {},
   "source": [
    "### Step 3: Clean time-series lab values"
   ]
  },
  {
   "cell_type": "code",
   "execution_count": 10,
   "metadata": {},
   "outputs": [
    {
     "name": "stdout",
     "output_type": "stream",
     "text": [
      "A] Before cleaning\n",
      "idx, featurename, min, mean, max\n",
      "0 cbc_abs_neut 0.0 0.5542281238936518 19.5\n",
      "1 chem_albumin 0.0 6.251427506925898 140.0\n",
      "2 chem_bun 0.0 1.0412365813140458 33.56\n",
      "3 chem_calcium 0.0 0.3764959806912488 4.25\n",
      "4 chem_creatinine 0.0 16.39650716946734 429.31999999999994\n",
      "5 chem_glucose 0.0 1.0082493905428316 32.775\n",
      "6 cbc_hemoglobin 0.0 1.2565035842953998 11.655999999999999\n",
      "7 serum_kappa -9.9 0.6324641695827694 14.66\n",
      "8 serum_m_protein 0.0 0.10583917037058109 5.6499999999999995\n",
      "9 cbc_platelet 0.0 31.652011377944348 732.0\n",
      "10 chem_totprot 0.0 1.1261252893887423 17.1\n",
      "11 cbc_wbc 0.0 0.9186640699125485 29.5\n",
      "12 serum_iga 0.0 0.20420696543294106 9.0\n",
      "13 serum_igg 0.0 1.6733545261523137 49.050000000000004\n",
      "14 serum_igm -0.16 0.05183053793373951 6.4\n",
      "15 serum_lambda 0.0 0.37882805921966684 11.35\n",
      "------\n",
      "B] Subtracting healthy max  7.5  from cbc_abs_neut  and scaling:  0.3333333333333333\n",
      "B] Subtracting healthy max  50  from chem_albumin  and scaling:  0.125\n",
      "B] Subtracting healthy max  7.1  from chem_bun  and scaling:  0.2\n",
      "B] Subtracting healthy max  2.7  from chem_calcium  and scaling:  2.0\n",
      "B] Subtracting healthy max  112  from chem_creatinine  and scaling:  0.027777777777777776\n",
      "B] Subtracting healthy max  6.9  from chem_glucose  and scaling:  0.2\n",
      "B] Subtracting healthy max  17.0  from cbc_hemoglobin  and scaling:  1\n",
      "B] Subtracting healthy max  1.94  from serum_kappa  and scaling:  0.125\n",
      "B] Subtracting healthy max  1.1  from serum_m_protein  and scaling:  1\n",
      "B] Subtracting healthy max  400  from cbc_platelet  and scaling:  0.016666666666666666\n",
      "B] Subtracting healthy max  8  from chem_totprot  and scaling:  0.16666666666666666\n",
      "B] Subtracting healthy max  10  from cbc_wbc  and scaling:  0.25\n",
      "B] Subtracting healthy max  4.99  from serum_iga  and scaling:  1.0\n",
      "B] Subtracting healthy max  16.16  from serum_igg  and scaling:  0.1\n",
      "B] Subtracting healthy max  2.42  from serum_igm  and scaling:  1\n",
      "B] Subtracting healthy max  2.63  from serum_lambda  and scaling:  0.5\n",
      "------\n",
      "C] After cleaning\n",
      "0 cbc_abs_neut -2.5 -2.3152573 4.0\n",
      "1 chem_albumin -6.25 -5.4685717 11.25\n",
      "2 chem_bun -1.42 -1.2117528 5.2920003\n",
      "3 chem_calcium -5.4 -4.6470084 3.1\n",
      "4 chem_creatinine -3.1111112 -2.6556523 8.814445\n",
      "5 chem_glucose -1.38 -1.17835 5.1750007\n",
      "6 cbc_hemoglobin -17.0 -15.743497 -5.344\n",
      "7 serum_kappa -1.48 -0.163442 1.5899999\n",
      "8 serum_m_protein -1.1 -0.994161 4.55\n",
      "9 cbc_platelet -6.666667 -6.1391325 5.533334\n",
      "10 chem_totprot -1.3333334 -1.1456457 1.5166668\n",
      "11 cbc_wbc -2.5 -2.2703338 4.875\n",
      "12 serum_iga -4.99 -4.7857924 4.01\n",
      "13 serum_igg -1.616 -1.4486644 3.289\n",
      "14 serum_igm -2.5800002 -2.3681693 3.98\n",
      "15 serum_lambda -1.315 -1.1255862 4.36\n",
      "A] Before cleaning\n",
      "idx, featurename, min, mean, max\n",
      "0 cbc_abs_neut 0.0 1.0902672549619474 19.5\n",
      "1 chem_albumin 0.0 12.312372768824096 140.0\n",
      "2 chem_bun 0.0 2.0498372894104 33.56\n",
      "3 chem_calcium 0.0 0.7414250434519432 4.25\n",
      "4 chem_creatinine 0.0 32.287103401387384 429.31999999999994\n",
      "5 chem_glucose 0.0 1.986142924820716 32.775\n",
      "6 cbc_hemoglobin 0.0 2.4734775466975414 11.655999999999999\n",
      "7 serum_kappa -9.9 1.2465940371039639 14.66\n",
      "8 serum_m_protein 0.0 0.20822361365007142 5.6499999999999995\n",
      "9 cbc_platelet 0.0 62.22258903809136 732.0\n",
      "10 chem_totprot 0.0 2.2178419570961356 17.1\n",
      "11 cbc_wbc 0.0 1.8061823159520005 29.5\n",
      "12 serum_iga 0.0 0.4021283073984404 9.0\n",
      "13 serum_igg 0.0 3.2990956354184826 49.050000000000004\n",
      "14 serum_igm -0.16 0.10228000239549648 6.4\n",
      "15 serum_lambda 0.0 0.7460897151456577 11.35\n",
      "------\n",
      "B] Subtracting healthy max  7.5  from cbc_abs_neut  and scaling:  0.3333333333333333\n",
      "B] Subtracting healthy max  50  from chem_albumin  and scaling:  0.125\n",
      "B] Subtracting healthy max  7.1  from chem_bun  and scaling:  0.2\n",
      "B] Subtracting healthy max  2.7  from chem_calcium  and scaling:  2.0\n",
      "B] Subtracting healthy max  112  from chem_creatinine  and scaling:  0.027777777777777776\n",
      "B] Subtracting healthy max  6.9  from chem_glucose  and scaling:  0.2\n",
      "B] Subtracting healthy max  17.0  from cbc_hemoglobin  and scaling:  1\n",
      "B] Subtracting healthy max  1.94  from serum_kappa  and scaling:  0.125\n",
      "B] Subtracting healthy max  1.1  from serum_m_protein  and scaling:  1\n",
      "B] Subtracting healthy max  400  from cbc_platelet  and scaling:  0.016666666666666666\n",
      "B] Subtracting healthy max  8  from chem_totprot  and scaling:  0.16666666666666666\n",
      "B] Subtracting healthy max  10  from cbc_wbc  and scaling:  0.25\n",
      "B] Subtracting healthy max  4.99  from serum_iga  and scaling:  1.0\n",
      "B] Subtracting healthy max  16.16  from serum_igg  and scaling:  0.1\n",
      "B] Subtracting healthy max  2.42  from serum_igm  and scaling:  1\n",
      "B] Subtracting healthy max  2.63  from serum_lambda  and scaling:  0.5\n",
      "------\n",
      "C] After cleaning\n",
      "0 cbc_abs_neut -2.5 -2.1365774 4.0\n",
      "1 chem_albumin -6.25 -4.7109537 11.25\n",
      "2 chem_bun -1.42 -1.0100324 5.2920003\n",
      "3 chem_calcium -5.4 -3.9171505 3.1\n",
      "4 chem_creatinine -3.1111112 -2.2142472 8.814445\n",
      "5 chem_glucose -1.38 -0.9827714 5.1750007\n",
      "6 cbc_hemoglobin -17.0 -14.526523 -5.344\n",
      "7 serum_kappa -1.48 -0.08667578 1.5899999\n",
      "8 serum_m_protein -1.1 -0.8917765 4.55\n",
      "9 cbc_platelet -6.666667 -5.6296234 5.533334\n",
      "10 chem_totprot -1.3333334 -0.96369296 1.5166668\n",
      "11 cbc_wbc -2.5 -2.0484543 4.875\n",
      "12 serum_iga -4.99 -4.587871 4.01\n",
      "13 serum_igg -1.616 -1.2860904 3.289\n",
      "14 serum_igm -2.5800002 -2.31772 3.98\n",
      "15 serum_lambda -1.315 -0.9419553 4.36\n"
     ]
    }
   ],
   "source": [
    "clean_labs(new_dset, healthy_mins_max)\n",
    "clean_labs(new_dset_2mos, healthy_mins_max)"
   ]
  },
  {
   "cell_type": "markdown",
   "metadata": {},
   "source": [
    "### Step 4: Get censorship balanced train/test splits"
   ]
  },
  {
   "cell_type": "code",
   "execution_count": 11,
   "metadata": {},
   "outputs": [
    {
     "name": "stdout",
     "output_type": "stream",
     "text": [
      "Total:  1001\n",
      "Total:  700\n",
      "Fold:  0 489 211\n",
      "Event obs:  125 55\n",
      "Total:  700\n",
      "Fold:  1 489 211\n",
      "Event obs:  125 55\n",
      "Total:  700\n",
      "Fold:  2 489 211\n",
      "Event obs:  125 55\n",
      "Total:  700\n",
      "Fold:  3 489 211\n",
      "Event obs:  125 55\n",
      "Total:  700\n",
      "Fold:  4 489 211\n",
      "Event obs:  125 55\n"
     ]
    }
   ],
   "source": [
    "if not os.path.exists('folds.pkl'):\n",
    "    train_valid_folds, testidx = get_splits(new_dset['event_obs'], nfolds = 5)\n",
    "    with open('folds.pkl','wb') as f:\n",
    "        pickle.dump((train_valid_folds, testidx),f)\n",
    "else:\n",
    "    print ('Reading...')\n",
    "    with open('folds.pkl','rb') as f:\n",
    "        train_valid_folds, testidx = pickle.load(f)"
   ]
  },
  {
   "cell_type": "markdown",
   "metadata": {},
   "source": [
    "### Step 5: Split dataset for 5 fold CV"
   ]
  },
  {
   "cell_type": "code",
   "execution_count": 12,
   "metadata": {},
   "outputs": [
    {
     "name": "stdout",
     "output_type": "stream",
     "text": [
      "Saving fold  0\n",
      "Before: N censored/total  364.0 489 0.7443762781186094\n",
      "After: N censored/total  336.0 437 0.7688787185354691\n",
      "Saving fold  1\n",
      "Before: N censored/total  364.0 489 0.7443762781186094\n",
      "After: N censored/total  339.0 438 0.773972602739726\n",
      "Saving fold  2\n",
      "Before: N censored/total  364.0 489 0.7443762781186094\n",
      "After: N censored/total  341.0 439 0.7767653758542141\n",
      "Saving fold  3\n",
      "Before: N censored/total  364.0 489 0.7443762781186094\n",
      "After: N censored/total  336.0 437 0.7688787185354691\n",
      "Saving fold  4\n",
      "Before: N censored/total  364.0 489 0.7443762781186094\n",
      "After: N censored/total  343.0 444 0.7725225225225225\n"
     ]
    }
   ],
   "source": [
    "if not os.path.exists('cleaned_data'):\n",
    "    os.mkdir('cleaned_data')\n",
    "    \n",
    "    \n",
    "for fold in range(5):\n",
    "    print ('Saving fold ', fold)\n",
    "    final_dataset = {}\n",
    "    final_dataset[fold] = {}\n",
    "    for tvt in ['train','valid','test']:\n",
    "        if  tvt =='test':\n",
    "            idx = testidx\n",
    "        elif tvt =='train':\n",
    "            idx = train_valid_folds[fold][0]\n",
    "        elif tvt == 'valid':\n",
    "            idx = train_valid_folds[fold][1]\n",
    "        else:\n",
    "            raise NotImplemented()\n",
    "        final_dataset[fold][tvt] = {}\n",
    "        final_dataset[fold][tvt]['pids']   = new_dset['patient_ids'][idx]\n",
    "        # labs\n",
    "        final_dataset[fold][tvt]['x']      = new_dset['labs_data_clean'][idx]\n",
    "        final_dataset[fold][tvt]['m']    = new_dset['labs_m'][idx]\n",
    "        final_dataset[fold][tvt]['feature_names_x']    = new_dset['labs_names']\n",
    "        # outcomes\n",
    "        final_dataset[fold][tvt]['ys_seq'] = new_dset['y_data'][idx].reshape(-1,1)\n",
    "        final_dataset[fold][tvt]['ce']     = (1.-new_dset['event_obs'][idx]).reshape(-1,1)\n",
    "        # baseline\n",
    "        final_dataset[fold][tvt]['b']      = new_dset['baseline_data_clean'][idx]\n",
    "        final_dataset[fold][tvt]['feature_names']    = new_dset['baseline_names']\n",
    "        # treatments\n",
    "        final_dataset[fold][tvt]['a']      = new_dset['treatment_data'][idx]\n",
    "        final_dataset[fold][tvt]['m_a']    = new_dset['treatment_m'][idx]\n",
    "        final_dataset[fold][tvt]['feature_names_a']    = new_dset['treatment_names']\n",
    "    \n",
    "    # Forward fill missing data in longitudinal lab tensors\n",
    "    for tvt in ['train','valid','test']:\n",
    "        x_new  = np.copy(final_dataset[fold][tvt]['x'])\n",
    "        x_new[final_dataset[fold][tvt]['m']==0] = np.nan\n",
    "        x_new_filled  = []\n",
    "        for k in range(x_new.shape[-1]):\n",
    "            x_new_filled.append(pd.DataFrame(x_new[...,k]).fillna(method='ffill', axis=1).values[...,None])\n",
    "        x_new_filled  = np.concatenate(x_new_filled, axis=-1)\n",
    "        assert not np.any(np.isnan(x_new_filled)),'should not be any nans'\n",
    "        final_dataset[fold][tvt]['x'] = x_new_filled\n",
    "    \n",
    "    # Restrict (in train/valid set) to patients with atleast two longitudinal observations\n",
    "    T_lb = 2\n",
    "    for tvt in ['train']:\n",
    "        M     = final_dataset[fold][tvt]['m']\n",
    "        M_t   = (M.sum(-1)>1.)*1.\n",
    "        all_t = M_t.sum(-1)\n",
    "        keep_idx = np.argwhere(all_t>T_lb).ravel()\n",
    "        if tvt == 'train':\n",
    "            C = final_dataset[fold][tvt]['ce']\n",
    "            print ('Before: N censored/total ',C.sum(), C.shape[0], C.sum()/C.shape[0])\n",
    "        for kk in ['a','x','m','ys_seq','ce','b','pids','m_a']:\n",
    "            final_dataset[fold][tvt][kk] = np.copy(final_dataset[fold][tvt][kk][keep_idx])\n",
    "        if tvt == 'train':\n",
    "            C = final_dataset[fold][tvt]['ce']\n",
    "            print ('After: N censored/total ',C.sum(), C.shape[0], C.sum()/C.shape[0])\n",
    "\n",
    "    with open('cleaned_mm'+str(fold)+'.pkl','wb') as f:\n",
    "        pickle.dump(final_dataset, f)"
   ]
  },
  {
   "cell_type": "code",
   "execution_count": 13,
   "metadata": {},
   "outputs": [
    {
     "data": {
      "text/plain": [
       "(1001, 33, 6)"
      ]
     },
     "execution_count": 13,
     "metadata": {},
     "output_type": "execute_result"
    }
   ],
   "source": [
    "new_dset_2mos['treatment_data'].shape"
   ]
  },
  {
   "cell_type": "code",
   "execution_count": 14,
   "metadata": {},
   "outputs": [
    {
     "name": "stdout",
     "output_type": "stream",
     "text": [
      "Saving fold  0\n",
      "Before: N censored/total  364.0 489 0.7443762781186094\n",
      "After: N censored/total  335.0 434 0.771889400921659\n",
      "(434, 33, 16)\n",
      "Saving fold  1\n",
      "Before: N censored/total  364.0 489 0.7443762781186094\n",
      "After: N censored/total  338.0 436 0.7752293577981652\n",
      "(436, 33, 16)\n",
      "Saving fold  2\n",
      "Before: N censored/total  364.0 489 0.7443762781186094\n",
      "After: N censored/total  340.0 437 0.7780320366132724\n",
      "(437, 33, 16)\n",
      "Saving fold  3\n",
      "Before: N censored/total  364.0 489 0.7443762781186094\n",
      "After: N censored/total  335.0 434 0.771889400921659\n",
      "(434, 33, 16)\n",
      "Saving fold  4\n",
      "Before: N censored/total  364.0 489 0.7443762781186094\n",
      "After: N censored/total  343.0 443 0.7742663656884876\n",
      "(443, 33, 16)\n"
     ]
    }
   ],
   "source": [
    "\n",
    "for fold in range(5):\n",
    "    print ('Saving fold ', fold)\n",
    "    final_dataset = {}\n",
    "    final_dataset[fold] = {}\n",
    "    for tvt in ['train','valid','test']:\n",
    "        if  tvt =='test':\n",
    "            idx = testidx\n",
    "        elif tvt =='train':\n",
    "            idx = train_valid_folds[fold][0]\n",
    "        elif tvt == 'valid':\n",
    "            idx = train_valid_folds[fold][1]\n",
    "        else:\n",
    "            raise NotImplemented()\n",
    "        final_dataset[fold][tvt] = {}\n",
    "        final_dataset[fold][tvt]['pids']               = new_dset_2mos['patient_ids'][idx]\n",
    "        # labs\n",
    "        final_dataset[fold][tvt]['x']                  = new_dset_2mos['labs_data_clean'][idx]\n",
    "        final_dataset[fold][tvt]['m']                  = new_dset_2mos['labs_m'][idx]\n",
    "        final_dataset[fold][tvt]['feature_names_x']    = new_dset_2mos['labs_names']\n",
    "        # outcomes\n",
    "        final_dataset[fold][tvt]['ys_seq'] = new_dset_2mos['y_data'][idx].reshape(-1,1)\n",
    "        final_dataset[fold][tvt]['ce']     = (1.-new_dset_2mos['event_obs'][idx]).reshape(-1,1)\n",
    "        # baseline\n",
    "        final_dataset[fold][tvt]['b']      = new_dset_2mos['baseline_data_clean'][idx]\n",
    "        final_dataset[fold][tvt]['feature_names']    = new_dset_2mos['baseline_names']\n",
    "        # treatments\n",
    "        final_dataset[fold][tvt]['a']      = new_dset_2mos['treatment_data'][idx]\n",
    "        final_dataset[fold][tvt]['m_a']    = new_dset_2mos['treatment_m'][idx]\n",
    "        final_dataset[fold][tvt]['feature_names_a']    = new_dset_2mos['treatment_names']\n",
    "    \n",
    "    # Forward fill missing data in longitudinal lab tensors\n",
    "    for tvt in ['train','valid','test']:\n",
    "        x_new  = np.copy(final_dataset[fold][tvt]['x'])\n",
    "        x_new[final_dataset[fold][tvt]['m']==0] = np.nan\n",
    "        x_new_filled  = []\n",
    "        for k in range(x_new.shape[-1]):\n",
    "            x_new_filled.append(pd.DataFrame(x_new[...,k]).fillna(method='ffill', axis=1).values[...,None])\n",
    "        x_new_filled  = np.concatenate(x_new_filled, axis=-1)\n",
    "        assert not np.any(np.isnan(x_new_filled)),'should not be any nans'\n",
    "        final_dataset[fold][tvt]['x'] = x_new_filled\n",
    "    \n",
    "    # Restrict (in train/valid set) to patients with atleast two longitudinal observations\n",
    "    T_lb = 2\n",
    "    for tvt in ['train']:\n",
    "        M     = final_dataset[fold][tvt]['m']\n",
    "        M_t   = (M.sum(-1)>1.)*1.\n",
    "        all_t = M_t.sum(-1)\n",
    "        keep_idx = np.argwhere(all_t>T_lb).ravel()\n",
    "        if tvt == 'train':\n",
    "            C = final_dataset[fold][tvt]['ce']\n",
    "            print ('Before: N censored/total ',C.sum(), C.shape[0], C.sum()/C.shape[0])\n",
    "        for kk in ['a','x','m','ys_seq','ce','b','pids','m_a']:\n",
    "            final_dataset[fold][tvt][kk] = np.copy(final_dataset[fold][tvt][kk][keep_idx])\n",
    "        if tvt == 'train':\n",
    "            C = final_dataset[fold][tvt]['ce']\n",
    "            print ('After: N censored/total ',C.sum(), C.shape[0], C.sum()/C.shape[0])\n",
    "    print (final_dataset[fold]['train']['x'].shape)\n",
    "    with open('cleaned_mm'+str(fold)+'_2mos.pkl','wb') as f:\n",
    "        pickle.dump(final_dataset, f)"
   ]
  },
  {
   "cell_type": "code",
   "execution_count": null,
   "metadata": {},
   "outputs": [],
   "source": []
  },
  {
   "cell_type": "code",
   "execution_count": null,
   "metadata": {},
   "outputs": [],
   "source": []
  }
 ],
 "metadata": {
  "kernelspec": {
   "display_name": "Python 3",
   "language": "python",
   "name": "python3"
  },
  "language_info": {
   "codemirror_mode": {
    "name": "ipython",
    "version": 3
   },
   "file_extension": ".py",
   "mimetype": "text/x-python",
   "name": "python",
   "nbconvert_exporter": "python",
   "pygments_lexer": "ipython3",
   "version": "3.7.3"
  }
 },
 "nbformat": 4,
 "nbformat_minor": 4
}
